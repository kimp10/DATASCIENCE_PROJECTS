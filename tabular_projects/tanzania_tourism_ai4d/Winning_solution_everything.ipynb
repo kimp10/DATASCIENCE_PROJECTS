{
  "cells": [
    {
      "cell_type": "markdown",
      "metadata": {
        "id": "view-in-github",
        "colab_type": "text"
      },
      "source": [
        "<a href=\"https://colab.research.google.com/github/koleshjr/AI4D-LAB-HACKATHON-CHALLENGE/blob/main/Winning_solution_everything.ipynb\" target=\"_parent\"><img src=\"https://colab.research.google.com/assets/colab-badge.svg\" alt=\"Open In Colab\"/></a>"
      ]
    },
    {
      "cell_type": "markdown",
      "metadata": {
        "id": "A8hJzadXve9Z"
      },
      "source": [
        "# Tanzania Tourism EDA"
      ]
    },
    {
      "cell_type": "code",
      "source": [
        "!pip install catboost"
      ],
      "metadata": {
        "colab": {
          "base_uri": "https://localhost:8080/"
        },
        "id": "95GBENiuviNd",
        "outputId": "6de99016-3b6a-4557-c534-c006beb25ec1"
      },
      "execution_count": null,
      "outputs": [
        {
          "output_type": "stream",
          "name": "stdout",
          "text": [
            "Looking in indexes: https://pypi.org/simple, https://us-python.pkg.dev/colab-wheels/public/simple/\n",
            "Collecting catboost\n",
            "  Downloading catboost-1.0.6-cp37-none-manylinux1_x86_64.whl (76.6 MB)\n",
            "\u001b[K     |████████████████████████████████| 76.6 MB 1.2 MB/s \n",
            "\u001b[?25hRequirement already satisfied: plotly in /usr/local/lib/python3.7/dist-packages (from catboost) (5.5.0)\n",
            "Requirement already satisfied: scipy in /usr/local/lib/python3.7/dist-packages (from catboost) (1.4.1)\n",
            "Requirement already satisfied: six in /usr/local/lib/python3.7/dist-packages (from catboost) (1.15.0)\n",
            "Requirement already satisfied: graphviz in /usr/local/lib/python3.7/dist-packages (from catboost) (0.10.1)\n",
            "Requirement already satisfied: pandas>=0.24.0 in /usr/local/lib/python3.7/dist-packages (from catboost) (1.3.5)\n",
            "Requirement already satisfied: numpy>=1.16.0 in /usr/local/lib/python3.7/dist-packages (from catboost) (1.21.6)\n",
            "Requirement already satisfied: matplotlib in /usr/local/lib/python3.7/dist-packages (from catboost) (3.2.2)\n",
            "Requirement already satisfied: pytz>=2017.3 in /usr/local/lib/python3.7/dist-packages (from pandas>=0.24.0->catboost) (2022.1)\n",
            "Requirement already satisfied: python-dateutil>=2.7.3 in /usr/local/lib/python3.7/dist-packages (from pandas>=0.24.0->catboost) (2.8.2)\n",
            "Requirement already satisfied: cycler>=0.10 in /usr/local/lib/python3.7/dist-packages (from matplotlib->catboost) (0.11.0)\n",
            "Requirement already satisfied: pyparsing!=2.0.4,!=2.1.2,!=2.1.6,>=2.0.1 in /usr/local/lib/python3.7/dist-packages (from matplotlib->catboost) (3.0.9)\n",
            "Requirement already satisfied: kiwisolver>=1.0.1 in /usr/local/lib/python3.7/dist-packages (from matplotlib->catboost) (1.4.3)\n",
            "Requirement already satisfied: typing-extensions in /usr/local/lib/python3.7/dist-packages (from kiwisolver>=1.0.1->matplotlib->catboost) (4.1.1)\n",
            "Requirement already satisfied: tenacity>=6.2.0 in /usr/local/lib/python3.7/dist-packages (from plotly->catboost) (8.0.1)\n",
            "Installing collected packages: catboost\n",
            "Successfully installed catboost-1.0.6\n"
          ]
        }
      ]
    },
    {
      "cell_type": "code",
      "execution_count": null,
      "metadata": {
        "colab": {
          "base_uri": "https://localhost:8080/"
        },
        "id": "n-N0ROErve9d",
        "outputId": "7a9f3f52-84bf-4442-861a-5682344bd560"
      },
      "outputs": [
        {
          "output_type": "stream",
          "name": "stdout",
          "text": [
            "Mounted at /content/drive\n"
          ]
        }
      ],
      "source": [
        "from google.colab import drive\n",
        "drive.mount('/content/drive')"
      ]
    },
    {
      "cell_type": "markdown",
      "metadata": {
        "id": "KBtWrKVCve9g"
      },
      "source": [
        "## Import necessary Libraries and load the data"
      ]
    },
    {
      "cell_type": "code",
      "execution_count": null,
      "metadata": {
        "id": "hBrMd5Ieve9h"
      },
      "outputs": [],
      "source": [
        "#Import some libraries\n",
        "import pandas as pd\n",
        "import numpy as np\n",
        "import gc\n",
        "import matplotlib.pyplot as plt\n",
        "import plotly.express as px\n",
        "from pylab import rcParams\n",
        "import seaborn as sb\n",
        "sb.set_style('darkgrid')\n",
        "rcParams['figure.figsize'] = 8,8\n",
        "import warnings\n",
        "warnings.filterwarnings(\"ignore\")\n",
        "%matplotlib inline\n",
        "\n",
        "import catboost as catt\n",
        "\n",
        "from sklearn.metrics import log_loss\n",
        "from sklearn.model_selection import StratifiedKFold,StratifiedGroupKFold,KFold,RepeatedStratifiedKFold,train_test_split\n",
        "\n",
        "pd.options.display.max_rows = 2200"
      ]
    },
    {
      "cell_type": "code",
      "execution_count": null,
      "metadata": {
        "id": "nqt1L01Dve9j"
      },
      "outputs": [],
      "source": [
        "path = \"/content/drive/MyDrive/Tourism_wINNER/\""
      ]
    },
    {
      "cell_type": "code",
      "execution_count": null,
      "metadata": {
        "id": "ESEFsu1ive9k"
      },
      "outputs": [],
      "source": [
        "#import data\n",
        "train = pd.read_csv(path+'Train.csv')\n",
        "test=  pd.read_csv(path+'Test.csv')\n",
        "submission = pd.read_csv(path+'SampleSubmission.csv')\n"
      ]
    },
    {
      "cell_type": "code",
      "execution_count": null,
      "metadata": {
        "colab": {
          "base_uri": "https://localhost:8080/"
        },
        "id": "oJxWK2irve9l",
        "outputId": "79a06936-2373-4d1c-9103-eab2f3bf2296"
      },
      "outputs": [
        {
          "output_type": "execute_result",
          "data": {
            "text/plain": [
              "((18506, 21), (6169, 20))"
            ]
          },
          "metadata": {},
          "execution_count": 7
        }
      ],
      "source": [
        "train.shape,test.shape"
      ]
    },
    {
      "cell_type": "code",
      "execution_count": null,
      "metadata": {
        "colab": {
          "base_uri": "https://localhost:8080/",
          "height": 526
        },
        "id": "X0Fm_zaeve9m",
        "outputId": "ea86a5ef-f3f6-4213-fd39-078821aa6920"
      },
      "outputs": [
        {
          "output_type": "execute_result",
          "data": {
            "text/plain": [
              "           Tour_ID                   country age_group  \\\n",
              "0  tour_id1hffseyw                     ITALY     45-64   \n",
              "1  tour_idnacd7zag            UNITED KINGDOM     25-44   \n",
              "2  tour_id62vz7e71  UNITED STATES OF AMERICA       65+   \n",
              "3  tour_idrc76tzix                    RWANDA     25-44   \n",
              "4  tour_idn723m0n9  UNITED STATES OF AMERICA     45-64   \n",
              "\n",
              "                travel_with  total_female  total_male  \\\n",
              "0             With Children           0.0         2.0   \n",
              "1               With Spouse           1.0         1.0   \n",
              "2               With Spouse           1.0         1.0   \n",
              "3  With Spouse and Children           3.0         1.0   \n",
              "4                     Alone           0.0         1.0   \n",
              "\n",
              "                          purpose     main_activity  \\\n",
              "0  Visiting Friends and Relatives     Beach Tourism   \n",
              "1            Leisure and Holidays  Wildlife Tourism   \n",
              "2            Leisure and Holidays   Widlife Tourism   \n",
              "3            Leisure and Holidays     Beach Tourism   \n",
              "4            Leisure and Holidays   Widlife Tourism   \n",
              "\n",
              "                   info_source tour_arrangement  ... package_accomodation  \\\n",
              "0           Friends, relatives     Package Tour  ...                  Yes   \n",
              "1  Travel agent, tour operator     Package Tour  ...                  Yes   \n",
              "2  Travel agent, tour operator     Package Tour  ...                  Yes   \n",
              "3               Radio, TV, Web      Independent  ...                   No   \n",
              "4  Travel agent, tour operator     Package Tour  ...                  Yes   \n",
              "\n",
              "  package_food package_transport_tz package_sightseeing package_guided_tour  \\\n",
              "0          Yes                  Yes                  No                  No   \n",
              "1          Yes                  Yes                  No                  No   \n",
              "2          Yes                  Yes                 Yes                 Yes   \n",
              "3           No                   No                  No                  No   \n",
              "4          Yes                  Yes                  No                 Yes   \n",
              "\n",
              "  package_insurance night_mainland  night_zanzibar  first_trip_tz  \\\n",
              "0                No              0               7            Yes   \n",
              "1                No              0               7            Yes   \n",
              "2                No              6               6            Yes   \n",
              "3                No              3               0             No   \n",
              "4               Yes              7               0            Yes   \n",
              "\n",
              "  cost_category  \n",
              "0     High Cost  \n",
              "1     High Cost  \n",
              "2   Higher Cost  \n",
              "3    Lower Cost  \n",
              "4   Higher Cost  \n",
              "\n",
              "[5 rows x 21 columns]"
            ],
            "text/html": [
              "\n",
              "  <div id=\"df-e9bcd79c-495d-462d-916f-86fe06f9dc27\">\n",
              "    <div class=\"colab-df-container\">\n",
              "      <div>\n",
              "<style scoped>\n",
              "    .dataframe tbody tr th:only-of-type {\n",
              "        vertical-align: middle;\n",
              "    }\n",
              "\n",
              "    .dataframe tbody tr th {\n",
              "        vertical-align: top;\n",
              "    }\n",
              "\n",
              "    .dataframe thead th {\n",
              "        text-align: right;\n",
              "    }\n",
              "</style>\n",
              "<table border=\"1\" class=\"dataframe\">\n",
              "  <thead>\n",
              "    <tr style=\"text-align: right;\">\n",
              "      <th></th>\n",
              "      <th>Tour_ID</th>\n",
              "      <th>country</th>\n",
              "      <th>age_group</th>\n",
              "      <th>travel_with</th>\n",
              "      <th>total_female</th>\n",
              "      <th>total_male</th>\n",
              "      <th>purpose</th>\n",
              "      <th>main_activity</th>\n",
              "      <th>info_source</th>\n",
              "      <th>tour_arrangement</th>\n",
              "      <th>...</th>\n",
              "      <th>package_accomodation</th>\n",
              "      <th>package_food</th>\n",
              "      <th>package_transport_tz</th>\n",
              "      <th>package_sightseeing</th>\n",
              "      <th>package_guided_tour</th>\n",
              "      <th>package_insurance</th>\n",
              "      <th>night_mainland</th>\n",
              "      <th>night_zanzibar</th>\n",
              "      <th>first_trip_tz</th>\n",
              "      <th>cost_category</th>\n",
              "    </tr>\n",
              "  </thead>\n",
              "  <tbody>\n",
              "    <tr>\n",
              "      <th>0</th>\n",
              "      <td>tour_id1hffseyw</td>\n",
              "      <td>ITALY</td>\n",
              "      <td>45-64</td>\n",
              "      <td>With Children</td>\n",
              "      <td>0.0</td>\n",
              "      <td>2.0</td>\n",
              "      <td>Visiting Friends and Relatives</td>\n",
              "      <td>Beach Tourism</td>\n",
              "      <td>Friends, relatives</td>\n",
              "      <td>Package Tour</td>\n",
              "      <td>...</td>\n",
              "      <td>Yes</td>\n",
              "      <td>Yes</td>\n",
              "      <td>Yes</td>\n",
              "      <td>No</td>\n",
              "      <td>No</td>\n",
              "      <td>No</td>\n",
              "      <td>0</td>\n",
              "      <td>7</td>\n",
              "      <td>Yes</td>\n",
              "      <td>High Cost</td>\n",
              "    </tr>\n",
              "    <tr>\n",
              "      <th>1</th>\n",
              "      <td>tour_idnacd7zag</td>\n",
              "      <td>UNITED KINGDOM</td>\n",
              "      <td>25-44</td>\n",
              "      <td>With Spouse</td>\n",
              "      <td>1.0</td>\n",
              "      <td>1.0</td>\n",
              "      <td>Leisure and Holidays</td>\n",
              "      <td>Wildlife Tourism</td>\n",
              "      <td>Travel agent, tour operator</td>\n",
              "      <td>Package Tour</td>\n",
              "      <td>...</td>\n",
              "      <td>Yes</td>\n",
              "      <td>Yes</td>\n",
              "      <td>Yes</td>\n",
              "      <td>No</td>\n",
              "      <td>No</td>\n",
              "      <td>No</td>\n",
              "      <td>0</td>\n",
              "      <td>7</td>\n",
              "      <td>Yes</td>\n",
              "      <td>High Cost</td>\n",
              "    </tr>\n",
              "    <tr>\n",
              "      <th>2</th>\n",
              "      <td>tour_id62vz7e71</td>\n",
              "      <td>UNITED STATES OF AMERICA</td>\n",
              "      <td>65+</td>\n",
              "      <td>With Spouse</td>\n",
              "      <td>1.0</td>\n",
              "      <td>1.0</td>\n",
              "      <td>Leisure and Holidays</td>\n",
              "      <td>Widlife Tourism</td>\n",
              "      <td>Travel agent, tour operator</td>\n",
              "      <td>Package Tour</td>\n",
              "      <td>...</td>\n",
              "      <td>Yes</td>\n",
              "      <td>Yes</td>\n",
              "      <td>Yes</td>\n",
              "      <td>Yes</td>\n",
              "      <td>Yes</td>\n",
              "      <td>No</td>\n",
              "      <td>6</td>\n",
              "      <td>6</td>\n",
              "      <td>Yes</td>\n",
              "      <td>Higher Cost</td>\n",
              "    </tr>\n",
              "    <tr>\n",
              "      <th>3</th>\n",
              "      <td>tour_idrc76tzix</td>\n",
              "      <td>RWANDA</td>\n",
              "      <td>25-44</td>\n",
              "      <td>With Spouse and Children</td>\n",
              "      <td>3.0</td>\n",
              "      <td>1.0</td>\n",
              "      <td>Leisure and Holidays</td>\n",
              "      <td>Beach Tourism</td>\n",
              "      <td>Radio, TV, Web</td>\n",
              "      <td>Independent</td>\n",
              "      <td>...</td>\n",
              "      <td>No</td>\n",
              "      <td>No</td>\n",
              "      <td>No</td>\n",
              "      <td>No</td>\n",
              "      <td>No</td>\n",
              "      <td>No</td>\n",
              "      <td>3</td>\n",
              "      <td>0</td>\n",
              "      <td>No</td>\n",
              "      <td>Lower Cost</td>\n",
              "    </tr>\n",
              "    <tr>\n",
              "      <th>4</th>\n",
              "      <td>tour_idn723m0n9</td>\n",
              "      <td>UNITED STATES OF AMERICA</td>\n",
              "      <td>45-64</td>\n",
              "      <td>Alone</td>\n",
              "      <td>0.0</td>\n",
              "      <td>1.0</td>\n",
              "      <td>Leisure and Holidays</td>\n",
              "      <td>Widlife Tourism</td>\n",
              "      <td>Travel agent, tour operator</td>\n",
              "      <td>Package Tour</td>\n",
              "      <td>...</td>\n",
              "      <td>Yes</td>\n",
              "      <td>Yes</td>\n",
              "      <td>Yes</td>\n",
              "      <td>No</td>\n",
              "      <td>Yes</td>\n",
              "      <td>Yes</td>\n",
              "      <td>7</td>\n",
              "      <td>0</td>\n",
              "      <td>Yes</td>\n",
              "      <td>Higher Cost</td>\n",
              "    </tr>\n",
              "  </tbody>\n",
              "</table>\n",
              "<p>5 rows × 21 columns</p>\n",
              "</div>\n",
              "      <button class=\"colab-df-convert\" onclick=\"convertToInteractive('df-e9bcd79c-495d-462d-916f-86fe06f9dc27')\"\n",
              "              title=\"Convert this dataframe to an interactive table.\"\n",
              "              style=\"display:none;\">\n",
              "        \n",
              "  <svg xmlns=\"http://www.w3.org/2000/svg\" height=\"24px\"viewBox=\"0 0 24 24\"\n",
              "       width=\"24px\">\n",
              "    <path d=\"M0 0h24v24H0V0z\" fill=\"none\"/>\n",
              "    <path d=\"M18.56 5.44l.94 2.06.94-2.06 2.06-.94-2.06-.94-.94-2.06-.94 2.06-2.06.94zm-11 1L8.5 8.5l.94-2.06 2.06-.94-2.06-.94L8.5 2.5l-.94 2.06-2.06.94zm10 10l.94 2.06.94-2.06 2.06-.94-2.06-.94-.94-2.06-.94 2.06-2.06.94z\"/><path d=\"M17.41 7.96l-1.37-1.37c-.4-.4-.92-.59-1.43-.59-.52 0-1.04.2-1.43.59L10.3 9.45l-7.72 7.72c-.78.78-.78 2.05 0 2.83L4 21.41c.39.39.9.59 1.41.59.51 0 1.02-.2 1.41-.59l7.78-7.78 2.81-2.81c.8-.78.8-2.07 0-2.86zM5.41 20L4 18.59l7.72-7.72 1.47 1.35L5.41 20z\"/>\n",
              "  </svg>\n",
              "      </button>\n",
              "      \n",
              "  <style>\n",
              "    .colab-df-container {\n",
              "      display:flex;\n",
              "      flex-wrap:wrap;\n",
              "      gap: 12px;\n",
              "    }\n",
              "\n",
              "    .colab-df-convert {\n",
              "      background-color: #E8F0FE;\n",
              "      border: none;\n",
              "      border-radius: 50%;\n",
              "      cursor: pointer;\n",
              "      display: none;\n",
              "      fill: #1967D2;\n",
              "      height: 32px;\n",
              "      padding: 0 0 0 0;\n",
              "      width: 32px;\n",
              "    }\n",
              "\n",
              "    .colab-df-convert:hover {\n",
              "      background-color: #E2EBFA;\n",
              "      box-shadow: 0px 1px 2px rgba(60, 64, 67, 0.3), 0px 1px 3px 1px rgba(60, 64, 67, 0.15);\n",
              "      fill: #174EA6;\n",
              "    }\n",
              "\n",
              "    [theme=dark] .colab-df-convert {\n",
              "      background-color: #3B4455;\n",
              "      fill: #D2E3FC;\n",
              "    }\n",
              "\n",
              "    [theme=dark] .colab-df-convert:hover {\n",
              "      background-color: #434B5C;\n",
              "      box-shadow: 0px 1px 3px 1px rgba(0, 0, 0, 0.15);\n",
              "      filter: drop-shadow(0px 1px 2px rgba(0, 0, 0, 0.3));\n",
              "      fill: #FFFFFF;\n",
              "    }\n",
              "  </style>\n",
              "\n",
              "      <script>\n",
              "        const buttonEl =\n",
              "          document.querySelector('#df-e9bcd79c-495d-462d-916f-86fe06f9dc27 button.colab-df-convert');\n",
              "        buttonEl.style.display =\n",
              "          google.colab.kernel.accessAllowed ? 'block' : 'none';\n",
              "\n",
              "        async function convertToInteractive(key) {\n",
              "          const element = document.querySelector('#df-e9bcd79c-495d-462d-916f-86fe06f9dc27');\n",
              "          const dataTable =\n",
              "            await google.colab.kernel.invokeFunction('convertToInteractive',\n",
              "                                                     [key], {});\n",
              "          if (!dataTable) return;\n",
              "\n",
              "          const docLinkHtml = 'Like what you see? Visit the ' +\n",
              "            '<a target=\"_blank\" href=https://colab.research.google.com/notebooks/data_table.ipynb>data table notebook</a>'\n",
              "            + ' to learn more about interactive tables.';\n",
              "          element.innerHTML = '';\n",
              "          dataTable['output_type'] = 'display_data';\n",
              "          await google.colab.output.renderOutput(dataTable, element);\n",
              "          const docLink = document.createElement('div');\n",
              "          docLink.innerHTML = docLinkHtml;\n",
              "          element.appendChild(docLink);\n",
              "        }\n",
              "      </script>\n",
              "    </div>\n",
              "  </div>\n",
              "  "
            ]
          },
          "metadata": {},
          "execution_count": 8
        }
      ],
      "source": [
        "train.head()"
      ]
    },
    {
      "cell_type": "markdown",
      "metadata": {
        "id": "LVqorAAFve9o"
      },
      "source": [
        "### DATA STATISTICAL INFORMATION"
      ]
    },
    {
      "cell_type": "code",
      "execution_count": null,
      "metadata": {
        "colab": {
          "base_uri": "https://localhost:8080/"
        },
        "id": "9LRof82Ive9p",
        "outputId": "7b0ae13b-c468-4deb-af66-6ef75633e7f4"
      },
      "outputs": [
        {
          "output_type": "stream",
          "name": "stdout",
          "text": [
            "<class 'pandas.core.frame.DataFrame'>\n",
            "RangeIndex: 18506 entries, 0 to 18505\n",
            "Data columns (total 21 columns):\n",
            " #   Column                 Non-Null Count  Dtype  \n",
            "---  ------                 --------------  -----  \n",
            " 0   Tour_ID                18506 non-null  object \n",
            " 1   country                18506 non-null  object \n",
            " 2   age_group              18506 non-null  object \n",
            " 3   travel_with            17431 non-null  object \n",
            " 4   total_female           18504 non-null  float64\n",
            " 5   total_male             18500 non-null  float64\n",
            " 6   purpose                18506 non-null  object \n",
            " 7   main_activity          18506 non-null  object \n",
            " 8   info_source            18506 non-null  object \n",
            " 9   tour_arrangement       18506 non-null  object \n",
            " 10  package_transport_int  18506 non-null  object \n",
            " 11  package_accomodation   18506 non-null  object \n",
            " 12  package_food           18506 non-null  object \n",
            " 13  package_transport_tz   18506 non-null  object \n",
            " 14  package_sightseeing    18506 non-null  object \n",
            " 15  package_guided_tour    18506 non-null  object \n",
            " 16  package_insurance      18506 non-null  object \n",
            " 17  night_mainland         18506 non-null  int64  \n",
            " 18  night_zanzibar         18506 non-null  int64  \n",
            " 19  first_trip_tz          18506 non-null  object \n",
            " 20  cost_category          18506 non-null  object \n",
            "dtypes: float64(2), int64(2), object(17)\n",
            "memory usage: 3.0+ MB\n"
          ]
        }
      ],
      "source": [
        "train.info()"
      ]
    },
    {
      "cell_type": "markdown",
      "metadata": {
        "id": "_kRBmWX2ve9r"
      },
      "source": [
        "#### We can see a mixture of object columns and int ones with object columns being the majority ones"
      ]
    },
    {
      "cell_type": "code",
      "execution_count": null,
      "metadata": {
        "colab": {
          "base_uri": "https://localhost:8080/",
          "height": 175
        },
        "id": "746vey_pve9s",
        "outputId": "faa362c9-b548-4162-c93a-344eb2e6692a"
      },
      "outputs": [
        {
          "output_type": "execute_result",
          "data": {
            "text/plain": [
              "                  count      mean        std  min  25%  50%   75%    max\n",
              "total_female    18504.0  0.936230   1.215582  0.0  0.0  1.0   1.0   49.0\n",
              "total_male      18500.0  0.998757   1.173177  0.0  1.0  1.0   1.0   58.0\n",
              "night_mainland  18506.0  9.141576  14.127449  0.0  3.0  6.0  11.0  365.0\n",
              "night_zanzibar  18506.0  2.493516   5.275156  0.0  0.0  0.0   4.0  240.0"
            ],
            "text/html": [
              "\n",
              "  <div id=\"df-8f42c790-246c-4861-8ac1-abe86a12b705\">\n",
              "    <div class=\"colab-df-container\">\n",
              "      <div>\n",
              "<style scoped>\n",
              "    .dataframe tbody tr th:only-of-type {\n",
              "        vertical-align: middle;\n",
              "    }\n",
              "\n",
              "    .dataframe tbody tr th {\n",
              "        vertical-align: top;\n",
              "    }\n",
              "\n",
              "    .dataframe thead th {\n",
              "        text-align: right;\n",
              "    }\n",
              "</style>\n",
              "<table border=\"1\" class=\"dataframe\">\n",
              "  <thead>\n",
              "    <tr style=\"text-align: right;\">\n",
              "      <th></th>\n",
              "      <th>count</th>\n",
              "      <th>mean</th>\n",
              "      <th>std</th>\n",
              "      <th>min</th>\n",
              "      <th>25%</th>\n",
              "      <th>50%</th>\n",
              "      <th>75%</th>\n",
              "      <th>max</th>\n",
              "    </tr>\n",
              "  </thead>\n",
              "  <tbody>\n",
              "    <tr>\n",
              "      <th>total_female</th>\n",
              "      <td>18504.0</td>\n",
              "      <td>0.936230</td>\n",
              "      <td>1.215582</td>\n",
              "      <td>0.0</td>\n",
              "      <td>0.0</td>\n",
              "      <td>1.0</td>\n",
              "      <td>1.0</td>\n",
              "      <td>49.0</td>\n",
              "    </tr>\n",
              "    <tr>\n",
              "      <th>total_male</th>\n",
              "      <td>18500.0</td>\n",
              "      <td>0.998757</td>\n",
              "      <td>1.173177</td>\n",
              "      <td>0.0</td>\n",
              "      <td>1.0</td>\n",
              "      <td>1.0</td>\n",
              "      <td>1.0</td>\n",
              "      <td>58.0</td>\n",
              "    </tr>\n",
              "    <tr>\n",
              "      <th>night_mainland</th>\n",
              "      <td>18506.0</td>\n",
              "      <td>9.141576</td>\n",
              "      <td>14.127449</td>\n",
              "      <td>0.0</td>\n",
              "      <td>3.0</td>\n",
              "      <td>6.0</td>\n",
              "      <td>11.0</td>\n",
              "      <td>365.0</td>\n",
              "    </tr>\n",
              "    <tr>\n",
              "      <th>night_zanzibar</th>\n",
              "      <td>18506.0</td>\n",
              "      <td>2.493516</td>\n",
              "      <td>5.275156</td>\n",
              "      <td>0.0</td>\n",
              "      <td>0.0</td>\n",
              "      <td>0.0</td>\n",
              "      <td>4.0</td>\n",
              "      <td>240.0</td>\n",
              "    </tr>\n",
              "  </tbody>\n",
              "</table>\n",
              "</div>\n",
              "      <button class=\"colab-df-convert\" onclick=\"convertToInteractive('df-8f42c790-246c-4861-8ac1-abe86a12b705')\"\n",
              "              title=\"Convert this dataframe to an interactive table.\"\n",
              "              style=\"display:none;\">\n",
              "        \n",
              "  <svg xmlns=\"http://www.w3.org/2000/svg\" height=\"24px\"viewBox=\"0 0 24 24\"\n",
              "       width=\"24px\">\n",
              "    <path d=\"M0 0h24v24H0V0z\" fill=\"none\"/>\n",
              "    <path d=\"M18.56 5.44l.94 2.06.94-2.06 2.06-.94-2.06-.94-.94-2.06-.94 2.06-2.06.94zm-11 1L8.5 8.5l.94-2.06 2.06-.94-2.06-.94L8.5 2.5l-.94 2.06-2.06.94zm10 10l.94 2.06.94-2.06 2.06-.94-2.06-.94-.94-2.06-.94 2.06-2.06.94z\"/><path d=\"M17.41 7.96l-1.37-1.37c-.4-.4-.92-.59-1.43-.59-.52 0-1.04.2-1.43.59L10.3 9.45l-7.72 7.72c-.78.78-.78 2.05 0 2.83L4 21.41c.39.39.9.59 1.41.59.51 0 1.02-.2 1.41-.59l7.78-7.78 2.81-2.81c.8-.78.8-2.07 0-2.86zM5.41 20L4 18.59l7.72-7.72 1.47 1.35L5.41 20z\"/>\n",
              "  </svg>\n",
              "      </button>\n",
              "      \n",
              "  <style>\n",
              "    .colab-df-container {\n",
              "      display:flex;\n",
              "      flex-wrap:wrap;\n",
              "      gap: 12px;\n",
              "    }\n",
              "\n",
              "    .colab-df-convert {\n",
              "      background-color: #E8F0FE;\n",
              "      border: none;\n",
              "      border-radius: 50%;\n",
              "      cursor: pointer;\n",
              "      display: none;\n",
              "      fill: #1967D2;\n",
              "      height: 32px;\n",
              "      padding: 0 0 0 0;\n",
              "      width: 32px;\n",
              "    }\n",
              "\n",
              "    .colab-df-convert:hover {\n",
              "      background-color: #E2EBFA;\n",
              "      box-shadow: 0px 1px 2px rgba(60, 64, 67, 0.3), 0px 1px 3px 1px rgba(60, 64, 67, 0.15);\n",
              "      fill: #174EA6;\n",
              "    }\n",
              "\n",
              "    [theme=dark] .colab-df-convert {\n",
              "      background-color: #3B4455;\n",
              "      fill: #D2E3FC;\n",
              "    }\n",
              "\n",
              "    [theme=dark] .colab-df-convert:hover {\n",
              "      background-color: #434B5C;\n",
              "      box-shadow: 0px 1px 3px 1px rgba(0, 0, 0, 0.15);\n",
              "      filter: drop-shadow(0px 1px 2px rgba(0, 0, 0, 0.3));\n",
              "      fill: #FFFFFF;\n",
              "    }\n",
              "  </style>\n",
              "\n",
              "      <script>\n",
              "        const buttonEl =\n",
              "          document.querySelector('#df-8f42c790-246c-4861-8ac1-abe86a12b705 button.colab-df-convert');\n",
              "        buttonEl.style.display =\n",
              "          google.colab.kernel.accessAllowed ? 'block' : 'none';\n",
              "\n",
              "        async function convertToInteractive(key) {\n",
              "          const element = document.querySelector('#df-8f42c790-246c-4861-8ac1-abe86a12b705');\n",
              "          const dataTable =\n",
              "            await google.colab.kernel.invokeFunction('convertToInteractive',\n",
              "                                                     [key], {});\n",
              "          if (!dataTable) return;\n",
              "\n",
              "          const docLinkHtml = 'Like what you see? Visit the ' +\n",
              "            '<a target=\"_blank\" href=https://colab.research.google.com/notebooks/data_table.ipynb>data table notebook</a>'\n",
              "            + ' to learn more about interactive tables.';\n",
              "          element.innerHTML = '';\n",
              "          dataTable['output_type'] = 'display_data';\n",
              "          await google.colab.output.renderOutput(dataTable, element);\n",
              "          const docLink = document.createElement('div');\n",
              "          docLink.innerHTML = docLinkHtml;\n",
              "          element.appendChild(docLink);\n",
              "        }\n",
              "      </script>\n",
              "    </div>\n",
              "  </div>\n",
              "  "
            ]
          },
          "metadata": {},
          "execution_count": 10
        }
      ],
      "source": [
        "train.describe().T"
      ]
    },
    {
      "cell_type": "markdown",
      "metadata": {
        "id": "g2Daohyyve9s"
      },
      "source": [
        "#### The max is so far away from the 75th percentile in almost all cols, Are those outliers??  we will see"
      ]
    },
    {
      "cell_type": "markdown",
      "metadata": {
        "id": "qZB9lU49ve9t"
      },
      "source": [
        "## Missing values"
      ]
    },
    {
      "cell_type": "code",
      "execution_count": null,
      "metadata": {
        "colab": {
          "base_uri": "https://localhost:8080/",
          "height": 708
        },
        "id": "imZrGZVfve9u",
        "outputId": "18445318-cb96-4d97-e951-45d0583f362e"
      },
      "outputs": [
        {
          "output_type": "execute_result",
          "data": {
            "text/plain": [
              "                                 column_name  percent_missing\n",
              "Tour_ID                              Tour_ID         0.000000\n",
              "country                              country         0.000000\n",
              "age_group                          age_group         0.000000\n",
              "travel_with                      travel_with         5.808927\n",
              "total_female                    total_female         0.010807\n",
              "total_male                        total_male         0.032422\n",
              "purpose                              purpose         0.000000\n",
              "main_activity                  main_activity         0.000000\n",
              "info_source                      info_source         0.000000\n",
              "tour_arrangement            tour_arrangement         0.000000\n",
              "package_transport_int  package_transport_int         0.000000\n",
              "package_accomodation    package_accomodation         0.000000\n",
              "package_food                    package_food         0.000000\n",
              "package_transport_tz    package_transport_tz         0.000000\n",
              "package_sightseeing      package_sightseeing         0.000000\n",
              "package_guided_tour      package_guided_tour         0.000000\n",
              "package_insurance          package_insurance         0.000000\n",
              "night_mainland                night_mainland         0.000000\n",
              "night_zanzibar                night_zanzibar         0.000000\n",
              "first_trip_tz                  first_trip_tz         0.000000\n",
              "cost_category                  cost_category         0.000000"
            ],
            "text/html": [
              "\n",
              "  <div id=\"df-774d8a44-5348-4a0f-bb8d-03c59eeba348\">\n",
              "    <div class=\"colab-df-container\">\n",
              "      <div>\n",
              "<style scoped>\n",
              "    .dataframe tbody tr th:only-of-type {\n",
              "        vertical-align: middle;\n",
              "    }\n",
              "\n",
              "    .dataframe tbody tr th {\n",
              "        vertical-align: top;\n",
              "    }\n",
              "\n",
              "    .dataframe thead th {\n",
              "        text-align: right;\n",
              "    }\n",
              "</style>\n",
              "<table border=\"1\" class=\"dataframe\">\n",
              "  <thead>\n",
              "    <tr style=\"text-align: right;\">\n",
              "      <th></th>\n",
              "      <th>column_name</th>\n",
              "      <th>percent_missing</th>\n",
              "    </tr>\n",
              "  </thead>\n",
              "  <tbody>\n",
              "    <tr>\n",
              "      <th>Tour_ID</th>\n",
              "      <td>Tour_ID</td>\n",
              "      <td>0.000000</td>\n",
              "    </tr>\n",
              "    <tr>\n",
              "      <th>country</th>\n",
              "      <td>country</td>\n",
              "      <td>0.000000</td>\n",
              "    </tr>\n",
              "    <tr>\n",
              "      <th>age_group</th>\n",
              "      <td>age_group</td>\n",
              "      <td>0.000000</td>\n",
              "    </tr>\n",
              "    <tr>\n",
              "      <th>travel_with</th>\n",
              "      <td>travel_with</td>\n",
              "      <td>5.808927</td>\n",
              "    </tr>\n",
              "    <tr>\n",
              "      <th>total_female</th>\n",
              "      <td>total_female</td>\n",
              "      <td>0.010807</td>\n",
              "    </tr>\n",
              "    <tr>\n",
              "      <th>total_male</th>\n",
              "      <td>total_male</td>\n",
              "      <td>0.032422</td>\n",
              "    </tr>\n",
              "    <tr>\n",
              "      <th>purpose</th>\n",
              "      <td>purpose</td>\n",
              "      <td>0.000000</td>\n",
              "    </tr>\n",
              "    <tr>\n",
              "      <th>main_activity</th>\n",
              "      <td>main_activity</td>\n",
              "      <td>0.000000</td>\n",
              "    </tr>\n",
              "    <tr>\n",
              "      <th>info_source</th>\n",
              "      <td>info_source</td>\n",
              "      <td>0.000000</td>\n",
              "    </tr>\n",
              "    <tr>\n",
              "      <th>tour_arrangement</th>\n",
              "      <td>tour_arrangement</td>\n",
              "      <td>0.000000</td>\n",
              "    </tr>\n",
              "    <tr>\n",
              "      <th>package_transport_int</th>\n",
              "      <td>package_transport_int</td>\n",
              "      <td>0.000000</td>\n",
              "    </tr>\n",
              "    <tr>\n",
              "      <th>package_accomodation</th>\n",
              "      <td>package_accomodation</td>\n",
              "      <td>0.000000</td>\n",
              "    </tr>\n",
              "    <tr>\n",
              "      <th>package_food</th>\n",
              "      <td>package_food</td>\n",
              "      <td>0.000000</td>\n",
              "    </tr>\n",
              "    <tr>\n",
              "      <th>package_transport_tz</th>\n",
              "      <td>package_transport_tz</td>\n",
              "      <td>0.000000</td>\n",
              "    </tr>\n",
              "    <tr>\n",
              "      <th>package_sightseeing</th>\n",
              "      <td>package_sightseeing</td>\n",
              "      <td>0.000000</td>\n",
              "    </tr>\n",
              "    <tr>\n",
              "      <th>package_guided_tour</th>\n",
              "      <td>package_guided_tour</td>\n",
              "      <td>0.000000</td>\n",
              "    </tr>\n",
              "    <tr>\n",
              "      <th>package_insurance</th>\n",
              "      <td>package_insurance</td>\n",
              "      <td>0.000000</td>\n",
              "    </tr>\n",
              "    <tr>\n",
              "      <th>night_mainland</th>\n",
              "      <td>night_mainland</td>\n",
              "      <td>0.000000</td>\n",
              "    </tr>\n",
              "    <tr>\n",
              "      <th>night_zanzibar</th>\n",
              "      <td>night_zanzibar</td>\n",
              "      <td>0.000000</td>\n",
              "    </tr>\n",
              "    <tr>\n",
              "      <th>first_trip_tz</th>\n",
              "      <td>first_trip_tz</td>\n",
              "      <td>0.000000</td>\n",
              "    </tr>\n",
              "    <tr>\n",
              "      <th>cost_category</th>\n",
              "      <td>cost_category</td>\n",
              "      <td>0.000000</td>\n",
              "    </tr>\n",
              "  </tbody>\n",
              "</table>\n",
              "</div>\n",
              "      <button class=\"colab-df-convert\" onclick=\"convertToInteractive('df-774d8a44-5348-4a0f-bb8d-03c59eeba348')\"\n",
              "              title=\"Convert this dataframe to an interactive table.\"\n",
              "              style=\"display:none;\">\n",
              "        \n",
              "  <svg xmlns=\"http://www.w3.org/2000/svg\" height=\"24px\"viewBox=\"0 0 24 24\"\n",
              "       width=\"24px\">\n",
              "    <path d=\"M0 0h24v24H0V0z\" fill=\"none\"/>\n",
              "    <path d=\"M18.56 5.44l.94 2.06.94-2.06 2.06-.94-2.06-.94-.94-2.06-.94 2.06-2.06.94zm-11 1L8.5 8.5l.94-2.06 2.06-.94-2.06-.94L8.5 2.5l-.94 2.06-2.06.94zm10 10l.94 2.06.94-2.06 2.06-.94-2.06-.94-.94-2.06-.94 2.06-2.06.94z\"/><path d=\"M17.41 7.96l-1.37-1.37c-.4-.4-.92-.59-1.43-.59-.52 0-1.04.2-1.43.59L10.3 9.45l-7.72 7.72c-.78.78-.78 2.05 0 2.83L4 21.41c.39.39.9.59 1.41.59.51 0 1.02-.2 1.41-.59l7.78-7.78 2.81-2.81c.8-.78.8-2.07 0-2.86zM5.41 20L4 18.59l7.72-7.72 1.47 1.35L5.41 20z\"/>\n",
              "  </svg>\n",
              "      </button>\n",
              "      \n",
              "  <style>\n",
              "    .colab-df-container {\n",
              "      display:flex;\n",
              "      flex-wrap:wrap;\n",
              "      gap: 12px;\n",
              "    }\n",
              "\n",
              "    .colab-df-convert {\n",
              "      background-color: #E8F0FE;\n",
              "      border: none;\n",
              "      border-radius: 50%;\n",
              "      cursor: pointer;\n",
              "      display: none;\n",
              "      fill: #1967D2;\n",
              "      height: 32px;\n",
              "      padding: 0 0 0 0;\n",
              "      width: 32px;\n",
              "    }\n",
              "\n",
              "    .colab-df-convert:hover {\n",
              "      background-color: #E2EBFA;\n",
              "      box-shadow: 0px 1px 2px rgba(60, 64, 67, 0.3), 0px 1px 3px 1px rgba(60, 64, 67, 0.15);\n",
              "      fill: #174EA6;\n",
              "    }\n",
              "\n",
              "    [theme=dark] .colab-df-convert {\n",
              "      background-color: #3B4455;\n",
              "      fill: #D2E3FC;\n",
              "    }\n",
              "\n",
              "    [theme=dark] .colab-df-convert:hover {\n",
              "      background-color: #434B5C;\n",
              "      box-shadow: 0px 1px 3px 1px rgba(0, 0, 0, 0.15);\n",
              "      filter: drop-shadow(0px 1px 2px rgba(0, 0, 0, 0.3));\n",
              "      fill: #FFFFFF;\n",
              "    }\n",
              "  </style>\n",
              "\n",
              "      <script>\n",
              "        const buttonEl =\n",
              "          document.querySelector('#df-774d8a44-5348-4a0f-bb8d-03c59eeba348 button.colab-df-convert');\n",
              "        buttonEl.style.display =\n",
              "          google.colab.kernel.accessAllowed ? 'block' : 'none';\n",
              "\n",
              "        async function convertToInteractive(key) {\n",
              "          const element = document.querySelector('#df-774d8a44-5348-4a0f-bb8d-03c59eeba348');\n",
              "          const dataTable =\n",
              "            await google.colab.kernel.invokeFunction('convertToInteractive',\n",
              "                                                     [key], {});\n",
              "          if (!dataTable) return;\n",
              "\n",
              "          const docLinkHtml = 'Like what you see? Visit the ' +\n",
              "            '<a target=\"_blank\" href=https://colab.research.google.com/notebooks/data_table.ipynb>data table notebook</a>'\n",
              "            + ' to learn more about interactive tables.';\n",
              "          element.innerHTML = '';\n",
              "          dataTable['output_type'] = 'display_data';\n",
              "          await google.colab.output.renderOutput(dataTable, element);\n",
              "          const docLink = document.createElement('div');\n",
              "          docLink.innerHTML = docLinkHtml;\n",
              "          element.appendChild(docLink);\n",
              "        }\n",
              "      </script>\n",
              "    </div>\n",
              "  </div>\n",
              "  "
            ]
          },
          "metadata": {},
          "execution_count": 11
        }
      ],
      "source": [
        "#check for missing values\n",
        "percent_missing = train.isnull().sum() * 100 / len(train)\n",
        "missing_value_train = pd.DataFrame({'column_name': train.columns,\n",
        "                                 'percent_missing': percent_missing})\n",
        "missing_value_train"
      ]
    },
    {
      "cell_type": "markdown",
      "metadata": {
        "id": "xs1KhjpCve9u"
      },
      "source": [
        "#### Only few columns with missing values which are travel_with with 5%, total_female 0.01%, total_male 0.03%. There are many ways to feeel this columns, You've to try all and evaluate which is best"
      ]
    },
    {
      "cell_type": "code",
      "execution_count": null,
      "metadata": {
        "colab": {
          "base_uri": "https://localhost:8080/"
        },
        "id": "mspR60vdve9v",
        "outputId": "76cb7028-e347-472a-cbda-f6d2f61db085"
      },
      "outputs": [
        {
          "output_type": "execute_result",
          "data": {
            "text/plain": [
              "Tour_ID                     0\n",
              "country                     0\n",
              "age_group                   0\n",
              "travel_with              1075\n",
              "total_female                2\n",
              "total_male                  6\n",
              "purpose                     0\n",
              "main_activity               0\n",
              "info_source                 0\n",
              "tour_arrangement            0\n",
              "package_transport_int       0\n",
              "package_accomodation        0\n",
              "package_food                0\n",
              "package_transport_tz        0\n",
              "package_sightseeing         0\n",
              "package_guided_tour         0\n",
              "package_insurance           0\n",
              "night_mainland              0\n",
              "night_zanzibar              0\n",
              "first_trip_tz               0\n",
              "cost_category               0\n",
              "dtype: int64"
            ]
          },
          "metadata": {},
          "execution_count": 12
        }
      ],
      "source": [
        "train.isnull().sum()"
      ]
    },
    {
      "cell_type": "code",
      "execution_count": null,
      "metadata": {
        "id": "aJ6UAsp2ve9w"
      },
      "outputs": [],
      "source": [
        "cat_columns = [col for col in train.select_dtypes('object').columns]\n",
        "\n",
        "num_columns = [col for col in train.select_dtypes(['int', 'float']).columns]"
      ]
    },
    {
      "cell_type": "markdown",
      "metadata": {
        "id": "BycTJZnQve9x"
      },
      "source": [
        "### Lets fill the categorical ones with A new column"
      ]
    },
    {
      "cell_type": "code",
      "execution_count": null,
      "metadata": {
        "colab": {
          "base_uri": "https://localhost:8080/"
        },
        "id": "LnuegN_0ve9x",
        "outputId": "70228d0c-75f7-480b-ffa7-f9e8739f4565"
      },
      "outputs": [
        {
          "output_type": "execute_result",
          "data": {
            "text/plain": [
              "Tour_ID                  0\n",
              "age_group                0\n",
              "country                  0\n",
              "first_trip_tz            0\n",
              "info_source              0\n",
              "main_activity            0\n",
              "night_mainland           0\n",
              "night_zanzibar           0\n",
              "package_accomodation     0\n",
              "package_food             0\n",
              "package_guided_tour      0\n",
              "package_insurance        0\n",
              "package_sightseeing      0\n",
              "package_transport_int    0\n",
              "package_transport_tz     0\n",
              "purpose                  0\n",
              "total_female             2\n",
              "total_male               6\n",
              "tour_arrangement         0\n",
              "travel_with              0\n",
              "dtype: int64"
            ]
          },
          "metadata": {},
          "execution_count": 14
        }
      ],
      "source": [
        "for col in train.columns:\n",
        "\n",
        "  if col in cat_columns:\n",
        "    fillna_const = 'MISSING_VALUE'\n",
        "    train[col] = train[col].astype('str').fillna(fillna_const)\n",
        "    \n",
        "\n",
        "# Confirm that there aren't any missing values\n",
        "train[train.columns.difference(['cost_category'])].isna().sum()"
      ]
    },
    {
      "cell_type": "code",
      "execution_count": null,
      "metadata": {
        "colab": {
          "base_uri": "https://localhost:8080/"
        },
        "id": "aYhymUYVve9y",
        "outputId": "830ad521-0c31-48f8-dc12-70cd0aaa36d4"
      },
      "outputs": [
        {
          "output_type": "execute_result",
          "data": {
            "text/plain": [
              "Tour_ID                  0\n",
              "age_group                0\n",
              "country                  0\n",
              "first_trip_tz            0\n",
              "info_source              0\n",
              "main_activity            0\n",
              "night_mainland           0\n",
              "night_zanzibar           0\n",
              "package_accomodation     0\n",
              "package_food             0\n",
              "package_guided_tour      0\n",
              "package_insurance        0\n",
              "package_sightseeing      0\n",
              "package_transport_int    0\n",
              "package_transport_tz     0\n",
              "purpose                  0\n",
              "total_female             2\n",
              "total_male               1\n",
              "tour_arrangement         0\n",
              "travel_with              0\n",
              "dtype: int64"
            ]
          },
          "metadata": {},
          "execution_count": 15
        }
      ],
      "source": [
        "for col in test.columns:\n",
        "\n",
        "  if col in cat_columns:\n",
        "    fillna_const = 'MISSING_VALUE'\n",
        "    test[col] = test[col].astype('str').fillna(fillna_const)\n",
        "    \n",
        "\n",
        "# Confirm that there aren't any missing values\n",
        "test[test.columns.difference(['total_cost'])].isna().sum()"
      ]
    },
    {
      "cell_type": "markdown",
      "metadata": {
        "id": "UiOWNmkHve9z"
      },
      "source": [
        "### Lets handle the numerical columns by filling with 0"
      ]
    },
    {
      "cell_type": "code",
      "execution_count": null,
      "metadata": {
        "colab": {
          "base_uri": "https://localhost:8080/"
        },
        "id": "8eNNfh1xve9z",
        "outputId": "54c45300-6a15-44a4-9d61-9a70b299b1a5"
      },
      "outputs": [
        {
          "output_type": "execute_result",
          "data": {
            "text/plain": [
              "Tour_ID                  0\n",
              "age_group                0\n",
              "country                  0\n",
              "first_trip_tz            0\n",
              "info_source              0\n",
              "main_activity            0\n",
              "night_mainland           0\n",
              "night_zanzibar           0\n",
              "package_accomodation     0\n",
              "package_food             0\n",
              "package_guided_tour      0\n",
              "package_insurance        0\n",
              "package_sightseeing      0\n",
              "package_transport_int    0\n",
              "package_transport_tz     0\n",
              "purpose                  0\n",
              "total_female             0\n",
              "total_male               0\n",
              "tour_arrangement         0\n",
              "travel_with              0\n",
              "dtype: int64"
            ]
          },
          "metadata": {},
          "execution_count": 16
        }
      ],
      "source": [
        "for col in train.columns:\n",
        "\n",
        "  if col in num_columns:\n",
        "    train[col] = train[col].fillna(0)\n",
        "\n",
        "# Confirm that there aren't any missing values\n",
        "train[train.columns.difference(['cost_category'])].isna().sum()"
      ]
    },
    {
      "cell_type": "code",
      "execution_count": null,
      "metadata": {
        "colab": {
          "base_uri": "https://localhost:8080/"
        },
        "id": "aySlOYbBve9z",
        "outputId": "97f49f53-6593-4026-8e64-bdf9d8815850"
      },
      "outputs": [
        {
          "output_type": "execute_result",
          "data": {
            "text/plain": [
              "Tour_ID                  0\n",
              "age_group                0\n",
              "country                  0\n",
              "first_trip_tz            0\n",
              "info_source              0\n",
              "main_activity            0\n",
              "night_mainland           0\n",
              "night_zanzibar           0\n",
              "package_accomodation     0\n",
              "package_food             0\n",
              "package_guided_tour      0\n",
              "package_insurance        0\n",
              "package_sightseeing      0\n",
              "package_transport_int    0\n",
              "package_transport_tz     0\n",
              "purpose                  0\n",
              "total_female             0\n",
              "total_male               0\n",
              "tour_arrangement         0\n",
              "travel_with              0\n",
              "dtype: int64"
            ]
          },
          "metadata": {},
          "execution_count": 17
        }
      ],
      "source": [
        "for col in test.columns:\n",
        "\n",
        "  if col in num_columns:\n",
        "    test[col] = test[col].fillna(0)\n",
        "\n",
        "# Confirm that there aren't any missing values\n",
        "test[test.columns.difference(['cost_category'])].isna().sum()"
      ]
    },
    {
      "cell_type": "markdown",
      "metadata": {
        "id": "gxNhsfNvve90"
      },
      "source": [
        "## Categorical Data"
      ]
    },
    {
      "cell_type": "code",
      "execution_count": null,
      "metadata": {
        "colab": {
          "base_uri": "https://localhost:8080/"
        },
        "id": "Deti-5Prve91",
        "outputId": "c5019245-79e5-4281-f17e-a56c3e328001"
      },
      "outputs": [
        {
          "output_type": "execute_result",
          "data": {
            "text/plain": [
              "Tour_ID                  18506\n",
              "country                    131\n",
              "age_group                    5\n",
              "travel_with                  6\n",
              "total_female                24\n",
              "total_male                  24\n",
              "purpose                      8\n",
              "main_activity               10\n",
              "info_source                  8\n",
              "tour_arrangement             2\n",
              "package_transport_int        2\n",
              "package_accomodation         2\n",
              "package_food                 2\n",
              "package_transport_tz         2\n",
              "package_sightseeing          2\n",
              "package_guided_tour          2\n",
              "package_insurance            2\n",
              "night_mainland             110\n",
              "night_zanzibar              60\n",
              "first_trip_tz                2\n",
              "cost_category                6\n",
              "dtype: int64"
            ]
          },
          "metadata": {},
          "execution_count": 18
        }
      ],
      "source": [
        "# check unique values in dataset\n",
        "train.apply(lambda x: len(x.unique()))"
      ]
    },
    {
      "cell_type": "markdown",
      "metadata": {
        "id": "5iPkgZr3ve91"
      },
      "source": [
        "## Levels In the Categorical Data with a lot of classes\n",
        "* Country - 106 , we have to ensure that some of these are also on test, if not our a cv should consider this\n",
        "* There are also numerical columns with levels so lets look at them( total_male,total_female,night_mainland,night_zanzibar\n"
      ]
    },
    {
      "cell_type": "markdown",
      "metadata": {
        "id": "hmPD96cNve91"
      },
      "source": [
        "### Country"
      ]
    },
    {
      "cell_type": "code",
      "execution_count": null,
      "metadata": {
        "colab": {
          "base_uri": "https://localhost:8080/"
        },
        "id": "R6w_vY9Jve91",
        "outputId": "21842523-f17f-4f36-e888-f9de7f34ab10"
      },
      "outputs": [
        {
          "output_type": "execute_result",
          "data": {
            "text/plain": [
              "UNITED STATES OF AMERICA    2846\n",
              "UNITED KINGDOM              2120\n",
              "ITALY                       1625\n",
              "FRANCE                      1064\n",
              "GERMANY                      969\n",
              "SOUTH AFRICA                 811\n",
              "KENYA                        781\n",
              "ZAMBIA                       715\n",
              "AUSTRALIA                    704\n",
              "CANADA                       571\n",
              "ZIMBABWE                     570\n",
              "UGANDA                       527\n",
              "SPAIN                        470\n",
              "INDIA                        408\n",
              "NETHERLANDS                  381\n",
              "SWIZERLAND                   278\n",
              "BELGIUM                      244\n",
              "SWEDEN                       235\n",
              "BURUNDI                      231\n",
              "CHINA                        216\n",
              "UAE                          187\n",
              "DENMARK                      178\n",
              "NORWAY                       151\n",
              "RWANDA                       145\n",
              "JAPAN                        137\n",
              "AUSTRIA                      124\n",
              "IRELAND                      122\n",
              "OMAN                          92\n",
              "POLAND                        84\n",
              "DRC                           82\n",
              "NEW ZEALAND                   82\n",
              "ISRAEL                        75\n",
              "KOREA                         66\n",
              "RUSSIA                        64\n",
              "FINLAND                       62\n",
              "MALAYSIA                      61\n",
              "CONGO                         58\n",
              "MALAWI                        46\n",
              "PORTUGAL                      46\n",
              "BRAZIL                        43\n",
              "CZECH REPUBLIC                40\n",
              "UNITED ARAB EMIRATES          36\n",
              "ETHIOPIA                      35\n",
              "SINGAPORE                     28\n",
              "SCOTLAND                      26\n",
              "MEXICO                        26\n",
              "QATAR                         25\n",
              "NIGERIA                       25\n",
              "PAKISTAN                      25\n",
              "MOZAMBIQUE                    25\n",
              "ARGENTINA                     22\n",
              "GREECE                        22\n",
              "ROMANIA                       20\n",
              "SWAZILAND                     18\n",
              "SUDAN                         18\n",
              "PHILIPINES                    16\n",
              "URUGUAY                       16\n",
              "TURKEY                        15\n",
              "LEBANON                       15\n",
              "NAMIBIA                       14\n",
              "SRI LANKA                     14\n",
              "COMORO                        14\n",
              "SAUD ARABIA                   14\n",
              "EGYPT                         13\n",
              "THAILAND                      13\n",
              "SLOVAKIA                      12\n",
              "UKRAIN                        12\n",
              "HUNGARY                       11\n",
              "MAURITIUS                     10\n",
              "BOTSWANA                      10\n",
              "TAIWAN                        10\n",
              "LUXEMBOURG                    10\n",
              "CHILE                          9\n",
              "SERBIA                         8\n",
              "BAHRAIN                        8\n",
              "COLOMBIA                       8\n",
              "VIETNAM                        8\n",
              "MALT                           8\n",
              "KUWAIT                         8\n",
              "INDONESIA                      7\n",
              "GHANA                          7\n",
              "TRINIDAD TOBACCO               6\n",
              "CROATIA                        6\n",
              "BULGARIA                       6\n",
              "MADAGASCAR                     6\n",
              "CAMEROON                       6\n",
              "ICELAND                        5\n",
              "LATVIA                         5\n",
              "LITHUANIA                      5\n",
              "ALGERIA                        5\n",
              "MORROCO                        5\n",
              "BERMUDA                        5\n",
              "SLOVENIA                       5\n",
              "SOMALI                         5\n",
              "YEMEN                          4\n",
              "VENEZUELA                      4\n",
              "ANGOLA                         4\n",
              "SEYCHELLES                     4\n",
              "NEPAL                          4\n",
              "TANZANIA                       4\n",
              "SENEGAL                        4\n",
              "JAMAICA                        4\n",
              "GAMBIA                         3\n",
              "PERU                           3\n",
              "IRAN                           3\n",
              "LESOTHO                        3\n",
              "COSTARICA                      3\n",
              "GEORGIA                        2\n",
              "BOSNIA                         2\n",
              "DOMINICA                       2\n",
              "CAMBODIA                       2\n",
              "BURGARIA                       2\n",
              "AFGHANISTAN                    2\n",
              "ECUADO                         2\n",
              "PAPUA NEW GUINEA               2\n",
              "ARMENIA                        2\n",
              "CYPRUS                         2\n",
              "MACEDONIA                      2\n",
              "IVORY COAST                    2\n",
              "MONECASQUE                     2\n",
              "BARBADOS                       1\n",
              "MONTENEGRO                     1\n",
              "DJIBOUT                        1\n",
              "TUNISIA                        1\n",
              "LIBERIA                        1\n",
              "BANGLADESH                     1\n",
              "ERITREA                        1\n",
              "NIGER                          1\n",
              "ESTONIA                        1\n",
              "CAPE VERDE                     1\n",
              "JORDAN                         1\n",
              "Name: country, dtype: int64"
            ]
          },
          "metadata": {},
          "execution_count": 19
        }
      ],
      "source": [
        "train['country'].value_counts()"
      ]
    },
    {
      "cell_type": "code",
      "execution_count": null,
      "metadata": {
        "colab": {
          "base_uri": "https://localhost:8080/"
        },
        "id": "D0HZiWFFve93",
        "outputId": "1f4af21c-7472-4dc4-dd37-d6034ceed1bc"
      },
      "outputs": [
        {
          "output_type": "execute_result",
          "data": {
            "text/plain": [
              "UNITED STATES OF AMERICA    919\n",
              "UNITED KINGDOM              699\n",
              "ITALY                       546\n",
              "FRANCE                      346\n",
              "GERMANY                     342\n",
              "KENYA                       259\n",
              "SOUTH AFRICA                251\n",
              "ZAMBIA                      239\n",
              "AUSTRALIA                   235\n",
              "CANADA                      224\n",
              "ZIMBABWE                    209\n",
              "SPAIN                       173\n",
              "UGANDA                      167\n",
              "INDIA                       128\n",
              "NETHERLANDS                 112\n",
              "SWIZERLAND                  100\n",
              "SWEDEN                       86\n",
              "BURUNDI                      83\n",
              "CHINA                        78\n",
              "BELGIUM                      71\n",
              "DENMARK                      60\n",
              "UAE                          60\n",
              "JAPAN                        51\n",
              "NORWAY                       47\n",
              "RWANDA                       47\n",
              "IRELAND                      44\n",
              "DRC                          39\n",
              "AUSTRIA                      35\n",
              "OMAN                         30\n",
              "POLAND                       28\n",
              "KOREA                        26\n",
              "NEW ZEALAND                  23\n",
              "ISRAEL                       22\n",
              "MALAYSIA                     21\n",
              "CONGO                        20\n",
              "PORTUGAL                     16\n",
              "RUSSIA                       16\n",
              "CZECH REPUBLIC               16\n",
              "SINGAPORE                    14\n",
              "FINLAND                      14\n",
              "ETHIOPIA                     13\n",
              "BRAZIL                       13\n",
              "MOZAMBIQUE                   12\n",
              "THAILAND                     11\n",
              "MALAWI                       10\n",
              "UNITED ARAB EMIRATES          9\n",
              "SCOTLAND                      8\n",
              "URUGUAY                       8\n",
              "EGYPT                         7\n",
              "PHILIPINES                    7\n",
              "SUDAN                         7\n",
              "PAKISTAN                      7\n",
              "LUXEMBOURG                    6\n",
              "SWAZILAND                     6\n",
              "GHANA                         6\n",
              "TAIWAN                        6\n",
              "SRI LANKA                     6\n",
              "SAUD ARABIA                   5\n",
              "ROMANIA                       5\n",
              "MEXICO                        5\n",
              "HUNGARY                       5\n",
              "QATAR                         5\n",
              "LITHUANIA                     4\n",
              "MADAGASCAR                    4\n",
              "ESTONIA                       4\n",
              "LEBANON                       4\n",
              "COMORO                        4\n",
              "MORROCO                       3\n",
              "ANGOLA                        3\n",
              "DJIBOUT                       3\n",
              "ALGERIA                       3\n",
              "INDONESIA                     3\n",
              "TANZANIA                      3\n",
              "BULGARIA                      2\n",
              "COLOMBIA                      2\n",
              "BOTSWANA                      2\n",
              "SLOVENIA                      2\n",
              "MALT                          2\n",
              "HAITI                         2\n",
              "BERMUDA                       2\n",
              "NAMIBIA                       2\n",
              "SLOVAKIA                      2\n",
              "COSTARICA                     2\n",
              "CAMBODIA                      2\n",
              "VIETNAM                       2\n",
              "ARGENTINA                     2\n",
              "JORDAN                        2\n",
              "GREECE                        2\n",
              "KUWAIT                        2\n",
              "NEPAL                         2\n",
              "CYPRUS                        2\n",
              "UKRAIN                        2\n",
              "PAPUA NEW GUINEA              2\n",
              "SOMALI                        2\n",
              "TURKEY                        2\n",
              "SERBIA                        2\n",
              "LATVIA                        1\n",
              "GUINEA                        1\n",
              "BELARUS                       1\n",
              "NIGERIA                       1\n",
              "BOLIVIA                       1\n",
              "BURGARIA                      1\n",
              "MYANMAR                       1\n",
              "CROATIA                       1\n",
              "EL SALVADOR                   1\n",
              "TUNISIA                       1\n",
              "CAPE VERDE                    1\n",
              "CHAD                          1\n",
              "IRAQ                          1\n",
              "BANGLADESH                    1\n",
              "ECUADO                        1\n",
              "BOSNIA                        1\n",
              "DOMINICA                      1\n",
              "PERU                          1\n",
              "BENIN                         1\n",
              "KAZAKHSTAN                    1\n",
              "CAMEROON                      1\n",
              "SENEGAL                       1\n",
              "Name: country, dtype: int64"
            ]
          },
          "metadata": {},
          "execution_count": 20
        }
      ],
      "source": [
        "test['country'].value_counts()"
      ]
    },
    {
      "cell_type": "markdown",
      "metadata": {
        "id": "H7hh7IeBve93"
      },
      "source": [
        "#### Looks like most of them are in train so not a problem,but we can cluster them to those in africa and those outside africa and moree levels if you want so we are going to do that later when we combine both datasets"
      ]
    },
    {
      "cell_type": "markdown",
      "metadata": {
        "id": "-c39K_JXve94"
      },
      "source": [
        "### Total Male and Total Female"
      ]
    },
    {
      "cell_type": "code",
      "execution_count": null,
      "metadata": {
        "colab": {
          "base_uri": "https://localhost:8080/",
          "height": 799
        },
        "id": "BYzFCbsdve94",
        "outputId": "e65566c7-4263-4d76-f619-f21fd4c86d85"
      },
      "outputs": [
        {
          "output_type": "stream",
          "name": "stdout",
          "text": [
            "1.0     11808\n",
            "0.0      4340\n",
            "2.0      1501\n",
            "3.0       510\n",
            "4.0       149\n",
            "5.0        67\n",
            "6.0        55\n",
            "7.0        23\n",
            "8.0        12\n",
            "9.0         9\n",
            "10.0        9\n",
            "13.0        4\n",
            "11.0        3\n",
            "12.0        3\n",
            "15.0        3\n",
            "17.0        2\n",
            "24.0        1\n",
            "14.0        1\n",
            "58.0        1\n",
            "44.0        1\n",
            "40.0        1\n",
            "23.0        1\n",
            "20.0        1\n",
            "25.0        1\n",
            "Name: total_male, dtype: int64\n"
          ]
        },
        {
          "output_type": "execute_result",
          "data": {
            "text/plain": [
              "Text(0.5, 0, 'total_male')"
            ]
          },
          "metadata": {},
          "execution_count": 21
        },
        {
          "output_type": "display_data",
          "data": {
            "text/plain": [
              "<Figure size 720x360 with 1 Axes>"
            ],
            "image/png": "[encoded data removed]"
          },
          "metadata": {
            "needs_background": "light"
          }
        }
      ],
      "source": [
        "print(train['total_male'].value_counts())\n",
        "plt.figure(figsize=(10,5))\n",
        "train['total_male'].value_counts(normalize=True).plot(kind='bar')\n",
        "plt.ylabel('counts')\n",
        "plt.xlabel('total_male')"
      ]
    },
    {
      "cell_type": "code",
      "execution_count": null,
      "metadata": {
        "colab": {
          "base_uri": "https://localhost:8080/",
          "height": 799
        },
        "id": "T5p3frLLve95",
        "outputId": "fac46fd3-38e1-4fda-b64f-e87616c7294c"
      },
      "outputs": [
        {
          "output_type": "stream",
          "name": "stdout",
          "text": [
            "1.0     9659\n",
            "0.0     6149\n",
            "2.0     1752\n",
            "3.0      507\n",
            "4.0      196\n",
            "5.0       89\n",
            "6.0       60\n",
            "7.0       18\n",
            "8.0       17\n",
            "10.0      13\n",
            "11.0       9\n",
            "12.0       8\n",
            "9.0        8\n",
            "14.0       6\n",
            "13.0       3\n",
            "15.0       3\n",
            "24.0       2\n",
            "49.0       1\n",
            "20.0       1\n",
            "17.0       1\n",
            "22.0       1\n",
            "26.0       1\n",
            "19.0       1\n",
            "23.0       1\n",
            "Name: total_female, dtype: int64\n"
          ]
        },
        {
          "output_type": "execute_result",
          "data": {
            "text/plain": [
              "Text(0.5, 0, 'total_female')"
            ]
          },
          "metadata": {},
          "execution_count": 22
        },
        {
          "output_type": "display_data",
          "data": {
            "text/plain": [
              "<Figure size 720x360 with 1 Axes>"
            ],
            "image/png": "[encoded data removed]"
          },
          "metadata": {
            "needs_background": "light"
          }
        }
      ],
      "source": [
        "print(train['total_female'].value_counts())\n",
        "plt.figure(figsize=(10,5))\n",
        "train['total_female'].value_counts(normalize=True).plot(kind='bar')\n",
        "plt.ylabel('counts')\n",
        "plt.xlabel('total_female')"
      ]
    },
    {
      "cell_type": "markdown",
      "metadata": {
        "id": "8NpR2lbOve96"
      },
      "source": [
        "### Night Mainland and Night Zanzibar"
      ]
    },
    {
      "cell_type": "code",
      "execution_count": null,
      "metadata": {
        "colab": {
          "base_uri": "https://localhost:8080/",
          "height": 1000
        },
        "id": "Lb12ovuNve96",
        "outputId": "21ff21e5-10f3-47e8-cae7-cc6fce1eaab9"
      },
      "outputs": [
        {
          "output_type": "stream",
          "name": "stdout",
          "text": [
            "0      2344\n",
            "7      1678\n",
            "4      1337\n",
            "2      1294\n",
            "3      1291\n",
            "6      1268\n",
            "5      1258\n",
            "10     1102\n",
            "8       779\n",
            "9       733\n",
            "14      708\n",
            "12      640\n",
            "1       637\n",
            "11      524\n",
            "15      397\n",
            "13      367\n",
            "30      219\n",
            "16      215\n",
            "20      211\n",
            "21      173\n",
            "17      150\n",
            "60       85\n",
            "18       78\n",
            "19       71\n",
            "90       59\n",
            "25       57\n",
            "23       52\n",
            "22       51\n",
            "28       48\n",
            "24       46\n",
            "42       40\n",
            "26       38\n",
            "27       38\n",
            "35       36\n",
            "40       33\n",
            "29       33\n",
            "45       32\n",
            "50       23\n",
            "32       21\n",
            "33       20\n",
            "31       18\n",
            "70       17\n",
            "34       16\n",
            "36       14\n",
            "39       13\n",
            "48       13\n",
            "56       13\n",
            "37       12\n",
            "43       12\n",
            "63       10\n",
            "55       10\n",
            "54       10\n",
            "49        9\n",
            "80        8\n",
            "44        8\n",
            "47        8\n",
            "46        7\n",
            "68        6\n",
            "38        6\n",
            "62        6\n",
            "150       5\n",
            "180       5\n",
            "65        4\n",
            "120       4\n",
            "53        4\n",
            "75        4\n",
            "58        4\n",
            "61        4\n",
            "41        4\n",
            "57        3\n",
            "85        3\n",
            "69        3\n",
            "86        3\n",
            "66        3\n",
            "88        3\n",
            "59        3\n",
            "64        3\n",
            "365       2\n",
            "51        2\n",
            "87        2\n",
            "100       2\n",
            "364       2\n",
            "288       2\n",
            "77        2\n",
            "300       2\n",
            "52        2\n",
            "130       1\n",
            "182       1\n",
            "82        1\n",
            "71        1\n",
            "84        1\n",
            "94        1\n",
            "126       1\n",
            "74        1\n",
            "248       1\n",
            "160       1\n",
            "89        1\n",
            "79        1\n",
            "76        1\n",
            "104       1\n",
            "93        1\n",
            "210       1\n",
            "240       1\n",
            "122       1\n",
            "279       1\n",
            "92        1\n",
            "118       1\n",
            "181       1\n",
            "83        1\n",
            "110       1\n",
            "Name: night_mainland, dtype: int64\n"
          ]
        },
        {
          "output_type": "execute_result",
          "data": {
            "text/plain": [
              "Text(0.5, 0, 'night_mainland')"
            ]
          },
          "metadata": {},
          "execution_count": 23
        },
        {
          "output_type": "display_data",
          "data": {
            "text/plain": [
              "<Figure size 720x360 with 1 Axes>"
            ],
            "image/png": "[encoded data removed]"
          },
          "metadata": {
            "needs_background": "light"
          }
        }
      ],
      "source": [
        "print(train['night_mainland'].value_counts())\n",
        "plt.figure(figsize=(10,5))\n",
        "train['night_mainland'].value_counts(normalize=True).plot(kind='bar')\n",
        "plt.ylabel('counts')\n",
        "plt.xlabel('night_mainland')"
      ]
    },
    {
      "cell_type": "code",
      "execution_count": null,
      "metadata": {
        "colab": {
          "base_uri": "https://localhost:8080/",
          "height": 1000
        },
        "id": "MRqSGIuive96",
        "outputId": "fff550fe-00f4-4903-d5e9-7ae88ff40692"
      },
      "outputs": [
        {
          "output_type": "stream",
          "name": "stdout",
          "text": [
            "0      11579\n",
            "7       1533\n",
            "4       1030\n",
            "3        921\n",
            "5        813\n",
            "6        624\n",
            "2        426\n",
            "8        284\n",
            "10       244\n",
            "14       216\n",
            "9        171\n",
            "1        152\n",
            "12        87\n",
            "11        78\n",
            "15        64\n",
            "13        62\n",
            "20        33\n",
            "21        26\n",
            "17        24\n",
            "16        19\n",
            "19        13\n",
            "30        13\n",
            "18         9\n",
            "22         8\n",
            "28         8\n",
            "35         6\n",
            "23         6\n",
            "60         6\n",
            "27         4\n",
            "25         4\n",
            "90         4\n",
            "41         3\n",
            "33         3\n",
            "40         2\n",
            "42         2\n",
            "51         2\n",
            "120        2\n",
            "39         2\n",
            "44         2\n",
            "45         1\n",
            "31         1\n",
            "32         1\n",
            "46         1\n",
            "240        1\n",
            "43         1\n",
            "80         1\n",
            "87         1\n",
            "108        1\n",
            "75         1\n",
            "64         1\n",
            "107        1\n",
            "48         1\n",
            "50         1\n",
            "34         1\n",
            "26         1\n",
            "70         1\n",
            "55         1\n",
            "100        1\n",
            "61         1\n",
            "86         1\n",
            "Name: night_zanzibar, dtype: int64\n"
          ]
        },
        {
          "output_type": "execute_result",
          "data": {
            "text/plain": [
              "Text(0.5, 0, 'night_zanzibar')"
            ]
          },
          "metadata": {},
          "execution_count": 24
        },
        {
          "output_type": "display_data",
          "data": {
            "text/plain": [
              "<Figure size 720x360 with 1 Axes>"
            ],
            "image/png": "[encoded data removed]"
          },
          "metadata": {
            "needs_background": "light"
          }
        }
      ],
      "source": [
        "print(train['night_zanzibar'].value_counts())\n",
        "plt.figure(figsize=(10,5))\n",
        "train['night_zanzibar'].value_counts(normalize=True).plot(kind='bar')\n",
        "plt.ylabel('counts')\n",
        "plt.xlabel('night_zanzibar')"
      ]
    },
    {
      "cell_type": "markdown",
      "metadata": {
        "id": "YaoRLU7qve97"
      },
      "source": [
        "#### For both the total_male and total_female looks like they travel in less than 5people(0,1 being the highest)\n",
        "#### For both the night zanzibar and night mainland looks majority spend a week there\n",
        "\n",
        "#### For these feature we can get total people and total nights as new features. Also an interaction of total nights and total people\n",
        "\n",
        "#### Also cap them since the max is so far away from the 75th percentile"
      ]
    },
    {
      "cell_type": "markdown",
      "metadata": {
        "id": "EjpQ0Nn7ve97"
      },
      "source": [
        "## Levels In the Categorical Data with less number of classes"
      ]
    },
    {
      "cell_type": "markdown",
      "metadata": {
        "id": "RNIaMnLqve98"
      },
      "source": [
        "### Age Group"
      ]
    },
    {
      "cell_type": "code",
      "execution_count": null,
      "metadata": {
        "colab": {
          "base_uri": "https://localhost:8080/",
          "height": 475
        },
        "id": "ea19OcMeve98",
        "outputId": "37491e83-32be-45c0-a658-383304863acc"
      },
      "outputs": [
        {
          "output_type": "stream",
          "name": "stdout",
          "text": [
            "25-44    9047\n",
            "45-64    5648\n",
            "18-24    2222\n",
            "65+      1467\n",
            "<18       122\n",
            "Name: age_group, dtype: int64\n"
          ]
        },
        {
          "output_type": "execute_result",
          "data": {
            "text/plain": [
              "Text(0.5, 0, 'age_group')"
            ]
          },
          "metadata": {},
          "execution_count": 25
        },
        {
          "output_type": "display_data",
          "data": {
            "text/plain": [
              "<Figure size 720x360 with 1 Axes>"
            ],
            "image/png": "[encoded data removed]"
          },
          "metadata": {
            "needs_background": "light"
          }
        }
      ],
      "source": [
        "print(train['age_group'].value_counts())\n",
        "plt.figure(figsize=(10,5))\n",
        "train['age_group'].value_counts(normalize=True).plot(kind='bar')\n",
        "plt.ylabel('counts')\n",
        "plt.xlabel('age_group')"
      ]
    },
    {
      "cell_type": "markdown",
      "metadata": {
        "id": "jc6zyEpove98"
      },
      "source": [
        "#### 25-44 age group are the majority since they are in the working class and have freedom+ energy.This feature is in contention for a StratifiedGroupKFold as per the description"
      ]
    },
    {
      "cell_type": "markdown",
      "metadata": {
        "id": "OhZ6VLwPve99"
      },
      "source": [
        "### Travel With"
      ]
    },
    {
      "cell_type": "code",
      "execution_count": null,
      "metadata": {
        "colab": {
          "base_uri": "https://localhost:8080/",
          "height": 606
        },
        "id": "sRxA-wAxve99",
        "outputId": "95ec56b7-47e6-496a-9a9e-e0d2846f3022"
      },
      "outputs": [
        {
          "output_type": "stream",
          "name": "stdout",
          "text": [
            "Alone                           7590\n",
            "With Spouse                     4842\n",
            "With Other Friends/Relatives    3268\n",
            "With Spouse and Children        1193\n",
            "nan                             1075\n",
            "With Children                    538\n",
            "Name: travel_with, dtype: int64\n"
          ]
        },
        {
          "output_type": "execute_result",
          "data": {
            "text/plain": [
              "Text(0.5, 0, 'travel_with')"
            ]
          },
          "metadata": {},
          "execution_count": 26
        },
        {
          "output_type": "display_data",
          "data": {
            "text/plain": [
              "<Figure size 720x360 with 1 Axes>"
            ],
            "image/png": "[encoded data removed]"
          },
          "metadata": {
            "needs_background": "light"
          }
        }
      ],
      "source": [
        "print(train['travel_with'].value_counts())\n",
        "plt.figure(figsize=(10,5))\n",
        "train['travel_with'].value_counts(normalize=True).plot(kind='bar')\n",
        "plt.ylabel('counts')\n",
        "plt.xlabel('travel_with')"
      ]
    },
    {
      "cell_type": "markdown",
      "metadata": {
        "id": "fVLrQEOuve99"
      },
      "source": [
        "### Purpose"
      ]
    },
    {
      "cell_type": "markdown",
      "metadata": {
        "id": "87ERe8K5ve99"
      },
      "source": [
        "#### Alone the majority, followed by spouse which is understandable"
      ]
    },
    {
      "cell_type": "code",
      "execution_count": null,
      "metadata": {
        "colab": {
          "base_uri": "https://localhost:8080/",
          "height": 645
        },
        "id": "kdAsKEUeve99",
        "outputId": "af3c9d6e-80f6-4182-8685-42f0c1f31358"
      },
      "outputs": [
        {
          "output_type": "stream",
          "name": "stdout",
          "text": [
            "Leisure and Holidays              11755\n",
            "Visiting Friends and Relatives     2304\n",
            "Business                           2297\n",
            "Meetings and Conference            1179\n",
            "Volunteering                        438\n",
            "Other                               326\n",
            "Scientific and Academic             198\n",
            "Medical                               9\n",
            "Name: purpose, dtype: int64\n"
          ]
        },
        {
          "output_type": "execute_result",
          "data": {
            "text/plain": [
              "Text(0.5, 0, 'purpose')"
            ]
          },
          "metadata": {},
          "execution_count": 27
        },
        {
          "output_type": "display_data",
          "data": {
            "text/plain": [
              "<Figure size 720x360 with 1 Axes>"
            ],
            "image/png": "[encoded data removed]"
          },
          "metadata": {
            "needs_background": "light"
          }
        }
      ],
      "source": [
        "print(train['purpose'].value_counts())\n",
        "plt.figure(figsize=(10,5))\n",
        "train['purpose'].value_counts(normalize=True).plot(kind='bar')\n",
        "plt.ylabel('counts')\n",
        "plt.xlabel('purpose')"
      ]
    },
    {
      "cell_type": "markdown",
      "metadata": {
        "id": "6FwqDkS_ve9-"
      },
      "source": [
        "#### Understandable with majority being here for leisure and holiday. This feature is also in contention for a Group KFold as per the description"
      ]
    },
    {
      "cell_type": "markdown",
      "metadata": {
        "id": "O0SPeAaEve9-"
      },
      "source": [
        "### Main Activity"
      ]
    },
    {
      "cell_type": "code",
      "execution_count": null,
      "metadata": {
        "colab": {
          "base_uri": "https://localhost:8080/",
          "height": 655
        },
        "id": "QCQVhW24ve9-",
        "outputId": "f04d36ed-0c40-4d48-e2c4-6e82d6f77aed"
      },
      "outputs": [
        {
          "output_type": "stream",
          "name": "stdout",
          "text": [
            "Widlife Tourism             5988\n",
            "Beach Tourism               4172\n",
            "Wildlife Tourism            2283\n",
            "Conference Tourism          1920\n",
            "Hunting Tourism             1712\n",
            "Cultural Tourism            1444\n",
            "Mountain Climbing            529\n",
            "Business                     280\n",
            "Bird Tourism                 144\n",
            "Diving and Sport Fishing      34\n",
            "Name: main_activity, dtype: int64\n"
          ]
        },
        {
          "output_type": "execute_result",
          "data": {
            "text/plain": [
              "Text(0.5, 0, 'main_activity')"
            ]
          },
          "metadata": {},
          "execution_count": 28
        },
        {
          "output_type": "display_data",
          "data": {
            "text/plain": [
              "<Figure size 720x360 with 1 Axes>"
            ],
            "image/png": "[encoded data removed]"
          },
          "metadata": {
            "needs_background": "light"
          }
        }
      ],
      "source": [
        "print(train['main_activity'].value_counts())\n",
        "plt.figure(figsize=(10,5))\n",
        "train['main_activity'].value_counts(normalize=True).plot(kind='bar')\n",
        "plt.ylabel('counts')\n",
        "plt.xlabel('main_activity')"
      ]
    },
    {
      "cell_type": "markdown",
      "metadata": {
        "id": "ZuuiOyenve9_"
      },
      "source": [
        "#### Wildlife Tourism is the majority one, since AFrica is well know for Tourism"
      ]
    },
    {
      "cell_type": "markdown",
      "metadata": {
        "id": "aiBR42J-ve9_"
      },
      "source": [
        " ### Info Source"
      ]
    },
    {
      "cell_type": "code",
      "execution_count": null,
      "metadata": {
        "colab": {
          "base_uri": "https://localhost:8080/",
          "height": 671
        },
        "id": "f6VWwSIfve-A",
        "outputId": "b871653e-32ac-40c8-9b53-fe8aa2714ae0"
      },
      "outputs": [
        {
          "output_type": "stream",
          "name": "stdout",
          "text": [
            "Travel agent, tour operator        8005\n",
            "Friends, relatives                 6077\n",
            "Others                             1368\n",
            "Newspaper, magazines, brochures    1301\n",
            "Radio, TV, Web                     1223\n",
            "Trade fair                          243\n",
            "Tanzania Mission Abroad             197\n",
            "Inflight magazines                   92\n",
            "Name: info_source, dtype: int64\n"
          ]
        },
        {
          "output_type": "execute_result",
          "data": {
            "text/plain": [
              "Text(0.5, 0, 'info_source')"
            ]
          },
          "metadata": {},
          "execution_count": 29
        },
        {
          "output_type": "display_data",
          "data": {
            "text/plain": [
              "<Figure size 720x360 with 1 Axes>"
            ],
            "image/png": "[encoded data removed]"
          },
          "metadata": {
            "needs_background": "light"
          }
        }
      ],
      "source": [
        "print(train['info_source'].value_counts())\n",
        "plt.figure(figsize=(10,5))\n",
        "train['info_source'].value_counts(normalize=True).plot(kind='bar')\n",
        "plt.ylabel('counts')\n",
        "plt.xlabel('info_source')"
      ]
    },
    {
      "cell_type": "markdown",
      "metadata": {
        "id": "LYX4ieAGve-A"
      },
      "source": [
        "#### Travel agencies are the leading source of info, which is understandable followed by friends "
      ]
    },
    {
      "cell_type": "markdown",
      "metadata": {
        "id": "1uYlJB_Mve-B"
      },
      "source": [
        "### Tour Arrangement"
      ]
    },
    {
      "cell_type": "code",
      "execution_count": null,
      "metadata": {
        "colab": {
          "base_uri": "https://localhost:8080/",
          "height": 458
        },
        "id": "_84PVg9pve-C",
        "outputId": "2343753c-3a67-40ca-df3d-aec5cf749813"
      },
      "outputs": [
        {
          "output_type": "stream",
          "name": "stdout",
          "text": [
            "Package Tour    9295\n",
            "Independent     9211\n",
            "Name: tour_arrangement, dtype: int64\n"
          ]
        },
        {
          "output_type": "execute_result",
          "data": {
            "text/plain": [
              "Text(0.5, 0, 'tour_arrangement')"
            ]
          },
          "metadata": {},
          "execution_count": 30
        },
        {
          "output_type": "display_data",
          "data": {
            "text/plain": [
              "<Figure size 720x360 with 1 Axes>"
            ],
            "image/png": "[encoded data removed]"
          },
          "metadata": {
            "needs_background": "light"
          }
        }
      ],
      "source": [
        "\n",
        "print(train['tour_arrangement'].value_counts())\n",
        "plt.figure(figsize=(10,5))\n",
        "train['tour_arrangement'].value_counts(normalize=True).plot(kind='bar')\n",
        "plt.ylabel('counts')\n",
        "plt.xlabel('tour_arrangement')"
      ]
    },
    {
      "cell_type": "markdown",
      "metadata": {
        "id": "ia-WFF7Qve-C"
      },
      "source": [
        "#### Equal distribution here"
      ]
    },
    {
      "cell_type": "markdown",
      "metadata": {
        "id": "gsxroHjsve-C"
      },
      "source": [
        "### Package Transport Int"
      ]
    },
    {
      "cell_type": "code",
      "execution_count": null,
      "metadata": {
        "colab": {
          "base_uri": "https://localhost:8080/",
          "height": 410
        },
        "id": "5MID1P1Rve-D",
        "outputId": "56146cc9-5104-4f8f-ee1f-38f16c49e6ff"
      },
      "outputs": [
        {
          "output_type": "stream",
          "name": "stdout",
          "text": [
            "No     12238\n",
            "Yes     6268\n",
            "Name: package_transport_int, dtype: int64\n"
          ]
        },
        {
          "output_type": "execute_result",
          "data": {
            "text/plain": [
              "Text(0.5, 0, 'package_transport_int')"
            ]
          },
          "metadata": {},
          "execution_count": 31
        },
        {
          "output_type": "display_data",
          "data": {
            "text/plain": [
              "<Figure size 720x360 with 1 Axes>"
            ],
            "image/png": "[encoded data removed]"
          },
          "metadata": {
            "needs_background": "light"
          }
        }
      ],
      "source": [
        "\n",
        "print(train['package_transport_int'].value_counts())\n",
        "plt.figure(figsize=(10,5))\n",
        "train['package_transport_int'].value_counts(normalize=True).plot(kind='bar')\n",
        "plt.ylabel('counts')\n",
        "plt.xlabel('package_transport_int')"
      ]
    },
    {
      "cell_type": "markdown",
      "metadata": {
        "id": "9lVwsvYDve-D"
      },
      "source": [
        "#### Majority the international transport wasn't provided"
      ]
    },
    {
      "cell_type": "markdown",
      "metadata": {
        "id": "Twf7eqUqve-D"
      },
      "source": [
        "### Package Accomodation"
      ]
    },
    {
      "cell_type": "code",
      "execution_count": null,
      "metadata": {
        "colab": {
          "base_uri": "https://localhost:8080/",
          "height": 410
        },
        "id": "Dpe0JLAgve-E",
        "outputId": "185e358d-0ff7-4dca-fcd5-7e6757d8c59d"
      },
      "outputs": [
        {
          "output_type": "stream",
          "name": "stdout",
          "text": [
            "No     9541\n",
            "Yes    8965\n",
            "Name: package_accomodation, dtype: int64\n"
          ]
        },
        {
          "output_type": "execute_result",
          "data": {
            "text/plain": [
              "Text(0.5, 0, 'package_accomodation')"
            ]
          },
          "metadata": {},
          "execution_count": 32
        },
        {
          "output_type": "display_data",
          "data": {
            "text/plain": [
              "<Figure size 720x360 with 1 Axes>"
            ],
            "image/png": "[encoded data removed]"
          },
          "metadata": {
            "needs_background": "light"
          }
        }
      ],
      "source": [
        "\n",
        "print(train['package_accomodation'].value_counts())\n",
        "plt.figure(figsize=(10,5))\n",
        "train['package_accomodation'].value_counts(normalize=True).plot(kind='bar')\n",
        "plt.ylabel('counts')\n",
        "plt.xlabel('package_accomodation')"
      ]
    },
    {
      "cell_type": "markdown",
      "metadata": {
        "id": "E5oSEngzve-E"
      },
      "source": [
        "#### Majority The accomodation package was not provided although equal distribution"
      ]
    },
    {
      "cell_type": "markdown",
      "metadata": {
        "id": "l_WbxqVTve-E"
      },
      "source": [
        "### Package Food"
      ]
    },
    {
      "cell_type": "code",
      "execution_count": null,
      "metadata": {
        "colab": {
          "base_uri": "https://localhost:8080/",
          "height": 410
        },
        "id": "cvhra3NBve-F",
        "outputId": "98d77f5c-020d-4165-bcd8-aad330a62bc4"
      },
      "outputs": [
        {
          "output_type": "stream",
          "name": "stdout",
          "text": [
            "No     10143\n",
            "Yes     8363\n",
            "Name: package_food, dtype: int64\n"
          ]
        },
        {
          "output_type": "execute_result",
          "data": {
            "text/plain": [
              "Text(0.5, 0, 'package_food')"
            ]
          },
          "metadata": {},
          "execution_count": 33
        },
        {
          "output_type": "display_data",
          "data": {
            "text/plain": [
              "<Figure size 720x360 with 1 Axes>"
            ],
            "image/png": "[encoded data removed]"
          },
          "metadata": {
            "needs_background": "light"
          }
        }
      ],
      "source": [
        "\n",
        "print(train['package_food'].value_counts())\n",
        "plt.figure(figsize=(10,5))\n",
        "train['package_food'].value_counts(normalize=True).plot(kind='bar')\n",
        "plt.ylabel('counts')\n",
        "plt.xlabel('package_food')"
      ]
    },
    {
      "cell_type": "markdown",
      "metadata": {
        "id": "MCNQQvWlve-F"
      },
      "source": [
        "#### Majority Package food wasnt provided"
      ]
    },
    {
      "cell_type": "markdown",
      "metadata": {
        "id": "_JxVGxBvve-G"
      },
      "source": [
        "### Package Transport TZ"
      ]
    },
    {
      "cell_type": "code",
      "execution_count": null,
      "metadata": {
        "colab": {
          "base_uri": "https://localhost:8080/",
          "height": 410
        },
        "id": "A-V8CUJrve-G",
        "outputId": "e1bae08b-96dc-467d-8baf-7a4110cc3b4d"
      },
      "outputs": [
        {
          "output_type": "stream",
          "name": "stdout",
          "text": [
            "No     10873\n",
            "Yes     7633\n",
            "Name: package_transport_tz, dtype: int64\n"
          ]
        },
        {
          "output_type": "execute_result",
          "data": {
            "text/plain": [
              "Text(0.5, 0, 'package_transport_tz')"
            ]
          },
          "metadata": {},
          "execution_count": 34
        },
        {
          "output_type": "display_data",
          "data": {
            "text/plain": [
              "<Figure size 720x360 with 1 Axes>"
            ],
            "image/png": "[encoded data removed]"
          },
          "metadata": {
            "needs_background": "light"
          }
        }
      ],
      "source": [
        "\n",
        "print(train['package_transport_tz'].value_counts())\n",
        "plt.figure(figsize=(10,5))\n",
        "train['package_transport_tz'].value_counts(normalize=True).plot(kind='bar')\n",
        "plt.ylabel('counts')\n",
        "plt.xlabel('package_transport_tz')"
      ]
    },
    {
      "cell_type": "markdown",
      "metadata": {
        "id": "2LvgX4Dove-H"
      },
      "source": [
        "#### Majority Tanzania transport package was not provided"
      ]
    },
    {
      "cell_type": "markdown",
      "metadata": {
        "id": "_8Yg5f6wve-H"
      },
      "source": [
        "### Package SightSeeing"
      ]
    },
    {
      "cell_type": "code",
      "execution_count": null,
      "metadata": {
        "colab": {
          "base_uri": "https://localhost:8080/",
          "height": 410
        },
        "id": "HOSy1C5ave-H",
        "outputId": "67eb33b4-7991-4240-fa3d-4caa81493ab6"
      },
      "outputs": [
        {
          "output_type": "stream",
          "name": "stdout",
          "text": [
            "No     12786\n",
            "Yes     5720\n",
            "Name: package_sightseeing, dtype: int64\n"
          ]
        },
        {
          "output_type": "execute_result",
          "data": {
            "text/plain": [
              "Text(0.5, 0, 'package_sightseeing')"
            ]
          },
          "metadata": {},
          "execution_count": 35
        },
        {
          "output_type": "display_data",
          "data": {
            "text/plain": [
              "<Figure size 720x360 with 1 Axes>"
            ],
            "image/png": "[encoded data removed]"
          },
          "metadata": {
            "needs_background": "light"
          }
        }
      ],
      "source": [
        "\n",
        "print(train['package_sightseeing'].value_counts())\n",
        "plt.figure(figsize=(10,5))\n",
        "train['package_sightseeing'].value_counts(normalize=True).plot(kind='bar')\n",
        "plt.ylabel('counts')\n",
        "plt.xlabel('package_sightseeing')"
      ]
    },
    {
      "cell_type": "markdown",
      "metadata": {
        "id": "4UqqfyKBve-I"
      },
      "source": [
        "#### Majority Package_sightseeing was not provided"
      ]
    },
    {
      "cell_type": "markdown",
      "metadata": {
        "id": "RN23ng-mve-J"
      },
      "source": [
        "### Package Guided Tour"
      ]
    },
    {
      "cell_type": "code",
      "execution_count": null,
      "metadata": {
        "colab": {
          "base_uri": "https://localhost:8080/",
          "height": 411
        },
        "id": "_KMb43tnve-J",
        "outputId": "8f7d5465-a758-47f0-e7ec-0c84ece7d15e"
      },
      "outputs": [
        {
          "output_type": "stream",
          "name": "stdout",
          "text": [
            "No     12447\n",
            "Yes     6059\n",
            "Name: package_guided_tour, dtype: int64\n"
          ]
        },
        {
          "output_type": "execute_result",
          "data": {
            "text/plain": [
              "Text(0.5, 0, 'package_guided_tour')"
            ]
          },
          "metadata": {},
          "execution_count": 36
        },
        {
          "output_type": "display_data",
          "data": {
            "text/plain": [
              "<Figure size 720x360 with 1 Axes>"
            ],
            "image/png": "[encoded data removed]"
          },
          "metadata": {
            "needs_background": "light"
          }
        }
      ],
      "source": [
        "\n",
        "print(train['package_guided_tour'].value_counts())\n",
        "plt.figure(figsize=(10,5))\n",
        "train['package_guided_tour'].value_counts(normalize=True).plot(kind='bar')\n",
        "plt.ylabel('counts')\n",
        "plt.xlabel('package_guided_tour')"
      ]
    },
    {
      "cell_type": "markdown",
      "metadata": {
        "id": "TxzKXwRive-K"
      },
      "source": [
        "#### Majority package guided tour wasnt provided"
      ]
    },
    {
      "cell_type": "markdown",
      "metadata": {
        "id": "u1onPdu5ve-K"
      },
      "source": [
        "### Package Insurance"
      ]
    },
    {
      "cell_type": "code",
      "execution_count": null,
      "metadata": {
        "colab": {
          "base_uri": "https://localhost:8080/",
          "height": 410
        },
        "id": "0saxintlve-L",
        "outputId": "196c5c73-4aa9-48ef-d5f5-f67f9bf259e4"
      },
      "outputs": [
        {
          "output_type": "stream",
          "name": "stdout",
          "text": [
            "No     15809\n",
            "Yes     2697\n",
            "Name: package_insurance, dtype: int64\n"
          ]
        },
        {
          "output_type": "execute_result",
          "data": {
            "text/plain": [
              "Text(0.5, 0, 'package_insurance')"
            ]
          },
          "metadata": {},
          "execution_count": 37
        },
        {
          "output_type": "display_data",
          "data": {
            "text/plain": [
              "<Figure size 720x360 with 1 Axes>"
            ],
            "image/png": "[encoded data removed]"
          },
          "metadata": {
            "needs_background": "light"
          }
        }
      ],
      "source": [
        "\n",
        "print(train['package_insurance'].value_counts())\n",
        "plt.figure(figsize=(10,5))\n",
        "train['package_insurance'].value_counts(normalize=True).plot(kind='bar')\n",
        "plt.ylabel('counts')\n",
        "plt.xlabel('package_insurance')"
      ]
    },
    {
      "cell_type": "markdown",
      "metadata": {
        "id": "dTCDQqu1ve-M"
      },
      "source": [
        "#### Majority Package_insurance was not provided and there is an imbalance between the two classes"
      ]
    },
    {
      "cell_type": "markdown",
      "metadata": {
        "id": "7t1ZxwNbve-M"
      },
      "source": [
        "### First Trip Tz"
      ]
    },
    {
      "cell_type": "code",
      "execution_count": null,
      "metadata": {
        "colab": {
          "base_uri": "https://localhost:8080/",
          "height": 410
        },
        "id": "kYF816DNve-M",
        "outputId": "52f22d0e-e546-4858-ae85-b661e2c6b31c"
      },
      "outputs": [
        {
          "output_type": "stream",
          "name": "stdout",
          "text": [
            "Yes    12737\n",
            "No      5769\n",
            "Name: first_trip_tz, dtype: int64\n"
          ]
        },
        {
          "output_type": "execute_result",
          "data": {
            "text/plain": [
              "Text(0.5, 0, 'first_trip_tz')"
            ]
          },
          "metadata": {},
          "execution_count": 38
        },
        {
          "output_type": "display_data",
          "data": {
            "text/plain": [
              "<Figure size 720x360 with 1 Axes>"
            ],
            "image/png": "[encoded data removed]"
          },
          "metadata": {
            "needs_background": "light"
          }
        }
      ],
      "source": [
        "\n",
        "print(train['first_trip_tz'].value_counts())\n",
        "plt.figure(figsize=(10,5))\n",
        "train['first_trip_tz'].value_counts(normalize=True).plot(kind='bar')\n",
        "plt.ylabel('counts')\n",
        "plt.xlabel('first_trip_tz')"
      ]
    },
    {
      "cell_type": "markdown",
      "metadata": {
        "id": "2hjFD4T5ve-N"
      },
      "source": [
        "#### Majority it was their first time in Tanzania"
      ]
    },
    {
      "cell_type": "markdown",
      "metadata": {
        "id": "1mx-uUX8ve-N"
      },
      "source": [
        "### Now lets look at the Target class and see if its imbalanced"
      ]
    },
    {
      "cell_type": "code",
      "execution_count": null,
      "metadata": {
        "colab": {
          "base_uri": "https://localhost:8080/",
          "height": 527
        },
        "id": "8hU_OhfQve-N",
        "outputId": "0f139ce1-bc65-4931-d466-2c81b79f2291"
      },
      "outputs": [
        {
          "output_type": "stream",
          "name": "stdout",
          "text": [
            "Normal Cost     5471\n",
            "Higher Cost     4865\n",
            "High Cost       3678\n",
            "Lower Cost      2567\n",
            "Low Cost        1566\n",
            "Highest Cost     359\n",
            "Name: cost_category, dtype: int64\n"
          ]
        },
        {
          "output_type": "execute_result",
          "data": {
            "text/plain": [
              "Text(0.5, 0, 'Cost_Category')"
            ]
          },
          "metadata": {},
          "execution_count": 39
        },
        {
          "output_type": "display_data",
          "data": {
            "text/plain": [
              "<Figure size 720x360 with 1 Axes>"
            ],
            "image/png": "[encoded data removed]"
          },
          "metadata": {
            "needs_background": "light"
          }
        }
      ],
      "source": [
        "print(train['cost_category'].value_counts())\n",
        "plt.figure(figsize=(10,5))\n",
        "train['cost_category'].value_counts(normalize=True).plot(kind='bar')\n",
        "plt.ylabel('counts')\n",
        "plt.xlabel('Cost_Category')"
      ]
    },
    {
      "cell_type": "markdown",
      "metadata": {
        "id": "WLA1w0ACve-O"
      },
      "source": [
        "#### The last class is imbalanced so a stratified KFold would do here"
      ]
    },
    {
      "cell_type": "markdown",
      "metadata": {
        "id": "h6IuPm32ve-O"
      },
      "source": [
        "## Categorical Data vs Target"
      ]
    },
    {
      "cell_type": "code",
      "execution_count": null,
      "metadata": {
        "colab": {
          "base_uri": "https://localhost:8080/",
          "height": 700
        },
        "id": "VK4-0ilcve-O",
        "outputId": "ec905b69-9f56-4095-fb9e-9df260be581d"
      },
      "outputs": [
        {
          "output_type": "execute_result",
          "data": {
            "text/plain": [
              "Text(0.5, 1.0, 'Purpose vs CostCategory')"
            ]
          },
          "metadata": {},
          "execution_count": 40
        },
        {
          "output_type": "display_data",
          "data": {
            "text/plain": [
              "<Figure size 936x360 with 1 Axes>"
            ],
            "image/png": "[encoded data removed]"
          },
          "metadata": {
            "needs_background": "light"
          }
        },
        {
          "output_type": "display_data",
          "data": {
            "text/plain": [
              "<Figure size 936x360 with 1 Axes>"
            ],
            "image/png": "[encoded data removed]"
          },
          "metadata": {
            "needs_background": "light"
          }
        }
      ],
      "source": [
        "#CATEGORICAL DATA\n",
        "plt.figure(figsize = (13,5))\n",
        "plt.subplot(1,2,1)\n",
        "sb.countplot(x='age_group',hue='cost_category',data=train,palette='husl')\n",
        "plt.title(\"Age_group vs cost_category\")\n",
        "\n",
        "plt.figure(figsize = (13,5))\n",
        "plt.subplot(1,2,1)\n",
        "sb.countplot(x='purpose',hue='cost_category',data=train,palette='husl')\n",
        "plt.title(\"Purpose vs CostCategory\")\n",
        "\n"
      ]
    },
    {
      "cell_type": "markdown",
      "metadata": {
        "id": "cCjF3sLPve-O"
      },
      "source": [
        "### Conclusion Categorical Features \n",
        "* Most categorical columns have fairly distributed classes except a few classes\n",
        "* All the distribution makes sense\n",
        "* We can come up with new features by adding all the package columns\n",
        "* No ordinal columns so we can use get_dummies or label_encoding"
      ]
    },
    {
      "cell_type": "markdown",
      "metadata": {
        "id": "kqvv9iozve-O"
      },
      "source": [
        "## Categorical Features, Feature Engineering"
      ]
    },
    {
      "cell_type": "code",
      "execution_count": null,
      "metadata": {
        "id": "TTqvJVpwve-P"
      },
      "outputs": [],
      "source": [
        "#CONCATENATING BOTH THE TEST AND TRAIN FOR EASY DATA MANIPULATON\n",
        "ntrain = train.shape[0]\n",
        "ntest = test.shape[0]\n",
        "data = pd.concat((train, test)).reset_index(drop=True)"
      ]
    },
    {
      "cell_type": "code",
      "execution_count": null,
      "metadata": {
        "colab": {
          "base_uri": "https://localhost:8080/"
        },
        "id": "BMmH4Uwive-P",
        "outputId": "389796ee-63e5-4345-bed8-14b6871587b3"
      },
      "outputs": [
        {
          "output_type": "execute_result",
          "data": {
            "text/plain": [
              "Index(['Tour_ID', 'country', 'age_group', 'travel_with', 'total_female',\n",
              "       'total_male', 'purpose', 'main_activity', 'info_source',\n",
              "       'tour_arrangement', 'package_transport_int', 'package_accomodation',\n",
              "       'package_food', 'package_transport_tz', 'package_sightseeing',\n",
              "       'package_guided_tour', 'package_insurance', 'night_mainland',\n",
              "       'night_zanzibar', 'first_trip_tz', 'cost_category'],\n",
              "      dtype='object')"
            ]
          },
          "metadata": {},
          "execution_count": 42
        }
      ],
      "source": [
        "data.columns"
      ]
    },
    {
      "cell_type": "markdown",
      "metadata": {
        "id": "_HJDgKm7ve-Q"
      },
      "source": [
        "### Binning + integer encoding manually"
      ]
    },
    {
      "cell_type": "code",
      "execution_count": null,
      "metadata": {
        "colab": {
          "base_uri": "https://localhost:8080/"
        },
        "id": "xFp3mXT7ve-Q",
        "outputId": "4a3f4c99-dbab-44e8-c811-ffa8ad0c8ccf"
      },
      "outputs": [
        {
          "output_type": "stream",
          "name": "stdout",
          "text": [
            "7    8035\n",
            "2    5604\n",
            "1    3015\n",
            "3    2532\n",
            "4    2235\n",
            "5    1939\n",
            "6    1315\n",
            "Name: main_activity, dtype: int64\n",
            "1    10654\n",
            "2     8122\n",
            "3     1800\n",
            "4     1730\n",
            "5     1637\n",
            "6      732\n",
            "Name: info_source, dtype: int64\n",
            "1    10118\n",
            "2     6435\n",
            "3     4319\n",
            "4     1639\n",
            "5     1436\n",
            "6      728\n",
            "Name: travel_with, dtype: int64\n",
            "3    12068\n",
            "4     7555\n",
            "5     2951\n",
            "1     1947\n",
            "2      154\n",
            "Name: age_group, dtype: int64\n"
          ]
        }
      ],
      "source": [
        "def agegroup_rename(x):\n",
        "    over65 = ['65+']\n",
        "    less18 = ['<18']\n",
        "    youth = ['25-44']\n",
        "    adult = ['45-64']\n",
        "    teen = ['18-24']\n",
        "    \n",
        "\n",
        "\n",
        "    if x in over65:\n",
        "        return 1\n",
        "    elif x in less18:\n",
        "        return 2\n",
        "    elif x in youth:\n",
        "        return 3\n",
        "    elif x in adult:\n",
        "        return 4    \n",
        "    elif x in teen:\n",
        "        return 5   \n",
        "    \n",
        "def travelwith_rename(x):\n",
        "    alone = ['Alone']\n",
        "    spouse = ['With Spouse']\n",
        "    frierel = ['With Other Friends/Relatives']\n",
        "    spch = ['With Spouse and Children']\n",
        "    nan = ['nan']\n",
        "    ch = ['With Children']\n",
        "    \n",
        "\n",
        "\n",
        "    if x in alone:\n",
        "        return 1\n",
        "    elif x in spouse:\n",
        "        return 2\n",
        "    elif x in frierel:\n",
        "        return 3\n",
        "    elif x in spch:\n",
        "        return 4    \n",
        "    elif x in nan:\n",
        "        return 5   \n",
        "    elif x in ch:\n",
        "        return 6   \n",
        "    \n",
        "\n",
        "def infosource_rename(x):\n",
        "    agto = ['Travel agent, tour operator']\n",
        "    fr = ['Friends, relatives']\n",
        "    ot = ['Others']\n",
        "    nmb = ['Newspaper, magazines, brochures']\n",
        "    rtw = ['Radio, TV, Web']\n",
        "    tf = ['Trade fair','Tanzania Mission Abroad','Inflight magazines']\n",
        "\n",
        "    \n",
        "\n",
        "\n",
        "    if x in agto:\n",
        "        return 1\n",
        "    elif x in fr:\n",
        "        return 2\n",
        "    elif x in ot:\n",
        "        return 3\n",
        "    elif x in nmb:\n",
        "        return 4    \n",
        "    elif x in rtw:\n",
        "        return 5   \n",
        "    elif x in tf:\n",
        "        return 6   \n",
        "    elif x in tma:\n",
        "        return 7   \n",
        "    elif x in im:\n",
        "        return 8       \n",
        "\n",
        "\n",
        "\n",
        "def mainactivity_clusters(x):\n",
        "    widlife = ['Widlife Tourism']\n",
        "    wildlife = ['Wildlife Tourism']\n",
        "    beach = ['Beach Tourism']\n",
        "    conference = ['Conference Tourism']  \n",
        "    hunting = ['Hunting Tourism']\n",
        "    cultural = [ 'Cultural Tourism']\n",
        "    mou = ['Mountain Climbing','Business','Bird Tourism','Diving and Sport Fishing']\n",
        "    \n",
        "\n",
        "    if x in wildlife:\n",
        "        return 1\n",
        "    if x in widlife:\n",
        "        return 7\n",
        "    elif x in beach:\n",
        "        return 2\n",
        "    elif x in conference:\n",
        "        return 3\n",
        "    elif x in hunting:\n",
        "        return 4    \n",
        "    elif x in cultural:\n",
        "        return 5 \n",
        "    elif x in mou:\n",
        "        return 6 \n",
        "  \n",
        "    \n",
        "data['main_activity'] = data['main_activity'].apply(mainactivity_clusters)\n",
        "print(data['main_activity'].value_counts())\n",
        "\n",
        "\n",
        "data['info_source'] = data['info_source'].apply(infosource_rename)\n",
        "print(data['info_source'].value_counts())\n",
        "\n",
        "\n",
        "\n",
        "data['travel_with'] = data['travel_with'].apply(travelwith_rename)\n",
        "print(data['travel_with'].value_counts())\n",
        "\n",
        "data['age_group'] = data['age_group'].apply(agegroup_rename)\n",
        "print(data['age_group'].value_counts())\n",
        "\n",
        "\n"
      ]
    },
    {
      "cell_type": "markdown",
      "metadata": {
        "id": "rTHpkKM-ve-R"
      },
      "source": [
        "## FEATURE INTERACTIONS"
      ]
    },
    {
      "cell_type": "markdown",
      "metadata": {
        "id": "hASH-gV5ve-R"
      },
      "source": [
        "### Capping before Data Interaction"
      ]
    },
    {
      "cell_type": "code",
      "execution_count": null,
      "metadata": {
        "colab": {
          "base_uri": "https://localhost:8080/",
          "height": 301
        },
        "id": "1ppi7d8Cve-S",
        "outputId": "5372ada8-c20f-48c1-fa8c-4d4473143850"
      },
      "outputs": [
        {
          "output_type": "execute_result",
          "data": {
            "text/plain": [
              "         total_male  total_female  night_mainland  night_zanzibar\n",
              "count  24675.000000  24675.000000    24675.000000    24675.000000\n",
              "mean       1.003161      0.932644        9.184113        2.516596\n",
              "std        1.270623      1.205047       14.719152        5.323307\n",
              "min        0.000000      0.000000        0.000000        0.000000\n",
              "5%         0.000000      0.000000        0.000000        0.000000\n",
              "50%        1.000000      1.000000        6.000000        0.000000\n",
              "95%        2.000000      3.000000       28.000000       10.000000\n",
              "max       90.000000     49.000000      664.000000      240.000000"
            ],
            "text/html": [
              "\n",
              "  <div id=\"df-90bb92c7-5800-4bfc-a87e-9c0d8aa451fb\">\n",
              "    <div class=\"colab-df-container\">\n",
              "      <div>\n",
              "<style scoped>\n",
              "    .dataframe tbody tr th:only-of-type {\n",
              "        vertical-align: middle;\n",
              "    }\n",
              "\n",
              "    .dataframe tbody tr th {\n",
              "        vertical-align: top;\n",
              "    }\n",
              "\n",
              "    .dataframe thead th {\n",
              "        text-align: right;\n",
              "    }\n",
              "</style>\n",
              "<table border=\"1\" class=\"dataframe\">\n",
              "  <thead>\n",
              "    <tr style=\"text-align: right;\">\n",
              "      <th></th>\n",
              "      <th>total_male</th>\n",
              "      <th>total_female</th>\n",
              "      <th>night_mainland</th>\n",
              "      <th>night_zanzibar</th>\n",
              "    </tr>\n",
              "  </thead>\n",
              "  <tbody>\n",
              "    <tr>\n",
              "      <th>count</th>\n",
              "      <td>24675.000000</td>\n",
              "      <td>24675.000000</td>\n",
              "      <td>24675.000000</td>\n",
              "      <td>24675.000000</td>\n",
              "    </tr>\n",
              "    <tr>\n",
              "      <th>mean</th>\n",
              "      <td>1.003161</td>\n",
              "      <td>0.932644</td>\n",
              "      <td>9.184113</td>\n",
              "      <td>2.516596</td>\n",
              "    </tr>\n",
              "    <tr>\n",
              "      <th>std</th>\n",
              "      <td>1.270623</td>\n",
              "      <td>1.205047</td>\n",
              "      <td>14.719152</td>\n",
              "      <td>5.323307</td>\n",
              "    </tr>\n",
              "    <tr>\n",
              "      <th>min</th>\n",
              "      <td>0.000000</td>\n",
              "      <td>0.000000</td>\n",
              "      <td>0.000000</td>\n",
              "      <td>0.000000</td>\n",
              "    </tr>\n",
              "    <tr>\n",
              "      <th>5%</th>\n",
              "      <td>0.000000</td>\n",
              "      <td>0.000000</td>\n",
              "      <td>0.000000</td>\n",
              "      <td>0.000000</td>\n",
              "    </tr>\n",
              "    <tr>\n",
              "      <th>50%</th>\n",
              "      <td>1.000000</td>\n",
              "      <td>1.000000</td>\n",
              "      <td>6.000000</td>\n",
              "      <td>0.000000</td>\n",
              "    </tr>\n",
              "    <tr>\n",
              "      <th>95%</th>\n",
              "      <td>2.000000</td>\n",
              "      <td>3.000000</td>\n",
              "      <td>28.000000</td>\n",
              "      <td>10.000000</td>\n",
              "    </tr>\n",
              "    <tr>\n",
              "      <th>max</th>\n",
              "      <td>90.000000</td>\n",
              "      <td>49.000000</td>\n",
              "      <td>664.000000</td>\n",
              "      <td>240.000000</td>\n",
              "    </tr>\n",
              "  </tbody>\n",
              "</table>\n",
              "</div>\n",
              "      <button class=\"colab-df-convert\" onclick=\"convertToInteractive('df-90bb92c7-5800-4bfc-a87e-9c0d8aa451fb')\"\n",
              "              title=\"Convert this dataframe to an interactive table.\"\n",
              "              style=\"display:none;\">\n",
              "        \n",
              "  <svg xmlns=\"http://www.w3.org/2000/svg\" height=\"24px\"viewBox=\"0 0 24 24\"\n",
              "       width=\"24px\">\n",
              "    <path d=\"M0 0h24v24H0V0z\" fill=\"none\"/>\n",
              "    <path d=\"M18.56 5.44l.94 2.06.94-2.06 2.06-.94-2.06-.94-.94-2.06-.94 2.06-2.06.94zm-11 1L8.5 8.5l.94-2.06 2.06-.94-2.06-.94L8.5 2.5l-.94 2.06-2.06.94zm10 10l.94 2.06.94-2.06 2.06-.94-2.06-.94-.94-2.06-.94 2.06-2.06.94z\"/><path d=\"M17.41 7.96l-1.37-1.37c-.4-.4-.92-.59-1.43-.59-.52 0-1.04.2-1.43.59L10.3 9.45l-7.72 7.72c-.78.78-.78 2.05 0 2.83L4 21.41c.39.39.9.59 1.41.59.51 0 1.02-.2 1.41-.59l7.78-7.78 2.81-2.81c.8-.78.8-2.07 0-2.86zM5.41 20L4 18.59l7.72-7.72 1.47 1.35L5.41 20z\"/>\n",
              "  </svg>\n",
              "      </button>\n",
              "      \n",
              "  <style>\n",
              "    .colab-df-container {\n",
              "      display:flex;\n",
              "      flex-wrap:wrap;\n",
              "      gap: 12px;\n",
              "    }\n",
              "\n",
              "    .colab-df-convert {\n",
              "      background-color: #E8F0FE;\n",
              "      border: none;\n",
              "      border-radius: 50%;\n",
              "      cursor: pointer;\n",
              "      display: none;\n",
              "      fill: #1967D2;\n",
              "      height: 32px;\n",
              "      padding: 0 0 0 0;\n",
              "      width: 32px;\n",
              "    }\n",
              "\n",
              "    .colab-df-convert:hover {\n",
              "      background-color: #E2EBFA;\n",
              "      box-shadow: 0px 1px 2px rgba(60, 64, 67, 0.3), 0px 1px 3px 1px rgba(60, 64, 67, 0.15);\n",
              "      fill: #174EA6;\n",
              "    }\n",
              "\n",
              "    [theme=dark] .colab-df-convert {\n",
              "      background-color: #3B4455;\n",
              "      fill: #D2E3FC;\n",
              "    }\n",
              "\n",
              "    [theme=dark] .colab-df-convert:hover {\n",
              "      background-color: #434B5C;\n",
              "      box-shadow: 0px 1px 3px 1px rgba(0, 0, 0, 0.15);\n",
              "      filter: drop-shadow(0px 1px 2px rgba(0, 0, 0, 0.3));\n",
              "      fill: #FFFFFF;\n",
              "    }\n",
              "  </style>\n",
              "\n",
              "      <script>\n",
              "        const buttonEl =\n",
              "          document.querySelector('#df-90bb92c7-5800-4bfc-a87e-9c0d8aa451fb button.colab-df-convert');\n",
              "        buttonEl.style.display =\n",
              "          google.colab.kernel.accessAllowed ? 'block' : 'none';\n",
              "\n",
              "        async function convertToInteractive(key) {\n",
              "          const element = document.querySelector('#df-90bb92c7-5800-4bfc-a87e-9c0d8aa451fb');\n",
              "          const dataTable =\n",
              "            await google.colab.kernel.invokeFunction('convertToInteractive',\n",
              "                                                     [key], {});\n",
              "          if (!dataTable) return;\n",
              "\n",
              "          const docLinkHtml = 'Like what you see? Visit the ' +\n",
              "            '<a target=\"_blank\" href=https://colab.research.google.com/notebooks/data_table.ipynb>data table notebook</a>'\n",
              "            + ' to learn more about interactive tables.';\n",
              "          element.innerHTML = '';\n",
              "          dataTable['output_type'] = 'display_data';\n",
              "          await google.colab.output.renderOutput(dataTable, element);\n",
              "          const docLink = document.createElement('div');\n",
              "          docLink.innerHTML = docLinkHtml;\n",
              "          element.appendChild(docLink);\n",
              "        }\n",
              "      </script>\n",
              "    </div>\n",
              "  </div>\n",
              "  "
            ]
          },
          "metadata": {},
          "execution_count": 44
        }
      ],
      "source": [
        "skewed = ['total_male','total_female','night_mainland','night_zanzibar']\n",
        "data[skewed].describe(percentiles=[0.05,0.95])"
      ]
    },
    {
      "cell_type": "code",
      "execution_count": null,
      "metadata": {
        "id": "yjCgrClwve-S"
      },
      "outputs": [],
      "source": [
        "data['total_female'].loc[data['total_female'] > 3.000000]  = 4.000000\n",
        "data['total_male'].loc[data['total_male'] > 2.000000]  = 3.000000\n",
        "data['night_mainland'].loc[data['night_mainland'] > 28.000000]  = 30.000000\n",
        "data['night_zanzibar'].loc[data['night_zanzibar'] > 10.000000]  = 11.000000"
      ]
    },
    {
      "cell_type": "markdown",
      "metadata": {
        "id": "Giz7wZcVve-T"
      },
      "source": [
        "#### Feature Interactions"
      ]
    },
    {
      "cell_type": "code",
      "execution_count": null,
      "metadata": {
        "id": "_xU77MdTve-U"
      },
      "outputs": [],
      "source": [
        "data['total_people'] = data['total_male']+data['total_female']\n",
        "data['diff_male_female'] = data['total_female'] - data[\"total_male\"]\n",
        "data['total_nights'] = data['night_mainland'] + data['night_zanzibar']\n",
        "data['diff_nights'] = data['night_mainland'] - data['night_zanzibar']\n",
        "\n",
        "\n",
        "\n",
        "\n",
        "\n"
      ]
    },
    {
      "cell_type": "code",
      "execution_count": null,
      "metadata": {
        "id": "0HmOHB80ve-V"
      },
      "outputs": [],
      "source": [
        "\n",
        "data['prod_nights_people'] = data['total_nights']*data['total_people']\n",
        "data['diff_nights_people'] = data['total_nights']-data['total_people']\n",
        "data['sum_nights_people'] = data['total_nights']+data['total_people']\n"
      ]
    },
    {
      "cell_type": "code",
      "execution_count": null,
      "metadata": {
        "id": "mvDN7yKNve-W"
      },
      "outputs": [],
      "source": [
        "is_African = []\n",
        "african = ['SOUTH AFRICA', 'NIGERIA', 'RWANDA', 'MOZAMBIQUE', 'KENYA', 'ALGERIA', 'EGYPT','MALAWI', \n",
        "           'UGANDA', 'ZIMBABWE', 'ZAMBIA', 'CONGO', 'MAURITIUS', 'DRC', 'TUNISIA', 'ETHIOPIA','BURUNDI',\n",
        "           'GHANA', 'NIGER', 'COMORO', 'ANGOLA', 'SUDAN', 'NAMIBIA', 'LESOTHO', 'IVORY COAST', 'MADAGASCAR',\n",
        "           'DJIBOUT', 'MORROCO', 'BOTSWANA', 'LIBERIA', 'GUINEA', 'SOMALI']\n",
        "\n",
        "for country in data['country']:\n",
        "  if country in african:\n",
        "    is_African.append(True)\n",
        "  else:\n",
        "    is_African.append(False)\n",
        "\n",
        "data['is_african'] = is_African"
      ]
    },
    {
      "cell_type": "code",
      "execution_count": null,
      "metadata": {
        "id": "DQgu2kjEve-Y"
      },
      "outputs": [],
      "source": [
        "data['package_all'] = data['package_transport_int'].astype(str) + data['package_accomodation'].astype(str) + data['package_food'].astype(str) + data['package_transport_tz'].astype(str)+ data['package_sightseeing'].astype(str)+ data['package_insurance'].astype(str)+data['package_guided_tour'].astype(str)\n",
        "data['tour_total_people'] = data['tour_arrangement'] + data['total_people'].astype('str')\n",
        "data['tour_total_nights'] = data['tour_arrangement'] + data['total_nights'].astype('str')\n",
        "data['tour_package_all'] = data['tour_arrangement'] + data['package_all']\n",
        "data['activity_touur'] = data['tour_arrangement']+data['main_activity'].astype(str)\n"
      ]
    },
    {
      "cell_type": "code",
      "execution_count": null,
      "metadata": {
        "colab": {
          "base_uri": "https://localhost:8080/"
        },
        "id": "xQiStl9Nve-Y",
        "outputId": "6dc92960-7d6a-4c14-890f-d6476d0a9c80"
      },
      "outputs": [
        {
          "output_type": "execute_result",
          "data": {
            "text/plain": [
              "Index(['Tour_ID', 'country', 'age_group', 'travel_with', 'total_female',\n",
              "       'total_male', 'purpose', 'main_activity', 'info_source',\n",
              "       'tour_arrangement', 'package_transport_int', 'package_accomodation',\n",
              "       'package_food', 'package_transport_tz', 'package_sightseeing',\n",
              "       'package_guided_tour', 'package_insurance', 'night_mainland',\n",
              "       'night_zanzibar', 'first_trip_tz', 'cost_category', 'total_people',\n",
              "       'diff_male_female', 'total_nights', 'diff_nights', 'prod_nights_people',\n",
              "       'diff_nights_people', 'sum_nights_people', 'is_african', 'package_all',\n",
              "       'tour_total_people', 'tour_total_nights', 'tour_package_all',\n",
              "       'activity_touur'],\n",
              "      dtype='object')"
            ]
          },
          "metadata": {},
          "execution_count": 50
        }
      ],
      "source": [
        "data.columns"
      ]
    },
    {
      "cell_type": "markdown",
      "metadata": {
        "id": "Oe2DvQXBve-Z"
      },
      "source": [
        "### 1. Count Encoding"
      ]
    },
    {
      "cell_type": "code",
      "execution_count": null,
      "metadata": {
        "colab": {
          "base_uri": "https://localhost:8080/"
        },
        "id": "hBJHt01fve-Z",
        "outputId": "6d09d43a-34a0-4483-fe6f-39d27d9f263e"
      },
      "outputs": [
        {
          "output_type": "execute_result",
          "data": {
            "text/plain": [
              "Tour_ID                  24675\n",
              "country                    141\n",
              "age_group                    5\n",
              "travel_with                  6\n",
              "total_female                 5\n",
              "total_male                   4\n",
              "purpose                      8\n",
              "main_activity                7\n",
              "info_source                  6\n",
              "tour_arrangement             2\n",
              "package_transport_int        2\n",
              "package_accomodation         2\n",
              "package_food                 2\n",
              "package_transport_tz         2\n",
              "package_sightseeing          2\n",
              "package_guided_tour          2\n",
              "package_insurance            2\n",
              "night_mainland              30\n",
              "night_zanzibar              12\n",
              "first_trip_tz                2\n",
              "cost_category                7\n",
              "total_people                 8\n",
              "diff_male_female             8\n",
              "total_nights                41\n",
              "diff_nights                 42\n",
              "prod_nights_people         134\n",
              "diff_nights_people          46\n",
              "sum_nights_people           45\n",
              "is_african                   2\n",
              "package_all                120\n",
              "tour_total_people           16\n",
              "tour_total_nights           82\n",
              "tour_package_all           164\n",
              "activity_touur              14\n",
              "dtype: int64"
            ]
          },
          "metadata": {},
          "execution_count": 51
        }
      ],
      "source": [
        "# check unique values in dataset\n",
        "data.apply(lambda x: len(x.unique()))"
      ]
    },
    {
      "cell_type": "code",
      "execution_count": null,
      "metadata": {
        "id": "OUrXJjT0ve-Z"
      },
      "outputs": [],
      "source": [
        "cat_cols = ['country','total_male','is_african','total_female','total_people','total_nights','night_mainland','night_zanzibar'\n",
        "           \n",
        "           ]\n",
        "\n",
        "\n",
        "\n",
        "## Count of unique features\n",
        "for i in cat_cols:\n",
        "    data['count_'+i] = data[i].map(data[i].value_counts())\n",
        "# cat_cols"
      ]
    },
    {
      "cell_type": "code",
      "execution_count": null,
      "metadata": {
        "colab": {
          "base_uri": "https://localhost:8080/",
          "height": 526
        },
        "id": "gJf7BCyove-a",
        "outputId": "12b36b02-8db9-4c2f-923c-f229c3c0720e"
      },
      "outputs": [
        {
          "output_type": "execute_result",
          "data": {
            "text/plain": [
              "           Tour_ID                   country  age_group  travel_with  \\\n",
              "0  tour_id1hffseyw                     ITALY          4            6   \n",
              "1  tour_idnacd7zag            UNITED KINGDOM          3            2   \n",
              "2  tour_id62vz7e71  UNITED STATES OF AMERICA          1            2   \n",
              "3  tour_idrc76tzix                    RWANDA          3            4   \n",
              "4  tour_idn723m0n9  UNITED STATES OF AMERICA          4            1   \n",
              "\n",
              "   total_female  total_male                         purpose  main_activity  \\\n",
              "0           0.0         2.0  Visiting Friends and Relatives              2   \n",
              "1           1.0         1.0            Leisure and Holidays              1   \n",
              "2           1.0         1.0            Leisure and Holidays              7   \n",
              "3           3.0         1.0            Leisure and Holidays              2   \n",
              "4           0.0         1.0            Leisure and Holidays              7   \n",
              "\n",
              "   info_source tour_arrangement  ...                  tour_package_all  \\\n",
              "0            2     Package Tour  ...    Package TourYesYesYesYesNoNoNo   \n",
              "1            1     Package Tour  ...    Package TourYesYesYesYesNoNoNo   \n",
              "2            1     Package Tour  ...  Package TourYesYesYesYesYesNoYes   \n",
              "3            5      Independent  ...         IndependentNoNoNoNoNoNoNo   \n",
              "4            1     Package Tour  ...  Package TourYesYesYesYesNoYesYes   \n",
              "\n",
              "  activity_touur count_country count_total_male count_is_african  \\\n",
              "0  Package Tour2          2171             2036            19106   \n",
              "1  Package Tour1          2819            15772            19106   \n",
              "2  Package Tour7          3765            15772            19106   \n",
              "3   Independent2           192            15772             5569   \n",
              "4  Package Tour7          3765            15772            19106   \n",
              "\n",
              "  count_total_female count_total_people  count_total_nights  \\\n",
              "0               8230               8892                3068   \n",
              "1              12854               8892                3068   \n",
              "2              12854               8892                1163   \n",
              "3                690               1330                1604   \n",
              "4               8230              11843                3068   \n",
              "\n",
              "   count_night_mainland count_night_zanzibar  \n",
              "0                  3119                 2043  \n",
              "1                  3119                 2043  \n",
              "2                  1676                  831  \n",
              "3                  1709                15431  \n",
              "4                  2266                15431  \n",
              "\n",
              "[5 rows x 42 columns]"
            ],
            "text/html": [
              "\n",
              "  <div id=\"df-bc17770e-838e-4b66-8fea-efccb925431a\">\n",
              "    <div class=\"colab-df-container\">\n",
              "      <div>\n",
              "<style scoped>\n",
              "    .dataframe tbody tr th:only-of-type {\n",
              "        vertical-align: middle;\n",
              "    }\n",
              "\n",
              "    .dataframe tbody tr th {\n",
              "        vertical-align: top;\n",
              "    }\n",
              "\n",
              "    .dataframe thead th {\n",
              "        text-align: right;\n",
              "    }\n",
              "</style>\n",
              "<table border=\"1\" class=\"dataframe\">\n",
              "  <thead>\n",
              "    <tr style=\"text-align: right;\">\n",
              "      <th></th>\n",
              "      <th>Tour_ID</th>\n",
              "      <th>country</th>\n",
              "      <th>age_group</th>\n",
              "      <th>travel_with</th>\n",
              "      <th>total_female</th>\n",
              "      <th>total_male</th>\n",
              "      <th>purpose</th>\n",
              "      <th>main_activity</th>\n",
              "      <th>info_source</th>\n",
              "      <th>tour_arrangement</th>\n",
              "      <th>...</th>\n",
              "      <th>tour_package_all</th>\n",
              "      <th>activity_touur</th>\n",
              "      <th>count_country</th>\n",
              "      <th>count_total_male</th>\n",
              "      <th>count_is_african</th>\n",
              "      <th>count_total_female</th>\n",
              "      <th>count_total_people</th>\n",
              "      <th>count_total_nights</th>\n",
              "      <th>count_night_mainland</th>\n",
              "      <th>count_night_zanzibar</th>\n",
              "    </tr>\n",
              "  </thead>\n",
              "  <tbody>\n",
              "    <tr>\n",
              "      <th>0</th>\n",
              "      <td>tour_id1hffseyw</td>\n",
              "      <td>ITALY</td>\n",
              "      <td>4</td>\n",
              "      <td>6</td>\n",
              "      <td>0.0</td>\n",
              "      <td>2.0</td>\n",
              "      <td>Visiting Friends and Relatives</td>\n",
              "      <td>2</td>\n",
              "      <td>2</td>\n",
              "      <td>Package Tour</td>\n",
              "      <td>...</td>\n",
              "      <td>Package TourYesYesYesYesNoNoNo</td>\n",
              "      <td>Package Tour2</td>\n",
              "      <td>2171</td>\n",
              "      <td>2036</td>\n",
              "      <td>19106</td>\n",
              "      <td>8230</td>\n",
              "      <td>8892</td>\n",
              "      <td>3068</td>\n",
              "      <td>3119</td>\n",
              "      <td>2043</td>\n",
              "    </tr>\n",
              "    <tr>\n",
              "      <th>1</th>\n",
              "      <td>tour_idnacd7zag</td>\n",
              "      <td>UNITED KINGDOM</td>\n",
              "      <td>3</td>\n",
              "      <td>2</td>\n",
              "      <td>1.0</td>\n",
              "      <td>1.0</td>\n",
              "      <td>Leisure and Holidays</td>\n",
              "      <td>1</td>\n",
              "      <td>1</td>\n",
              "      <td>Package Tour</td>\n",
              "      <td>...</td>\n",
              "      <td>Package TourYesYesYesYesNoNoNo</td>\n",
              "      <td>Package Tour1</td>\n",
              "      <td>2819</td>\n",
              "      <td>15772</td>\n",
              "      <td>19106</td>\n",
              "      <td>12854</td>\n",
              "      <td>8892</td>\n",
              "      <td>3068</td>\n",
              "      <td>3119</td>\n",
              "      <td>2043</td>\n",
              "    </tr>\n",
              "    <tr>\n",
              "      <th>2</th>\n",
              "      <td>tour_id62vz7e71</td>\n",
              "      <td>UNITED STATES OF AMERICA</td>\n",
              "      <td>1</td>\n",
              "      <td>2</td>\n",
              "      <td>1.0</td>\n",
              "      <td>1.0</td>\n",
              "      <td>Leisure and Holidays</td>\n",
              "      <td>7</td>\n",
              "      <td>1</td>\n",
              "      <td>Package Tour</td>\n",
              "      <td>...</td>\n",
              "      <td>Package TourYesYesYesYesYesNoYes</td>\n",
              "      <td>Package Tour7</td>\n",
              "      <td>3765</td>\n",
              "      <td>15772</td>\n",
              "      <td>19106</td>\n",
              "      <td>12854</td>\n",
              "      <td>8892</td>\n",
              "      <td>1163</td>\n",
              "      <td>1676</td>\n",
              "      <td>831</td>\n",
              "    </tr>\n",
              "    <tr>\n",
              "      <th>3</th>\n",
              "      <td>tour_idrc76tzix</td>\n",
              "      <td>RWANDA</td>\n",
              "      <td>3</td>\n",
              "      <td>4</td>\n",
              "      <td>3.0</td>\n",
              "      <td>1.0</td>\n",
              "      <td>Leisure and Holidays</td>\n",
              "      <td>2</td>\n",
              "      <td>5</td>\n",
              "      <td>Independent</td>\n",
              "      <td>...</td>\n",
              "      <td>IndependentNoNoNoNoNoNoNo</td>\n",
              "      <td>Independent2</td>\n",
              "      <td>192</td>\n",
              "      <td>15772</td>\n",
              "      <td>5569</td>\n",
              "      <td>690</td>\n",
              "      <td>1330</td>\n",
              "      <td>1604</td>\n",
              "      <td>1709</td>\n",
              "      <td>15431</td>\n",
              "    </tr>\n",
              "    <tr>\n",
              "      <th>4</th>\n",
              "      <td>tour_idn723m0n9</td>\n",
              "      <td>UNITED STATES OF AMERICA</td>\n",
              "      <td>4</td>\n",
              "      <td>1</td>\n",
              "      <td>0.0</td>\n",
              "      <td>1.0</td>\n",
              "      <td>Leisure and Holidays</td>\n",
              "      <td>7</td>\n",
              "      <td>1</td>\n",
              "      <td>Package Tour</td>\n",
              "      <td>...</td>\n",
              "      <td>Package TourYesYesYesYesNoYesYes</td>\n",
              "      <td>Package Tour7</td>\n",
              "      <td>3765</td>\n",
              "      <td>15772</td>\n",
              "      <td>19106</td>\n",
              "      <td>8230</td>\n",
              "      <td>11843</td>\n",
              "      <td>3068</td>\n",
              "      <td>2266</td>\n",
              "      <td>15431</td>\n",
              "    </tr>\n",
              "  </tbody>\n",
              "</table>\n",
              "<p>5 rows × 42 columns</p>\n",
              "</div>\n",
              "      <button class=\"colab-df-convert\" onclick=\"convertToInteractive('df-bc17770e-838e-4b66-8fea-efccb925431a')\"\n",
              "              title=\"Convert this dataframe to an interactive table.\"\n",
              "              style=\"display:none;\">\n",
              "        \n",
              "  <svg xmlns=\"http://www.w3.org/2000/svg\" height=\"24px\"viewBox=\"0 0 24 24\"\n",
              "       width=\"24px\">\n",
              "    <path d=\"M0 0h24v24H0V0z\" fill=\"none\"/>\n",
              "    <path d=\"M18.56 5.44l.94 2.06.94-2.06 2.06-.94-2.06-.94-.94-2.06-.94 2.06-2.06.94zm-11 1L8.5 8.5l.94-2.06 2.06-.94-2.06-.94L8.5 2.5l-.94 2.06-2.06.94zm10 10l.94 2.06.94-2.06 2.06-.94-2.06-.94-.94-2.06-.94 2.06-2.06.94z\"/><path d=\"M17.41 7.96l-1.37-1.37c-.4-.4-.92-.59-1.43-.59-.52 0-1.04.2-1.43.59L10.3 9.45l-7.72 7.72c-.78.78-.78 2.05 0 2.83L4 21.41c.39.39.9.59 1.41.59.51 0 1.02-.2 1.41-.59l7.78-7.78 2.81-2.81c.8-.78.8-2.07 0-2.86zM5.41 20L4 18.59l7.72-7.72 1.47 1.35L5.41 20z\"/>\n",
              "  </svg>\n",
              "      </button>\n",
              "      \n",
              "  <style>\n",
              "    .colab-df-container {\n",
              "      display:flex;\n",
              "      flex-wrap:wrap;\n",
              "      gap: 12px;\n",
              "    }\n",
              "\n",
              "    .colab-df-convert {\n",
              "      background-color: #E8F0FE;\n",
              "      border: none;\n",
              "      border-radius: 50%;\n",
              "      cursor: pointer;\n",
              "      display: none;\n",
              "      fill: #1967D2;\n",
              "      height: 32px;\n",
              "      padding: 0 0 0 0;\n",
              "      width: 32px;\n",
              "    }\n",
              "\n",
              "    .colab-df-convert:hover {\n",
              "      background-color: #E2EBFA;\n",
              "      box-shadow: 0px 1px 2px rgba(60, 64, 67, 0.3), 0px 1px 3px 1px rgba(60, 64, 67, 0.15);\n",
              "      fill: #174EA6;\n",
              "    }\n",
              "\n",
              "    [theme=dark] .colab-df-convert {\n",
              "      background-color: #3B4455;\n",
              "      fill: #D2E3FC;\n",
              "    }\n",
              "\n",
              "    [theme=dark] .colab-df-convert:hover {\n",
              "      background-color: #434B5C;\n",
              "      box-shadow: 0px 1px 3px 1px rgba(0, 0, 0, 0.15);\n",
              "      filter: drop-shadow(0px 1px 2px rgba(0, 0, 0, 0.3));\n",
              "      fill: #FFFFFF;\n",
              "    }\n",
              "  </style>\n",
              "\n",
              "      <script>\n",
              "        const buttonEl =\n",
              "          document.querySelector('#df-bc17770e-838e-4b66-8fea-efccb925431a button.colab-df-convert');\n",
              "        buttonEl.style.display =\n",
              "          google.colab.kernel.accessAllowed ? 'block' : 'none';\n",
              "\n",
              "        async function convertToInteractive(key) {\n",
              "          const element = document.querySelector('#df-bc17770e-838e-4b66-8fea-efccb925431a');\n",
              "          const dataTable =\n",
              "            await google.colab.kernel.invokeFunction('convertToInteractive',\n",
              "                                                     [key], {});\n",
              "          if (!dataTable) return;\n",
              "\n",
              "          const docLinkHtml = 'Like what you see? Visit the ' +\n",
              "            '<a target=\"_blank\" href=https://colab.research.google.com/notebooks/data_table.ipynb>data table notebook</a>'\n",
              "            + ' to learn more about interactive tables.';\n",
              "          element.innerHTML = '';\n",
              "          dataTable['output_type'] = 'display_data';\n",
              "          await google.colab.output.renderOutput(dataTable, element);\n",
              "          const docLink = document.createElement('div');\n",
              "          docLink.innerHTML = docLinkHtml;\n",
              "          element.appendChild(docLink);\n",
              "        }\n",
              "      </script>\n",
              "    </div>\n",
              "  </div>\n",
              "  "
            ]
          },
          "metadata": {},
          "execution_count": 53
        }
      ],
      "source": [
        "data.head()"
      ]
    },
    {
      "cell_type": "markdown",
      "metadata": {
        "id": "MoJY0HyMve-a"
      },
      "source": [
        "### 2. Groupby mean Encoding and difference"
      ]
    },
    {
      "cell_type": "markdown",
      "metadata": {
        "id": "VVEhihi3ve-a"
      },
      "source": [
        "#### These groups categorical colums with numercal columns means"
      ]
    },
    {
      "cell_type": "code",
      "execution_count": null,
      "metadata": {
        "id": "6tWiOcNEve-a"
      },
      "outputs": [],
      "source": [
        "data['gb_feature_country_total_people'] = data.groupby(['country'])['total_people'].transform('mean')\n",
        "data['gb_feature_age_group_total_people'] = data.groupby(['age_group'])['total_people'].transform('mean')\n",
        "data['gb_feature_travel_with_total_people'] = data.groupby(['travel_with'])['total_people'].transform('mean')\n",
        "data['gb_feature_purpose_total_people'] = data.groupby(['purpose'])['total_people'].transform('mean')\n",
        "data['gb_feature_main_activity_total_people'] = data.groupby(['main_activity'])['total_people'].transform('mean')\n",
        "data['gb_feature_tour_arrangement_total_people'] = data.groupby(['tour_arrangement'])['total_people'].transform('mean')\n",
        "data['gb_feature_first_trip_tz_total_people'] = data.groupby(['first_trip_tz'])['total_people'].transform('mean')"
      ]
    },
    {
      "cell_type": "code",
      "execution_count": null,
      "metadata": {
        "id": "n87iYCqqve-b"
      },
      "outputs": [],
      "source": [
        "data['gb_feature_country_total_nights'] = data.groupby(['country'])['total_nights'].transform('mean')\n",
        "data['gb_feature_age_group_total_nights'] = data.groupby(['age_group'])['total_nights'].transform('mean')\n",
        "data['gb_feature_travel_with_total_nights'] = data.groupby(['travel_with'])['total_nights'].transform('mean')\n",
        "data['gb_feature_purpose_total_nights'] = data.groupby(['purpose'])['total_nights'].transform('mean')\n",
        "data['gb_feature_main_activity_total_nights'] = data.groupby(['main_activity'])['total_nights'].transform('mean')\n",
        "data['gb_feature_tour_arrangement_total_nights'] = data.groupby(['tour_arrangement'])['total_nights'].transform('mean')\n",
        "data['gb_feature_first_trip_tz_total_nights'] = data.groupby(['first_trip_tz'])['total_nights'].transform('mean')"
      ]
    },
    {
      "cell_type": "code",
      "execution_count": null,
      "metadata": {
        "id": "yJPUxoWcve-b"
      },
      "outputs": [],
      "source": [
        "data['gb_feature_country_prod_nights_people'] = data.groupby(['country'])['prod_nights_people'].transform('mean')\n",
        "data['gb_feature_age_group_prod_nights_people'] = data.groupby(['age_group'])['prod_nights_people'].transform('mean')\n",
        "data['gb_feature_travel_with_prod_nights_people'] = data.groupby(['travel_with'])['prod_nights_people'].transform('mean')\n",
        "data['gb_feature_purpose_prod_nights_people'] = data.groupby(['purpose'])['prod_nights_people'].transform('mean')\n",
        "data['gb_feature_main_activity_prod_nights_people'] = data.groupby(['main_activity'])['prod_nights_people'].transform('mean')\n",
        "data['gb_feature_tour_arrangement_prod_nights_people'] = data.groupby(['tour_arrangement'])['prod_nights_people'].transform('mean')\n",
        "data['gb_feature_first_trip_tz_prod_nights_people'] = data.groupby(['first_trip_tz'])['prod_nights_people'].transform('mean')"
      ]
    },
    {
      "cell_type": "code",
      "execution_count": null,
      "metadata": {
        "id": "pw7hnMVPve-b"
      },
      "outputs": [],
      "source": [
        "data['gb_feature_country_sum_nights_people'] = data.groupby(['country'])['sum_nights_people'].transform('mean')\n",
        "data['gb_feature_age_group_sum_nights_people'] = data.groupby(['age_group'])['sum_nights_people'].transform('mean')\n",
        "data['gb_feature_travel_with_sum_nights_people'] = data.groupby(['travel_with'])['sum_nights_people'].transform('mean')\n",
        "data['gb_feature_purpose_sum_nights_people'] = data.groupby(['purpose'])['sum_nights_people'].transform('mean')\n",
        "data['gb_feature_main_activity_sum_nights_people'] = data.groupby(['main_activity'])['sum_nights_people'].transform('mean')\n",
        "data['gb_feature_tour_arrangement_sum_nights_people'] = data.groupby(['tour_arrangement'])['sum_nights_people'].transform('mean')\n",
        "data['gb_feature_first_trip_tz_sum_nights_people'] = data.groupby(['first_trip_tz'])['sum_nights_people'].transform('mean')"
      ]
    },
    {
      "cell_type": "code",
      "execution_count": null,
      "metadata": {
        "id": "JOItahzove-c"
      },
      "outputs": [],
      "source": [
        "data['gb_feature_country_diff_nights_people'] = data.groupby(['country'])['diff_nights_people'].transform('mean')\n",
        "data['gb_feature_age_group_diff_nights_people'] = data.groupby(['age_group'])['diff_nights_people'].transform('mean')\n",
        "data['gb_feature_travel_with_diff_nights_people'] = data.groupby(['travel_with'])['diff_nights_people'].transform('mean')\n",
        "data['gb_feature_purpose_diff_nights_people'] = data.groupby(['purpose'])['diff_nights_people'].transform('mean')\n",
        "data['gb_feature_main_activity_diff_nights_people'] = data.groupby(['main_activity'])['diff_nights_people'].transform('mean')\n",
        "data['gb_feature_tour_arrangement_diff_nights_people'] = data.groupby(['tour_arrangement'])['diff_nights_people'].transform('mean')\n",
        "data['gb_feature_first_trip_tz_diff_nights_people'] = data.groupby(['first_trip_tz'])['diff_nights_people'].transform('mean')"
      ]
    },
    {
      "cell_type": "code",
      "execution_count": null,
      "metadata": {
        "id": "D_4SW_cTve-c"
      },
      "outputs": [],
      "source": [
        "data['gb_feature_country_diff_nights'] = data.groupby(['country'])['diff_nights'].transform('mean')\n",
        "data['gb_feature_age_group_diff_nights'] = data.groupby(['age_group'])['diff_nights'].transform('mean')\n",
        "data['gb_feature_travel_with_diff_nights'] = data.groupby(['travel_with'])['diff_nights'].transform('mean')\n",
        "data['gb_feature_purpose_diff_nights'] = data.groupby(['purpose'])['diff_nights'].transform('mean')\n",
        "data['gb_feature_main_activity_diff_nights'] = data.groupby(['main_activity'])['diff_nights'].transform('mean')\n",
        "data['gb_feature_tour_arrangement_diff_nights'] = data.groupby(['tour_arrangement'])['diff_nights'].transform('mean')\n",
        "data['gb_feature_first_trip_tz_diff_nights'] = data.groupby(['first_trip_tz'])['diff_nights'].transform('mean')"
      ]
    },
    {
      "cell_type": "code",
      "execution_count": null,
      "metadata": {
        "id": "eAoJkbf1ve-c"
      },
      "outputs": [],
      "source": [
        "data['gb_feature_country_diff_male_female'] = data.groupby(['country'])['diff_male_female'].transform('mean')\n",
        "data['gb_feature_age_group_diff_male_female'] = data.groupby(['age_group'])['diff_male_female'].transform('mean')\n",
        "data['gb_feature_travel_with_diff_male_female'] = data.groupby(['travel_with'])['diff_male_female'].transform('mean')\n",
        "data['gb_feature_purpose_diff_male_female'] = data.groupby(['purpose'])['diff_male_female'].transform('mean')\n",
        "data['gb_feature_main_activity_diff_male_female'] = data.groupby(['main_activity'])['diff_male_female'].transform('mean')\n",
        "data['gb_feature_tour_arrangement_diff_male_female'] = data.groupby(['tour_arrangement'])['diff_male_female'].transform('mean')\n",
        "data['gb_feature_first_trip_tz_diff_male_female'] = data.groupby(['first_trip_tz'])['diff_male_female'].transform('mean')"
      ]
    },
    {
      "cell_type": "code",
      "execution_count": null,
      "metadata": {
        "colab": {
          "base_uri": "https://localhost:8080/",
          "height": 526
        },
        "id": "ljaorv9Fve-d",
        "outputId": "a490046a-90c8-40ba-e600-374614b78011"
      },
      "outputs": [
        {
          "output_type": "execute_result",
          "data": {
            "text/plain": [
              "           Tour_ID                   country  age_group  travel_with  \\\n",
              "0  tour_id1hffseyw                     ITALY          4            6   \n",
              "1  tour_idnacd7zag            UNITED KINGDOM          3            2   \n",
              "2  tour_id62vz7e71  UNITED STATES OF AMERICA          1            2   \n",
              "3  tour_idrc76tzix                    RWANDA          3            4   \n",
              "4  tour_idn723m0n9  UNITED STATES OF AMERICA          4            1   \n",
              "\n",
              "   total_female  total_male                         purpose  main_activity  \\\n",
              "0           0.0         2.0  Visiting Friends and Relatives              2   \n",
              "1           1.0         1.0            Leisure and Holidays              1   \n",
              "2           1.0         1.0            Leisure and Holidays              7   \n",
              "3           3.0         1.0            Leisure and Holidays              2   \n",
              "4           0.0         1.0            Leisure and Holidays              7   \n",
              "\n",
              "   info_source tour_arrangement  ... gb_feature_main_activity_diff_nights  \\\n",
              "0            2     Package Tour  ...                             0.479657   \n",
              "1            1     Package Tour  ...                             6.870647   \n",
              "2            1     Package Tour  ...                             7.417299   \n",
              "3            5      Independent  ...                             0.479657   \n",
              "4            1     Package Tour  ...                             7.417299   \n",
              "\n",
              "  gb_feature_tour_arrangement_diff_nights  \\\n",
              "0                                4.513226   \n",
              "1                                4.513226   \n",
              "2                                4.513226   \n",
              "3                                7.104688   \n",
              "4                                4.513226   \n",
              "\n",
              "  gb_feature_first_trip_tz_diff_nights gb_feature_country_diff_male_female  \\\n",
              "0                             5.254889                            0.057117   \n",
              "1                             5.254889                            0.063143   \n",
              "2                             5.254889                            0.111554   \n",
              "3                             7.035199                            0.125000   \n",
              "4                             5.254889                            0.111554   \n",
              "\n",
              "  gb_feature_age_group_diff_male_female  \\\n",
              "0                             -0.083124   \n",
              "1                             -0.123053   \n",
              "2                              0.076528   \n",
              "3                             -0.123053   \n",
              "4                             -0.083124   \n",
              "\n",
              "  gb_feature_travel_with_diff_male_female gb_feature_purpose_diff_male_female  \\\n",
              "0                                0.265110                           -0.075300   \n",
              "1                                0.009790                            0.092005   \n",
              "2                                0.009790                            0.092005   \n",
              "3                                0.136669                            0.092005   \n",
              "4                               -0.245800                            0.092005   \n",
              "\n",
              "   gb_feature_main_activity_diff_male_female  \\\n",
              "0                                  -0.003747   \n",
              "1                                  -0.024876   \n",
              "2                                   0.019415   \n",
              "3                                  -0.003747   \n",
              "4                                   0.019415   \n",
              "\n",
              "   gb_feature_tour_arrangement_diff_male_female  \\\n",
              "0                                      0.095261   \n",
              "1                                      0.095261   \n",
              "2                                      0.095261   \n",
              "3                                     -0.203141   \n",
              "4                                      0.095261   \n",
              "\n",
              "  gb_feature_first_trip_tz_diff_male_female  \n",
              "0                                  0.040705  \n",
              "1                                  0.040705  \n",
              "2                                  0.040705  \n",
              "3                                 -0.263151  \n",
              "4                                  0.040705  \n",
              "\n",
              "[5 rows x 91 columns]"
            ],
            "text/html": [
              "\n",
              "  <div id=\"df-fdddb78f-05f5-41a5-b525-476f14c08719\">\n",
              "    <div class=\"colab-df-container\">\n",
              "      <div>\n",
              "<style scoped>\n",
              "    .dataframe tbody tr th:only-of-type {\n",
              "        vertical-align: middle;\n",
              "    }\n",
              "\n",
              "    .dataframe tbody tr th {\n",
              "        vertical-align: top;\n",
              "    }\n",
              "\n",
              "    .dataframe thead th {\n",
              "        text-align: right;\n",
              "    }\n",
              "</style>\n",
              "<table border=\"1\" class=\"dataframe\">\n",
              "  <thead>\n",
              "    <tr style=\"text-align: right;\">\n",
              "      <th></th>\n",
              "      <th>Tour_ID</th>\n",
              "      <th>country</th>\n",
              "      <th>age_group</th>\n",
              "      <th>travel_with</th>\n",
              "      <th>total_female</th>\n",
              "      <th>total_male</th>\n",
              "      <th>purpose</th>\n",
              "      <th>main_activity</th>\n",
              "      <th>info_source</th>\n",
              "      <th>tour_arrangement</th>\n",
              "      <th>...</th>\n",
              "      <th>gb_feature_main_activity_diff_nights</th>\n",
              "      <th>gb_feature_tour_arrangement_diff_nights</th>\n",
              "      <th>gb_feature_first_trip_tz_diff_nights</th>\n",
              "      <th>gb_feature_country_diff_male_female</th>\n",
              "      <th>gb_feature_age_group_diff_male_female</th>\n",
              "      <th>gb_feature_travel_with_diff_male_female</th>\n",
              "      <th>gb_feature_purpose_diff_male_female</th>\n",
              "      <th>gb_feature_main_activity_diff_male_female</th>\n",
              "      <th>gb_feature_tour_arrangement_diff_male_female</th>\n",
              "      <th>gb_feature_first_trip_tz_diff_male_female</th>\n",
              "    </tr>\n",
              "  </thead>\n",
              "  <tbody>\n",
              "    <tr>\n",
              "      <th>0</th>\n",
              "      <td>tour_id1hffseyw</td>\n",
              "      <td>ITALY</td>\n",
              "      <td>4</td>\n",
              "      <td>6</td>\n",
              "      <td>0.0</td>\n",
              "      <td>2.0</td>\n",
              "      <td>Visiting Friends and Relatives</td>\n",
              "      <td>2</td>\n",
              "      <td>2</td>\n",
              "      <td>Package Tour</td>\n",
              "      <td>...</td>\n",
              "      <td>0.479657</td>\n",
              "      <td>4.513226</td>\n",
              "      <td>5.254889</td>\n",
              "      <td>0.057117</td>\n",
              "      <td>-0.083124</td>\n",
              "      <td>0.265110</td>\n",
              "      <td>-0.075300</td>\n",
              "      <td>-0.003747</td>\n",
              "      <td>0.095261</td>\n",
              "      <td>0.040705</td>\n",
              "    </tr>\n",
              "    <tr>\n",
              "      <th>1</th>\n",
              "      <td>tour_idnacd7zag</td>\n",
              "      <td>UNITED KINGDOM</td>\n",
              "      <td>3</td>\n",
              "      <td>2</td>\n",
              "      <td>1.0</td>\n",
              "      <td>1.0</td>\n",
              "      <td>Leisure and Holidays</td>\n",
              "      <td>1</td>\n",
              "      <td>1</td>\n",
              "      <td>Package Tour</td>\n",
              "      <td>...</td>\n",
              "      <td>6.870647</td>\n",
              "      <td>4.513226</td>\n",
              "      <td>5.254889</td>\n",
              "      <td>0.063143</td>\n",
              "      <td>-0.123053</td>\n",
              "      <td>0.009790</td>\n",
              "      <td>0.092005</td>\n",
              "      <td>-0.024876</td>\n",
              "      <td>0.095261</td>\n",
              "      <td>0.040705</td>\n",
              "    </tr>\n",
              "    <tr>\n",
              "      <th>2</th>\n",
              "      <td>tour_id62vz7e71</td>\n",
              "      <td>UNITED STATES OF AMERICA</td>\n",
              "      <td>1</td>\n",
              "      <td>2</td>\n",
              "      <td>1.0</td>\n",
              "      <td>1.0</td>\n",
              "      <td>Leisure and Holidays</td>\n",
              "      <td>7</td>\n",
              "      <td>1</td>\n",
              "      <td>Package Tour</td>\n",
              "      <td>...</td>\n",
              "      <td>7.417299</td>\n",
              "      <td>4.513226</td>\n",
              "      <td>5.254889</td>\n",
              "      <td>0.111554</td>\n",
              "      <td>0.076528</td>\n",
              "      <td>0.009790</td>\n",
              "      <td>0.092005</td>\n",
              "      <td>0.019415</td>\n",
              "      <td>0.095261</td>\n",
              "      <td>0.040705</td>\n",
              "    </tr>\n",
              "    <tr>\n",
              "      <th>3</th>\n",
              "      <td>tour_idrc76tzix</td>\n",
              "      <td>RWANDA</td>\n",
              "      <td>3</td>\n",
              "      <td>4</td>\n",
              "      <td>3.0</td>\n",
              "      <td>1.0</td>\n",
              "      <td>Leisure and Holidays</td>\n",
              "      <td>2</td>\n",
              "      <td>5</td>\n",
              "      <td>Independent</td>\n",
              "      <td>...</td>\n",
              "      <td>0.479657</td>\n",
              "      <td>7.104688</td>\n",
              "      <td>7.035199</td>\n",
              "      <td>0.125000</td>\n",
              "      <td>-0.123053</td>\n",
              "      <td>0.136669</td>\n",
              "      <td>0.092005</td>\n",
              "      <td>-0.003747</td>\n",
              "      <td>-0.203141</td>\n",
              "      <td>-0.263151</td>\n",
              "    </tr>\n",
              "    <tr>\n",
              "      <th>4</th>\n",
              "      <td>tour_idn723m0n9</td>\n",
              "      <td>UNITED STATES OF AMERICA</td>\n",
              "      <td>4</td>\n",
              "      <td>1</td>\n",
              "      <td>0.0</td>\n",
              "      <td>1.0</td>\n",
              "      <td>Leisure and Holidays</td>\n",
              "      <td>7</td>\n",
              "      <td>1</td>\n",
              "      <td>Package Tour</td>\n",
              "      <td>...</td>\n",
              "      <td>7.417299</td>\n",
              "      <td>4.513226</td>\n",
              "      <td>5.254889</td>\n",
              "      <td>0.111554</td>\n",
              "      <td>-0.083124</td>\n",
              "      <td>-0.245800</td>\n",
              "      <td>0.092005</td>\n",
              "      <td>0.019415</td>\n",
              "      <td>0.095261</td>\n",
              "      <td>0.040705</td>\n",
              "    </tr>\n",
              "  </tbody>\n",
              "</table>\n",
              "<p>5 rows × 91 columns</p>\n",
              "</div>\n",
              "      <button class=\"colab-df-convert\" onclick=\"convertToInteractive('df-fdddb78f-05f5-41a5-b525-476f14c08719')\"\n",
              "              title=\"Convert this dataframe to an interactive table.\"\n",
              "              style=\"display:none;\">\n",
              "        \n",
              "  <svg xmlns=\"http://www.w3.org/2000/svg\" height=\"24px\"viewBox=\"0 0 24 24\"\n",
              "       width=\"24px\">\n",
              "    <path d=\"M0 0h24v24H0V0z\" fill=\"none\"/>\n",
              "    <path d=\"M18.56 5.44l.94 2.06.94-2.06 2.06-.94-2.06-.94-.94-2.06-.94 2.06-2.06.94zm-11 1L8.5 8.5l.94-2.06 2.06-.94-2.06-.94L8.5 2.5l-.94 2.06-2.06.94zm10 10l.94 2.06.94-2.06 2.06-.94-2.06-.94-.94-2.06-.94 2.06-2.06.94z\"/><path d=\"M17.41 7.96l-1.37-1.37c-.4-.4-.92-.59-1.43-.59-.52 0-1.04.2-1.43.59L10.3 9.45l-7.72 7.72c-.78.78-.78 2.05 0 2.83L4 21.41c.39.39.9.59 1.41.59.51 0 1.02-.2 1.41-.59l7.78-7.78 2.81-2.81c.8-.78.8-2.07 0-2.86zM5.41 20L4 18.59l7.72-7.72 1.47 1.35L5.41 20z\"/>\n",
              "  </svg>\n",
              "      </button>\n",
              "      \n",
              "  <style>\n",
              "    .colab-df-container {\n",
              "      display:flex;\n",
              "      flex-wrap:wrap;\n",
              "      gap: 12px;\n",
              "    }\n",
              "\n",
              "    .colab-df-convert {\n",
              "      background-color: #E8F0FE;\n",
              "      border: none;\n",
              "      border-radius: 50%;\n",
              "      cursor: pointer;\n",
              "      display: none;\n",
              "      fill: #1967D2;\n",
              "      height: 32px;\n",
              "      padding: 0 0 0 0;\n",
              "      width: 32px;\n",
              "    }\n",
              "\n",
              "    .colab-df-convert:hover {\n",
              "      background-color: #E2EBFA;\n",
              "      box-shadow: 0px 1px 2px rgba(60, 64, 67, 0.3), 0px 1px 3px 1px rgba(60, 64, 67, 0.15);\n",
              "      fill: #174EA6;\n",
              "    }\n",
              "\n",
              "    [theme=dark] .colab-df-convert {\n",
              "      background-color: #3B4455;\n",
              "      fill: #D2E3FC;\n",
              "    }\n",
              "\n",
              "    [theme=dark] .colab-df-convert:hover {\n",
              "      background-color: #434B5C;\n",
              "      box-shadow: 0px 1px 3px 1px rgba(0, 0, 0, 0.15);\n",
              "      filter: drop-shadow(0px 1px 2px rgba(0, 0, 0, 0.3));\n",
              "      fill: #FFFFFF;\n",
              "    }\n",
              "  </style>\n",
              "\n",
              "      <script>\n",
              "        const buttonEl =\n",
              "          document.querySelector('#df-fdddb78f-05f5-41a5-b525-476f14c08719 button.colab-df-convert');\n",
              "        buttonEl.style.display =\n",
              "          google.colab.kernel.accessAllowed ? 'block' : 'none';\n",
              "\n",
              "        async function convertToInteractive(key) {\n",
              "          const element = document.querySelector('#df-fdddb78f-05f5-41a5-b525-476f14c08719');\n",
              "          const dataTable =\n",
              "            await google.colab.kernel.invokeFunction('convertToInteractive',\n",
              "                                                     [key], {});\n",
              "          if (!dataTable) return;\n",
              "\n",
              "          const docLinkHtml = 'Like what you see? Visit the ' +\n",
              "            '<a target=\"_blank\" href=https://colab.research.google.com/notebooks/data_table.ipynb>data table notebook</a>'\n",
              "            + ' to learn more about interactive tables.';\n",
              "          element.innerHTML = '';\n",
              "          dataTable['output_type'] = 'display_data';\n",
              "          await google.colab.output.renderOutput(dataTable, element);\n",
              "          const docLink = document.createElement('div');\n",
              "          docLink.innerHTML = docLinkHtml;\n",
              "          element.appendChild(docLink);\n",
              "        }\n",
              "      </script>\n",
              "    </div>\n",
              "  </div>\n",
              "  "
            ]
          },
          "metadata": {},
          "execution_count": 61
        }
      ],
      "source": [
        "data.head()"
      ]
    },
    {
      "cell_type": "markdown",
      "metadata": {
        "id": "MOufeoGYve-d"
      },
      "source": [
        "### 4. Pandas Get Dummies"
      ]
    },
    {
      "cell_type": "code",
      "execution_count": null,
      "metadata": {
        "colab": {
          "base_uri": "https://localhost:8080/",
          "height": 376
        },
        "id": "un-uMWY-ve-e",
        "outputId": "674299a3-d88c-41bf-9ca5-479b96eeaf51"
      },
      "outputs": [
        {
          "output_type": "execute_result",
          "data": {
            "text/plain": [
              "           Tour_ID                   country  travel_with  total_female  \\\n",
              "0  tour_id1hffseyw                     ITALY            6           0.0   \n",
              "1  tour_idnacd7zag            UNITED KINGDOM            2           1.0   \n",
              "2  tour_id62vz7e71  UNITED STATES OF AMERICA            2           1.0   \n",
              "\n",
              "   total_male                         purpose  info_source tour_arrangement  \\\n",
              "0         2.0  Visiting Friends and Relatives            2     Package Tour   \n",
              "1         1.0            Leisure and Holidays            1     Package Tour   \n",
              "2         1.0            Leisure and Holidays            1     Package Tour   \n",
              "\n",
              "  package_accomodation package_food  ... main_activity_2 main_activity_3  \\\n",
              "0                  Yes          Yes  ...               1               0   \n",
              "1                  Yes          Yes  ...               0               0   \n",
              "2                  Yes          Yes  ...               0               0   \n",
              "\n",
              "  main_activity_4 main_activity_5  main_activity_6  main_activity_7  \\\n",
              "0               0               0                0                0   \n",
              "1               0               0                0                0   \n",
              "2               0               0                0                1   \n",
              "\n",
              "  package_transport_int_No  package_transport_int_Yes  first_trip_tz_No  \\\n",
              "0                        0                          1                 0   \n",
              "1                        0                          1                 0   \n",
              "2                        0                          1                 0   \n",
              "\n",
              "   first_trip_tz_Yes  \n",
              "0                  1  \n",
              "1                  1  \n",
              "2                  1  \n",
              "\n",
              "[3 rows x 103 columns]"
            ],
            "text/html": [
              "\n",
              "  <div id=\"df-541e9089-1aac-4bd8-8725-234b97bbf81a\">\n",
              "    <div class=\"colab-df-container\">\n",
              "      <div>\n",
              "<style scoped>\n",
              "    .dataframe tbody tr th:only-of-type {\n",
              "        vertical-align: middle;\n",
              "    }\n",
              "\n",
              "    .dataframe tbody tr th {\n",
              "        vertical-align: top;\n",
              "    }\n",
              "\n",
              "    .dataframe thead th {\n",
              "        text-align: right;\n",
              "    }\n",
              "</style>\n",
              "<table border=\"1\" class=\"dataframe\">\n",
              "  <thead>\n",
              "    <tr style=\"text-align: right;\">\n",
              "      <th></th>\n",
              "      <th>Tour_ID</th>\n",
              "      <th>country</th>\n",
              "      <th>travel_with</th>\n",
              "      <th>total_female</th>\n",
              "      <th>total_male</th>\n",
              "      <th>purpose</th>\n",
              "      <th>info_source</th>\n",
              "      <th>tour_arrangement</th>\n",
              "      <th>package_accomodation</th>\n",
              "      <th>package_food</th>\n",
              "      <th>...</th>\n",
              "      <th>main_activity_2</th>\n",
              "      <th>main_activity_3</th>\n",
              "      <th>main_activity_4</th>\n",
              "      <th>main_activity_5</th>\n",
              "      <th>main_activity_6</th>\n",
              "      <th>main_activity_7</th>\n",
              "      <th>package_transport_int_No</th>\n",
              "      <th>package_transport_int_Yes</th>\n",
              "      <th>first_trip_tz_No</th>\n",
              "      <th>first_trip_tz_Yes</th>\n",
              "    </tr>\n",
              "  </thead>\n",
              "  <tbody>\n",
              "    <tr>\n",
              "      <th>0</th>\n",
              "      <td>tour_id1hffseyw</td>\n",
              "      <td>ITALY</td>\n",
              "      <td>6</td>\n",
              "      <td>0.0</td>\n",
              "      <td>2.0</td>\n",
              "      <td>Visiting Friends and Relatives</td>\n",
              "      <td>2</td>\n",
              "      <td>Package Tour</td>\n",
              "      <td>Yes</td>\n",
              "      <td>Yes</td>\n",
              "      <td>...</td>\n",
              "      <td>1</td>\n",
              "      <td>0</td>\n",
              "      <td>0</td>\n",
              "      <td>0</td>\n",
              "      <td>0</td>\n",
              "      <td>0</td>\n",
              "      <td>0</td>\n",
              "      <td>1</td>\n",
              "      <td>0</td>\n",
              "      <td>1</td>\n",
              "    </tr>\n",
              "    <tr>\n",
              "      <th>1</th>\n",
              "      <td>tour_idnacd7zag</td>\n",
              "      <td>UNITED KINGDOM</td>\n",
              "      <td>2</td>\n",
              "      <td>1.0</td>\n",
              "      <td>1.0</td>\n",
              "      <td>Leisure and Holidays</td>\n",
              "      <td>1</td>\n",
              "      <td>Package Tour</td>\n",
              "      <td>Yes</td>\n",
              "      <td>Yes</td>\n",
              "      <td>...</td>\n",
              "      <td>0</td>\n",
              "      <td>0</td>\n",
              "      <td>0</td>\n",
              "      <td>0</td>\n",
              "      <td>0</td>\n",
              "      <td>0</td>\n",
              "      <td>0</td>\n",
              "      <td>1</td>\n",
              "      <td>0</td>\n",
              "      <td>1</td>\n",
              "    </tr>\n",
              "    <tr>\n",
              "      <th>2</th>\n",
              "      <td>tour_id62vz7e71</td>\n",
              "      <td>UNITED STATES OF AMERICA</td>\n",
              "      <td>2</td>\n",
              "      <td>1.0</td>\n",
              "      <td>1.0</td>\n",
              "      <td>Leisure and Holidays</td>\n",
              "      <td>1</td>\n",
              "      <td>Package Tour</td>\n",
              "      <td>Yes</td>\n",
              "      <td>Yes</td>\n",
              "      <td>...</td>\n",
              "      <td>0</td>\n",
              "      <td>0</td>\n",
              "      <td>0</td>\n",
              "      <td>0</td>\n",
              "      <td>0</td>\n",
              "      <td>1</td>\n",
              "      <td>0</td>\n",
              "      <td>1</td>\n",
              "      <td>0</td>\n",
              "      <td>1</td>\n",
              "    </tr>\n",
              "  </tbody>\n",
              "</table>\n",
              "<p>3 rows × 103 columns</p>\n",
              "</div>\n",
              "      <button class=\"colab-df-convert\" onclick=\"convertToInteractive('df-541e9089-1aac-4bd8-8725-234b97bbf81a')\"\n",
              "              title=\"Convert this dataframe to an interactive table.\"\n",
              "              style=\"display:none;\">\n",
              "        \n",
              "  <svg xmlns=\"http://www.w3.org/2000/svg\" height=\"24px\"viewBox=\"0 0 24 24\"\n",
              "       width=\"24px\">\n",
              "    <path d=\"M0 0h24v24H0V0z\" fill=\"none\"/>\n",
              "    <path d=\"M18.56 5.44l.94 2.06.94-2.06 2.06-.94-2.06-.94-.94-2.06-.94 2.06-2.06.94zm-11 1L8.5 8.5l.94-2.06 2.06-.94-2.06-.94L8.5 2.5l-.94 2.06-2.06.94zm10 10l.94 2.06.94-2.06 2.06-.94-2.06-.94-.94-2.06-.94 2.06-2.06.94z\"/><path d=\"M17.41 7.96l-1.37-1.37c-.4-.4-.92-.59-1.43-.59-.52 0-1.04.2-1.43.59L10.3 9.45l-7.72 7.72c-.78.78-.78 2.05 0 2.83L4 21.41c.39.39.9.59 1.41.59.51 0 1.02-.2 1.41-.59l7.78-7.78 2.81-2.81c.8-.78.8-2.07 0-2.86zM5.41 20L4 18.59l7.72-7.72 1.47 1.35L5.41 20z\"/>\n",
              "  </svg>\n",
              "      </button>\n",
              "      \n",
              "  <style>\n",
              "    .colab-df-container {\n",
              "      display:flex;\n",
              "      flex-wrap:wrap;\n",
              "      gap: 12px;\n",
              "    }\n",
              "\n",
              "    .colab-df-convert {\n",
              "      background-color: #E8F0FE;\n",
              "      border: none;\n",
              "      border-radius: 50%;\n",
              "      cursor: pointer;\n",
              "      display: none;\n",
              "      fill: #1967D2;\n",
              "      height: 32px;\n",
              "      padding: 0 0 0 0;\n",
              "      width: 32px;\n",
              "    }\n",
              "\n",
              "    .colab-df-convert:hover {\n",
              "      background-color: #E2EBFA;\n",
              "      box-shadow: 0px 1px 2px rgba(60, 64, 67, 0.3), 0px 1px 3px 1px rgba(60, 64, 67, 0.15);\n",
              "      fill: #174EA6;\n",
              "    }\n",
              "\n",
              "    [theme=dark] .colab-df-convert {\n",
              "      background-color: #3B4455;\n",
              "      fill: #D2E3FC;\n",
              "    }\n",
              "\n",
              "    [theme=dark] .colab-df-convert:hover {\n",
              "      background-color: #434B5C;\n",
              "      box-shadow: 0px 1px 3px 1px rgba(0, 0, 0, 0.15);\n",
              "      filter: drop-shadow(0px 1px 2px rgba(0, 0, 0, 0.3));\n",
              "      fill: #FFFFFF;\n",
              "    }\n",
              "  </style>\n",
              "\n",
              "      <script>\n",
              "        const buttonEl =\n",
              "          document.querySelector('#df-541e9089-1aac-4bd8-8725-234b97bbf81a button.colab-df-convert');\n",
              "        buttonEl.style.display =\n",
              "          google.colab.kernel.accessAllowed ? 'block' : 'none';\n",
              "\n",
              "        async function convertToInteractive(key) {\n",
              "          const element = document.querySelector('#df-541e9089-1aac-4bd8-8725-234b97bbf81a');\n",
              "          const dataTable =\n",
              "            await google.colab.kernel.invokeFunction('convertToInteractive',\n",
              "                                                     [key], {});\n",
              "          if (!dataTable) return;\n",
              "\n",
              "          const docLinkHtml = 'Like what you see? Visit the ' +\n",
              "            '<a target=\"_blank\" href=https://colab.research.google.com/notebooks/data_table.ipynb>data table notebook</a>'\n",
              "            + ' to learn more about interactive tables.';\n",
              "          element.innerHTML = '';\n",
              "          dataTable['output_type'] = 'display_data';\n",
              "          await google.colab.output.renderOutput(dataTable, element);\n",
              "          const docLink = document.createElement('div');\n",
              "          docLink.innerHTML = docLinkHtml;\n",
              "          element.appendChild(docLink);\n",
              "        }\n",
              "      </script>\n",
              "    </div>\n",
              "  </div>\n",
              "  "
            ]
          },
          "metadata": {},
          "execution_count": 62
        }
      ],
      "source": [
        "data = pd.get_dummies(data, columns = [\n",
        " 'age_group','main_activity','package_transport_int','first_trip_tz',\n",
        "])\n",
        "data.head(3)"
      ]
    },
    {
      "cell_type": "markdown",
      "metadata": {
        "id": "xmgGlLArve-g"
      },
      "source": [
        "### 5. Label Encoding"
      ]
    },
    {
      "cell_type": "code",
      "execution_count": null,
      "metadata": {
        "id": "2iOWYhuove-g"
      },
      "outputs": [],
      "source": [
        "from sklearn.preprocessing import LabelEncoder\n",
        "le = LabelEncoder()\n",
        "\n",
        "le_columns = [col for col in data.select_dtypes('object').columns if col not in ['Tour_ID','cost_category']]\n",
        "\n",
        "for col in le_columns:\n",
        "   data[col] = le.fit_transform(data[col])"
      ]
    },
    {
      "cell_type": "code",
      "execution_count": null,
      "metadata": {
        "colab": {
          "base_uri": "https://localhost:8080/",
          "height": 300
        },
        "id": "65m1YjVcve-g",
        "outputId": "36ba5de8-9827-4523-a942-bfd48d42e35c"
      },
      "outputs": [
        {
          "output_type": "execute_result",
          "data": {
            "text/plain": [
              "           Tour_ID  country  travel_with  total_female  total_male  purpose  \\\n",
              "0  tour_id1hffseyw       62            6           0.0         2.0        6   \n",
              "1  tour_idnacd7zag      133            2           1.0         1.0        1   \n",
              "2  tour_id62vz7e71      134            2           1.0         1.0        1   \n",
              "3  tour_idrc76tzix      106            4           3.0         1.0        1   \n",
              "4  tour_idn723m0n9      134            1           0.0         1.0        1   \n",
              "\n",
              "   info_source  tour_arrangement  package_accomodation  package_food  ...  \\\n",
              "0            2                 1                     1             1  ...   \n",
              "1            1                 1                     1             1  ...   \n",
              "2            1                 1                     1             1  ...   \n",
              "3            5                 0                     0             0  ...   \n",
              "4            1                 1                     1             1  ...   \n",
              "\n",
              "   main_activity_2  main_activity_3  main_activity_4  main_activity_5  \\\n",
              "0                1                0                0                0   \n",
              "1                0                0                0                0   \n",
              "2                0                0                0                0   \n",
              "3                1                0                0                0   \n",
              "4                0                0                0                0   \n",
              "\n",
              "   main_activity_6  main_activity_7 package_transport_int_No  \\\n",
              "0                0                0                        0   \n",
              "1                0                0                        0   \n",
              "2                0                1                        0   \n",
              "3                0                0                        1   \n",
              "4                0                1                        0   \n",
              "\n",
              "   package_transport_int_Yes  first_trip_tz_No  first_trip_tz_Yes  \n",
              "0                          1                 0                  1  \n",
              "1                          1                 0                  1  \n",
              "2                          1                 0                  1  \n",
              "3                          0                 1                  0  \n",
              "4                          1                 0                  1  \n",
              "\n",
              "[5 rows x 103 columns]"
            ],
            "text/html": [
              "\n",
              "  <div id=\"df-c295a39f-ec86-418a-a033-6a54fd94a3a9\">\n",
              "    <div class=\"colab-df-container\">\n",
              "      <div>\n",
              "<style scoped>\n",
              "    .dataframe tbody tr th:only-of-type {\n",
              "        vertical-align: middle;\n",
              "    }\n",
              "\n",
              "    .dataframe tbody tr th {\n",
              "        vertical-align: top;\n",
              "    }\n",
              "\n",
              "    .dataframe thead th {\n",
              "        text-align: right;\n",
              "    }\n",
              "</style>\n",
              "<table border=\"1\" class=\"dataframe\">\n",
              "  <thead>\n",
              "    <tr style=\"text-align: right;\">\n",
              "      <th></th>\n",
              "      <th>Tour_ID</th>\n",
              "      <th>country</th>\n",
              "      <th>travel_with</th>\n",
              "      <th>total_female</th>\n",
              "      <th>total_male</th>\n",
              "      <th>purpose</th>\n",
              "      <th>info_source</th>\n",
              "      <th>tour_arrangement</th>\n",
              "      <th>package_accomodation</th>\n",
              "      <th>package_food</th>\n",
              "      <th>...</th>\n",
              "      <th>main_activity_2</th>\n",
              "      <th>main_activity_3</th>\n",
              "      <th>main_activity_4</th>\n",
              "      <th>main_activity_5</th>\n",
              "      <th>main_activity_6</th>\n",
              "      <th>main_activity_7</th>\n",
              "      <th>package_transport_int_No</th>\n",
              "      <th>package_transport_int_Yes</th>\n",
              "      <th>first_trip_tz_No</th>\n",
              "      <th>first_trip_tz_Yes</th>\n",
              "    </tr>\n",
              "  </thead>\n",
              "  <tbody>\n",
              "    <tr>\n",
              "      <th>0</th>\n",
              "      <td>tour_id1hffseyw</td>\n",
              "      <td>62</td>\n",
              "      <td>6</td>\n",
              "      <td>0.0</td>\n",
              "      <td>2.0</td>\n",
              "      <td>6</td>\n",
              "      <td>2</td>\n",
              "      <td>1</td>\n",
              "      <td>1</td>\n",
              "      <td>1</td>\n",
              "      <td>...</td>\n",
              "      <td>1</td>\n",
              "      <td>0</td>\n",
              "      <td>0</td>\n",
              "      <td>0</td>\n",
              "      <td>0</td>\n",
              "      <td>0</td>\n",
              "      <td>0</td>\n",
              "      <td>1</td>\n",
              "      <td>0</td>\n",
              "      <td>1</td>\n",
              "    </tr>\n",
              "    <tr>\n",
              "      <th>1</th>\n",
              "      <td>tour_idnacd7zag</td>\n",
              "      <td>133</td>\n",
              "      <td>2</td>\n",
              "      <td>1.0</td>\n",
              "      <td>1.0</td>\n",
              "      <td>1</td>\n",
              "      <td>1</td>\n",
              "      <td>1</td>\n",
              "      <td>1</td>\n",
              "      <td>1</td>\n",
              "      <td>...</td>\n",
              "      <td>0</td>\n",
              "      <td>0</td>\n",
              "      <td>0</td>\n",
              "      <td>0</td>\n",
              "      <td>0</td>\n",
              "      <td>0</td>\n",
              "      <td>0</td>\n",
              "      <td>1</td>\n",
              "      <td>0</td>\n",
              "      <td>1</td>\n",
              "    </tr>\n",
              "    <tr>\n",
              "      <th>2</th>\n",
              "      <td>tour_id62vz7e71</td>\n",
              "      <td>134</td>\n",
              "      <td>2</td>\n",
              "      <td>1.0</td>\n",
              "      <td>1.0</td>\n",
              "      <td>1</td>\n",
              "      <td>1</td>\n",
              "      <td>1</td>\n",
              "      <td>1</td>\n",
              "      <td>1</td>\n",
              "      <td>...</td>\n",
              "      <td>0</td>\n",
              "      <td>0</td>\n",
              "      <td>0</td>\n",
              "      <td>0</td>\n",
              "      <td>0</td>\n",
              "      <td>1</td>\n",
              "      <td>0</td>\n",
              "      <td>1</td>\n",
              "      <td>0</td>\n",
              "      <td>1</td>\n",
              "    </tr>\n",
              "    <tr>\n",
              "      <th>3</th>\n",
              "      <td>tour_idrc76tzix</td>\n",
              "      <td>106</td>\n",
              "      <td>4</td>\n",
              "      <td>3.0</td>\n",
              "      <td>1.0</td>\n",
              "      <td>1</td>\n",
              "      <td>5</td>\n",
              "      <td>0</td>\n",
              "      <td>0</td>\n",
              "      <td>0</td>\n",
              "      <td>...</td>\n",
              "      <td>1</td>\n",
              "      <td>0</td>\n",
              "      <td>0</td>\n",
              "      <td>0</td>\n",
              "      <td>0</td>\n",
              "      <td>0</td>\n",
              "      <td>1</td>\n",
              "      <td>0</td>\n",
              "      <td>1</td>\n",
              "      <td>0</td>\n",
              "    </tr>\n",
              "    <tr>\n",
              "      <th>4</th>\n",
              "      <td>tour_idn723m0n9</td>\n",
              "      <td>134</td>\n",
              "      <td>1</td>\n",
              "      <td>0.0</td>\n",
              "      <td>1.0</td>\n",
              "      <td>1</td>\n",
              "      <td>1</td>\n",
              "      <td>1</td>\n",
              "      <td>1</td>\n",
              "      <td>1</td>\n",
              "      <td>...</td>\n",
              "      <td>0</td>\n",
              "      <td>0</td>\n",
              "      <td>0</td>\n",
              "      <td>0</td>\n",
              "      <td>0</td>\n",
              "      <td>1</td>\n",
              "      <td>0</td>\n",
              "      <td>1</td>\n",
              "      <td>0</td>\n",
              "      <td>1</td>\n",
              "    </tr>\n",
              "  </tbody>\n",
              "</table>\n",
              "<p>5 rows × 103 columns</p>\n",
              "</div>\n",
              "      <button class=\"colab-df-convert\" onclick=\"convertToInteractive('df-c295a39f-ec86-418a-a033-6a54fd94a3a9')\"\n",
              "              title=\"Convert this dataframe to an interactive table.\"\n",
              "              style=\"display:none;\">\n",
              "        \n",
              "  <svg xmlns=\"http://www.w3.org/2000/svg\" height=\"24px\"viewBox=\"0 0 24 24\"\n",
              "       width=\"24px\">\n",
              "    <path d=\"M0 0h24v24H0V0z\" fill=\"none\"/>\n",
              "    <path d=\"M18.56 5.44l.94 2.06.94-2.06 2.06-.94-2.06-.94-.94-2.06-.94 2.06-2.06.94zm-11 1L8.5 8.5l.94-2.06 2.06-.94-2.06-.94L8.5 2.5l-.94 2.06-2.06.94zm10 10l.94 2.06.94-2.06 2.06-.94-2.06-.94-.94-2.06-.94 2.06-2.06.94z\"/><path d=\"M17.41 7.96l-1.37-1.37c-.4-.4-.92-.59-1.43-.59-.52 0-1.04.2-1.43.59L10.3 9.45l-7.72 7.72c-.78.78-.78 2.05 0 2.83L4 21.41c.39.39.9.59 1.41.59.51 0 1.02-.2 1.41-.59l7.78-7.78 2.81-2.81c.8-.78.8-2.07 0-2.86zM5.41 20L4 18.59l7.72-7.72 1.47 1.35L5.41 20z\"/>\n",
              "  </svg>\n",
              "      </button>\n",
              "      \n",
              "  <style>\n",
              "    .colab-df-container {\n",
              "      display:flex;\n",
              "      flex-wrap:wrap;\n",
              "      gap: 12px;\n",
              "    }\n",
              "\n",
              "    .colab-df-convert {\n",
              "      background-color: #E8F0FE;\n",
              "      border: none;\n",
              "      border-radius: 50%;\n",
              "      cursor: pointer;\n",
              "      display: none;\n",
              "      fill: #1967D2;\n",
              "      height: 32px;\n",
              "      padding: 0 0 0 0;\n",
              "      width: 32px;\n",
              "    }\n",
              "\n",
              "    .colab-df-convert:hover {\n",
              "      background-color: #E2EBFA;\n",
              "      box-shadow: 0px 1px 2px rgba(60, 64, 67, 0.3), 0px 1px 3px 1px rgba(60, 64, 67, 0.15);\n",
              "      fill: #174EA6;\n",
              "    }\n",
              "\n",
              "    [theme=dark] .colab-df-convert {\n",
              "      background-color: #3B4455;\n",
              "      fill: #D2E3FC;\n",
              "    }\n",
              "\n",
              "    [theme=dark] .colab-df-convert:hover {\n",
              "      background-color: #434B5C;\n",
              "      box-shadow: 0px 1px 3px 1px rgba(0, 0, 0, 0.15);\n",
              "      filter: drop-shadow(0px 1px 2px rgba(0, 0, 0, 0.3));\n",
              "      fill: #FFFFFF;\n",
              "    }\n",
              "  </style>\n",
              "\n",
              "      <script>\n",
              "        const buttonEl =\n",
              "          document.querySelector('#df-c295a39f-ec86-418a-a033-6a54fd94a3a9 button.colab-df-convert');\n",
              "        buttonEl.style.display =\n",
              "          google.colab.kernel.accessAllowed ? 'block' : 'none';\n",
              "\n",
              "        async function convertToInteractive(key) {\n",
              "          const element = document.querySelector('#df-c295a39f-ec86-418a-a033-6a54fd94a3a9');\n",
              "          const dataTable =\n",
              "            await google.colab.kernel.invokeFunction('convertToInteractive',\n",
              "                                                     [key], {});\n",
              "          if (!dataTable) return;\n",
              "\n",
              "          const docLinkHtml = 'Like what you see? Visit the ' +\n",
              "            '<a target=\"_blank\" href=https://colab.research.google.com/notebooks/data_table.ipynb>data table notebook</a>'\n",
              "            + ' to learn more about interactive tables.';\n",
              "          element.innerHTML = '';\n",
              "          dataTable['output_type'] = 'display_data';\n",
              "          await google.colab.output.renderOutput(dataTable, element);\n",
              "          const docLink = document.createElement('div');\n",
              "          docLink.innerHTML = docLinkHtml;\n",
              "          element.appendChild(docLink);\n",
              "        }\n",
              "      </script>\n",
              "    </div>\n",
              "  </div>\n",
              "  "
            ]
          },
          "metadata": {},
          "execution_count": 64
        }
      ],
      "source": [
        "data.head()"
      ]
    },
    {
      "cell_type": "markdown",
      "metadata": {
        "id": "wjADvVAFve-h"
      },
      "source": [
        "## Continous Features\n",
        "* The only continous features we had were total_female and male and nights in zanzibar or mainland and we have already explored those"
      ]
    },
    {
      "cell_type": "markdown",
      "metadata": {
        "id": "anylR4s4ve-h"
      },
      "source": [
        "###  Add statistical Information on the Numerical Columns"
      ]
    },
    {
      "cell_type": "code",
      "execution_count": null,
      "metadata": {
        "id": "6cWDNFnhve-h"
      },
      "outputs": [],
      "source": [
        "num_cols = ['diff_male_female','total_people',\n",
        "       'total_nights', 'diff_nights', 'prod_nights_people',\n",
        "       'diff_nights_people', 'sum_nights_people']"
      ]
    },
    {
      "cell_type": "code",
      "execution_count": null,
      "metadata": {
        "id": "k_zxjy27ve-i"
      },
      "outputs": [],
      "source": [
        "def add_stats(data, feats):\n",
        "    \n",
        "    before_ = data.shape[1]\n",
        "    cols = feats\n",
        "    data['f_min']   = data[cols].fillna(0).min(axis = 1)\n",
        "    data['f_max']   = data[cols].fillna(0).max(axis = 1)\n",
        "    data['f_mean']  = data[cols].fillna(0).mean(axis = 1)\n",
        "    data['f_sd']    = data[cols].fillna(0).std(axis = 1)\n",
        "    data['f_median']= data[cols].fillna(0).median(axis = 1)\n",
        "    data['f_sum']   = data[cols].fillna(0).sum(axis = 1)\n",
        "    data['f_skew']  = data[cols].fillna(0).skew(axis=1)\n",
        "\n",
        "    after_ = data.shape[1]\n",
        "    new_cols = data.iloc[:,before_:after_].columns.tolist()\n",
        "    \n",
        "    return data, new_cols"
      ]
    },
    {
      "cell_type": "code",
      "execution_count": null,
      "metadata": {
        "id": "ThqjPYaAve-i"
      },
      "outputs": [],
      "source": [
        "data, stat_cols = add_stats(data, [col for col in num_cols])"
      ]
    },
    {
      "cell_type": "markdown",
      "metadata": {
        "id": "ttsOO8n1ve-j"
      },
      "source": [
        "## Separate the combined dataset"
      ]
    },
    {
      "cell_type": "code",
      "execution_count": null,
      "metadata": {
        "colab": {
          "base_uri": "https://localhost:8080/"
        },
        "id": "5dyUlCC6ve-j",
        "outputId": "1530a4ea-003a-4f68-c59e-2d5f45e85548"
      },
      "outputs": [
        {
          "output_type": "execute_result",
          "data": {
            "text/plain": [
              "((18506, 110), (6169, 110))"
            ]
          },
          "metadata": {},
          "execution_count": 68
        }
      ],
      "source": [
        "# Separate train and test data from the combined dataframe\n",
        "train_df = data[:ntrain]\n",
        "test_df = data[ntrain:]\n",
        "\n",
        "# Check the shapes of the split dataset\n",
        "train_df.shape, test_df.shape"
      ]
    },
    {
      "cell_type": "markdown",
      "metadata": {
        "id": "NWZuvekPve-j"
      },
      "source": [
        "### Label Encode the target"
      ]
    },
    {
      "cell_type": "code",
      "execution_count": null,
      "metadata": {
        "id": "CK8qHGm1ve-j"
      },
      "outputs": [],
      "source": [
        "\n",
        "le_columns = ['cost_category']\n",
        "\n",
        "for col in le_columns:\n",
        "   train_df[col] = le.fit_transform(train_df[col])"
      ]
    },
    {
      "cell_type": "markdown",
      "metadata": {
        "id": "m7YbDItjve-j"
      },
      "source": [
        "## Correlation"
      ]
    },
    {
      "cell_type": "markdown",
      "metadata": {
        "id": "dB9CwkwQve-k"
      },
      "source": [
        "### 1. Negative correlation with the target"
      ]
    },
    {
      "cell_type": "code",
      "execution_count": null,
      "metadata": {
        "colab": {
          "base_uri": "https://localhost:8080/"
        },
        "id": "wLQZ27uqve-k",
        "outputId": "787af91e-e927-4df1-fc4c-008fdc854118"
      },
      "outputs": [
        {
          "output_type": "execute_result",
          "data": {
            "text/plain": [
              "tour_total_people                                -0.570908\n",
              "tour_package_all                                 -0.558752\n",
              "gb_feature_tour_arrangement_diff_male_female     -0.557917\n",
              "gb_feature_tour_arrangement_prod_nights_people   -0.557917\n",
              "tour_arrangement                                 -0.557917\n",
              "gb_feature_tour_arrangement_total_people         -0.557917\n",
              "gb_feature_tour_arrangement_sum_nights_people    -0.557917\n",
              "package_accomodation                             -0.542568\n",
              "package_all                                      -0.540140\n",
              "package_food                                     -0.515487\n",
              "activity_touur                                   -0.480628\n",
              "package_transport_tz                             -0.474691\n",
              "package_transport_int_Yes                        -0.452349\n",
              "tour_total_nights                                -0.429959\n",
              "gb_feature_purpose_total_people                  -0.425022\n",
              "package_guided_tour                              -0.401703\n",
              "package_sightseeing                              -0.379163\n",
              "gb_feature_purpose_diff_male_female              -0.342464\n",
              "gb_feature_country_total_people                  -0.320146\n",
              "gb_feature_purpose_prod_nights_people            -0.304367\n",
              "f_skew                                           -0.303233\n",
              "count_is_african                                 -0.301605\n",
              "gb_feature_travel_with_diff_male_female          -0.283262\n",
              "gb_feature_country_diff_male_female              -0.281100\n",
              "gb_feature_travel_with_total_people              -0.280893\n",
              "gb_feature_country_prod_nights_people            -0.276743\n",
              "package_insurance                                -0.272768\n",
              "gb_feature_travel_with_prod_nights_people        -0.267096\n",
              "gb_feature_travel_with_sum_nights_people         -0.266750\n",
              "gb_feature_first_trip_tz_diff_nights_people      -0.266152\n",
              "gb_feature_first_trip_tz_total_people            -0.266152\n",
              "first_trip_tz_Yes                                -0.266152\n",
              "gb_feature_first_trip_tz_prod_nights_people      -0.266152\n",
              "gb_feature_first_trip_tz_sum_nights_people       -0.266152\n",
              "gb_feature_first_trip_tz_diff_male_female        -0.266152\n",
              "gb_feature_first_trip_tz_total_nights            -0.266152\n",
              "total_people                                     -0.255797\n",
              "total_female                                     -0.247482\n",
              "gb_feature_country_sum_nights_people             -0.242816\n",
              "gb_feature_travel_with_total_nights              -0.232708\n",
              "gb_feature_main_activity_prod_nights_people      -0.232614\n",
              "gb_feature_main_activity_total_people            -0.231179\n",
              "gb_feature_country_total_nights                  -0.223784\n",
              "night_zanzibar                                   -0.217615\n",
              "gb_feature_country_diff_nights_people            -0.199809\n",
              "prod_nights_people                               -0.198916\n",
              "f_max                                            -0.192296\n",
              "gb_feature_main_activity_sum_nights_people       -0.185511\n",
              "f_sd                                             -0.183275\n",
              "count_country                                    -0.176357\n",
              "gb_feature_purpose_sum_nights_people             -0.173497\n",
              "main_activity_7                                  -0.167139\n",
              "gb_feature_main_activity_diff_male_female        -0.164157\n",
              "gb_feature_age_group_total_people                -0.155560\n",
              "gb_feature_main_activity_total_nights            -0.153695\n",
              "travel_with                                      -0.139661\n",
              "age_group_1                                      -0.135855\n",
              "gb_feature_purpose_total_nights                  -0.128737\n",
              "f_mean                                           -0.124378\n",
              "f_sum                                            -0.124378\n",
              "sum_nights_people                                -0.122514\n",
              "total_male                                       -0.121019\n",
              "diff_male_female                                 -0.120557\n",
              "age_group_4                                      -0.111681\n",
              "gb_feature_main_activity_diff_nights_people      -0.110851\n",
              "total_nights                                     -0.085293\n",
              "gb_feature_purpose_diff_nights_people            -0.077041\n",
              "count_night_mainland                             -0.076568\n",
              "count_total_nights                               -0.058329\n",
              "f_median                                         -0.046759\n",
              "diff_nights_people                               -0.045175\n",
              "main_activity_3                                  -0.043799\n",
              "count_total_female                               -0.031480\n",
              "main_activity_1                                  -0.021305\n",
              "age_group_2                                      -0.013270\n",
              "gb_feature_age_group_prod_nights_people          -0.012719\n",
              "main_activity_2                                  -0.010943\n",
              "gb_feature_main_activity_diff_nights             -0.008680\n",
              "gb_feature_age_group_diff_nights                 -0.008512\n",
              "gb_feature_age_group_diff_male_female            -0.000849\n",
              "Name: cost_category, dtype: float64"
            ]
          },
          "metadata": {},
          "execution_count": 70
        }
      ],
      "source": [
        "train_df.corr()['cost_category'].sort_values()[train_df.corr()['cost_category'].sort_values() < 0]"
      ]
    },
    {
      "cell_type": "markdown",
      "metadata": {
        "id": "lrXPzJnMve-k"
      },
      "source": [
        "### 2. Positive correlation with the Target"
      ]
    },
    {
      "cell_type": "code",
      "execution_count": null,
      "metadata": {
        "colab": {
          "base_uri": "https://localhost:8080/"
        },
        "id": "nQO07GMfve-l",
        "outputId": "0856e37c-2970-429b-92cc-6ca364ce5bc7"
      },
      "outputs": [
        {
          "output_type": "execute_result",
          "data": {
            "text/plain": [
              "count_total_male                                  0.003337\n",
              "night_mainland                                    0.010903\n",
              "gb_feature_country_diff_nights                    0.043737\n",
              "gb_feature_age_group_sum_nights_people            0.060427\n",
              "gb_feature_age_group_total_nights                 0.072771\n",
              "main_activity_6                                   0.079015\n",
              "gb_feature_age_group_diff_nights_people           0.083828\n",
              "country                                           0.087799\n",
              "diff_nights                                       0.091146\n",
              "age_group_5                                       0.091153\n",
              "f_min                                             0.107908\n",
              "main_activity_5                                   0.109450\n",
              "age_group_3                                       0.119182\n",
              "main_activity_4                                   0.193338\n",
              "info_source                                       0.202658\n",
              "count_night_zanzibar                              0.204137\n",
              "purpose                                           0.214525\n",
              "gb_feature_purpose_diff_nights                    0.253521\n",
              "count_total_people                                0.259559\n",
              "first_trip_tz_No                                  0.266152\n",
              "gb_feature_first_trip_tz_diff_nights              0.266152\n",
              "gb_feature_travel_with_diff_nights_people         0.282874\n",
              "is_african                                        0.301605\n",
              "gb_feature_travel_with_diff_nights                0.368291\n",
              "package_transport_int_No                          0.452349\n",
              "gb_feature_tour_arrangement_total_nights          0.557917\n",
              "gb_feature_tour_arrangement_diff_nights           0.557917\n",
              "gb_feature_tour_arrangement_diff_nights_people    0.557917\n",
              "cost_category                                     1.000000\n",
              "Name: cost_category, dtype: float64"
            ]
          },
          "metadata": {},
          "execution_count": 71
        }
      ],
      "source": [
        "train_df.corr()['cost_category'].sort_values()[train_df.corr()['cost_category'].sort_values() > 0]"
      ]
    },
    {
      "cell_type": "markdown",
      "metadata": {
        "id": "ydsKzSgnve-l"
      },
      "source": [
        "## Feature Selection"
      ]
    },
    {
      "cell_type": "code",
      "execution_count": null,
      "metadata": {
        "colab": {
          "base_uri": "https://localhost:8080/"
        },
        "id": "mV0bBfrkve-l",
        "outputId": "6a2c509b-ea6a-491a-e183-e66a16187e06"
      },
      "outputs": [
        {
          "output_type": "stream",
          "name": "stdout",
          "text": [
            "Learning rate set to 0.114012\n",
            "0:\tlearn: 1.6552272\ttest: 1.6552272\ttest1: 1.6555103\tbest: 1.6555103 (0)\ttotal: 121ms\tremaining: 2m\n",
            "200:\tlearn: 0.9254431\ttest: 0.9254431\ttest1: 1.0502488\tbest: 1.0498688 (195)\ttotal: 11.2s\tremaining: 44.6s\n",
            "400:\tlearn: 0.8264487\ttest: 0.8264487\ttest1: 1.0509589\tbest: 1.0493425 (249)\ttotal: 22s\tremaining: 32.8s\n",
            "600:\tlearn: 0.7442860\ttest: 0.7442860\ttest1: 1.0613182\tbest: 1.0493425 (249)\ttotal: 33s\tremaining: 21.9s\n",
            "Stopped by overfitting detector  (500 iterations wait)\n",
            "\n",
            "bestTest = 1.049342491\n",
            "bestIteration = 249\n",
            "\n",
            "Shrink model to first 250 iterations.\n"
          ]
        },
        {
          "output_type": "execute_result",
          "data": {
            "text/plain": [
              "<catboost.core.CatBoostClassifier at 0x7fa281373fd0>"
            ]
          },
          "metadata": {},
          "execution_count": 72
        }
      ],
      "source": [
        "# Select main columns to be used in training\n",
        "main_cols = train_df.columns.difference(['Tour_ID','cost_category',\n",
        " 'package_accomodation','tour_arrangement','travel_with',\n",
        " 'package_food'])\n",
        "X = train_df[main_cols]\n",
        "y = train_df.cost_category\n",
        "\n",
        "model = catt.CatBoostClassifier(random_state = 42,)\n",
        "\n",
        "import random\n",
        "random.seed(123)\n",
        "\n",
        "train_features, valid_features, train_y, valid_y = train_test_split(X, y, test_size = 0.18, stratify = y,random_state = 47)\n",
        "model.fit(train_features, train_y,eval_set = [(train_features, train_y),(valid_features,valid_y)], early_stopping_rounds = 500, \n",
        "          verbose = 200)"
      ]
    },
    {
      "cell_type": "markdown",
      "metadata": {
        "id": "MwZPkv6Dve-m"
      },
      "source": [
        "## Visualize the Feature Importance"
      ]
    },
    {
      "cell_type": "code",
      "execution_count": null,
      "metadata": {
        "colab": {
          "base_uri": "https://localhost:8080/",
          "height": 1000
        },
        "id": "J3wyJSntve-m",
        "outputId": "95657e6f-e310-4ee0-ef38-5e7cf381f27d"
      },
      "outputs": [
        {
          "output_type": "execute_result",
          "data": {
            "text/plain": [
              "                                       feature_name varimp (%)\n",
              "23                                           f_skew   5.283351\n",
              "87                                      package_all   5.251165\n",
              "63          gb_feature_tour_arrangement_diff_nights   4.955601\n",
              "102                               tour_total_nights   4.055616\n",
              "22                                             f_sd   2.880189\n",
              "35                   gb_feature_country_diff_nights    2.85285\n",
              "103                               tour_total_people    2.77068\n",
              "37            gb_feature_country_prod_nights_people   2.683673\n",
              "6                                     count_country   2.651634\n",
              "40                  gb_feature_country_total_people   2.337268\n",
              "0                                    activity_touur   2.129946\n",
              "64   gb_feature_tour_arrangement_diff_nights_people   2.101444\n",
              "34              gb_feature_country_diff_male_female   2.093763\n",
              "36            gb_feature_country_diff_nights_people   2.093348\n",
              "101                                tour_package_all   1.935706\n",
              "86                                   night_zanzibar   1.805832\n",
              "14                                          country   1.748827\n",
              "94                               prod_nights_people   1.638821\n",
              "51      gb_feature_main_activity_prod_nights_people   1.552676\n",
              "33                gb_feature_age_group_total_people   1.548196\n",
              "17                               diff_nights_people   1.518504\n",
              "95                                          purpose    1.47136\n",
              "76                                      info_source   1.404548\n",
              "70               gb_feature_travel_with_diff_nights   1.403386\n",
              "19                                           f_mean   1.387919\n",
              "12                               count_total_nights   1.298983\n",
              "54            gb_feature_main_activity_total_people   1.298309\n",
              "8                              count_night_mainland   1.282211\n",
              "16                                      diff_nights   1.276944\n",
              "96                                sum_nights_people   1.172053\n",
              "38             gb_feature_country_sum_nights_people   1.169424\n",
              "49             gb_feature_main_activity_diff_nights    1.10597\n",
              "39                  gb_feature_country_total_nights   1.038189\n",
              "85                                   night_mainland   0.971928\n",
              "61                  gb_feature_purpose_total_people     0.9519\n",
              "18                                            f_max   0.904495\n",
              "24                                            f_sum   0.901246\n",
              "13                               count_total_people   0.884322\n",
              "20                                         f_median   0.875844\n",
              "9                              count_night_zanzibar   0.869666\n",
              "71        gb_feature_travel_with_diff_nights_people   0.798119\n",
              "58            gb_feature_purpose_prod_nights_people   0.780948\n",
              "52       gb_feature_main_activity_sum_nights_people   0.746736\n",
              "28                 gb_feature_age_group_diff_nights   0.742133\n",
              "53            gb_feature_main_activity_total_nights   0.739717\n",
              "50      gb_feature_main_activity_diff_nights_people   0.711688\n",
              "100                                    total_people   0.689273\n",
              "55              gb_feature_purpose_diff_male_female   0.674234\n",
              "75              gb_feature_travel_with_total_people   0.664195\n",
              "91                         package_transport_int_No   0.635063\n",
              "62     gb_feature_tour_arrangement_diff_male_female   0.630737\n",
              "97                                     total_female   0.592976\n",
              "15                                 diff_male_female   0.582941\n",
              "7                                  count_is_african   0.575277\n",
              "56                   gb_feature_purpose_diff_nights   0.572408\n",
              "99                                     total_nights   0.569094\n",
              "11                                 count_total_male   0.532221\n",
              "30          gb_feature_age_group_prod_nights_people   0.528841\n",
              "21                                            f_min   0.528558\n",
              "72        gb_feature_travel_with_prod_nights_people   0.504294\n",
              "31           gb_feature_age_group_sum_nights_people    0.49749\n",
              "98                                       total_male   0.478453\n",
              "27            gb_feature_age_group_diff_male_female   0.441276\n",
              "92                        package_transport_int_Yes   0.425693\n",
              "78                                  main_activity_1    0.42289\n",
              "73         gb_feature_travel_with_sum_nights_people    0.41708\n",
              "10                               count_total_female   0.394947\n",
              "48        gb_feature_main_activity_diff_male_female   0.357385\n",
              "60                  gb_feature_purpose_total_nights   0.310251\n",
              "25                                 first_trip_tz_No   0.295683\n",
              "57            gb_feature_purpose_diff_nights_people    0.29486\n",
              "59             gb_feature_purpose_sum_nights_people   0.292564\n",
              "69          gb_feature_travel_with_diff_male_female   0.283255\n",
              "66    gb_feature_tour_arrangement_sum_nights_people   0.279951\n",
              "84                                  main_activity_7    0.27155\n",
              "32                gb_feature_age_group_total_nights   0.265389\n",
              "1                                       age_group_1   0.259807\n",
              "68         gb_feature_tour_arrangement_total_people   0.255963\n",
              "88                              package_guided_tour   0.254719\n",
              "29          gb_feature_age_group_diff_nights_people   0.243375\n",
              "77                                       is_african   0.236693\n",
              "47            gb_feature_first_trip_tz_total_people   0.233617\n",
              "79                                  main_activity_2   0.223588\n",
              "4                                       age_group_4   0.220421\n",
              "89                                package_insurance   0.218994\n",
              "90                              package_sightseeing   0.202694\n",
              "46            gb_feature_first_trip_tz_total_nights   0.198443\n",
              "74              gb_feature_travel_with_total_nights    0.19183\n",
              "43      gb_feature_first_trip_tz_diff_nights_people   0.190089\n",
              "80                                  main_activity_3   0.160648\n",
              "41        gb_feature_first_trip_tz_diff_male_female   0.135747\n",
              "42             gb_feature_first_trip_tz_diff_nights   0.127245\n",
              "93                             package_transport_tz   0.125225\n",
              "44      gb_feature_first_trip_tz_prod_nights_people    0.10787\n",
              "67         gb_feature_tour_arrangement_total_nights   0.090185\n",
              "82                                  main_activity_5   0.070666\n",
              "5                                       age_group_5   0.063758\n",
              "26                                first_trip_tz_Yes   0.047471\n",
              "83                                  main_activity_6   0.046705\n",
              "2                                       age_group_2    0.00829\n",
              "3                                       age_group_3        0.0\n",
              "65   gb_feature_tour_arrangement_prod_nights_people        0.0\n",
              "45       gb_feature_first_trip_tz_sum_nights_people        0.0\n",
              "81                                  main_activity_4        0.0"
            ],
            "text/html": [
              "\n",
              "  <div id=\"df-3208e9d3-3dd9-4834-8a13-0169b35fda1d\">\n",
              "    <div class=\"colab-df-container\">\n",
              "      <div>\n",
              "<style scoped>\n",
              "    .dataframe tbody tr th:only-of-type {\n",
              "        vertical-align: middle;\n",
              "    }\n",
              "\n",
              "    .dataframe tbody tr th {\n",
              "        vertical-align: top;\n",
              "    }\n",
              "\n",
              "    .dataframe thead th {\n",
              "        text-align: right;\n",
              "    }\n",
              "</style>\n",
              "<table border=\"1\" class=\"dataframe\">\n",
              "  <thead>\n",
              "    <tr style=\"text-align: right;\">\n",
              "      <th></th>\n",
              "      <th>feature_name</th>\n",
              "      <th>varimp (%)</th>\n",
              "    </tr>\n",
              "  </thead>\n",
              "  <tbody>\n",
              "    <tr>\n",
              "      <th>23</th>\n",
              "      <td>f_skew</td>\n",
              "      <td>5.283351</td>\n",
              "    </tr>\n",
              "    <tr>\n",
              "      <th>87</th>\n",
              "      <td>package_all</td>\n",
              "      <td>5.251165</td>\n",
              "    </tr>\n",
              "    <tr>\n",
              "      <th>63</th>\n",
              "      <td>gb_feature_tour_arrangement_diff_nights</td>\n",
              "      <td>4.955601</td>\n",
              "    </tr>\n",
              "    <tr>\n",
              "      <th>102</th>\n",
              "      <td>tour_total_nights</td>\n",
              "      <td>4.055616</td>\n",
              "    </tr>\n",
              "    <tr>\n",
              "      <th>22</th>\n",
              "      <td>f_sd</td>\n",
              "      <td>2.880189</td>\n",
              "    </tr>\n",
              "    <tr>\n",
              "      <th>35</th>\n",
              "      <td>gb_feature_country_diff_nights</td>\n",
              "      <td>2.85285</td>\n",
              "    </tr>\n",
              "    <tr>\n",
              "      <th>103</th>\n",
              "      <td>tour_total_people</td>\n",
              "      <td>2.77068</td>\n",
              "    </tr>\n",
              "    <tr>\n",
              "      <th>37</th>\n",
              "      <td>gb_feature_country_prod_nights_people</td>\n",
              "      <td>2.683673</td>\n",
              "    </tr>\n",
              "    <tr>\n",
              "      <th>6</th>\n",
              "      <td>count_country</td>\n",
              "      <td>2.651634</td>\n",
              "    </tr>\n",
              "    <tr>\n",
              "      <th>40</th>\n",
              "      <td>gb_feature_country_total_people</td>\n",
              "      <td>2.337268</td>\n",
              "    </tr>\n",
              "    <tr>\n",
              "      <th>0</th>\n",
              "      <td>activity_touur</td>\n",
              "      <td>2.129946</td>\n",
              "    </tr>\n",
              "    <tr>\n",
              "      <th>64</th>\n",
              "      <td>gb_feature_tour_arrangement_diff_nights_people</td>\n",
              "      <td>2.101444</td>\n",
              "    </tr>\n",
              "    <tr>\n",
              "      <th>34</th>\n",
              "      <td>gb_feature_country_diff_male_female</td>\n",
              "      <td>2.093763</td>\n",
              "    </tr>\n",
              "    <tr>\n",
              "      <th>36</th>\n",
              "      <td>gb_feature_country_diff_nights_people</td>\n",
              "      <td>2.093348</td>\n",
              "    </tr>\n",
              "    <tr>\n",
              "      <th>101</th>\n",
              "      <td>tour_package_all</td>\n",
              "      <td>1.935706</td>\n",
              "    </tr>\n",
              "    <tr>\n",
              "      <th>86</th>\n",
              "      <td>night_zanzibar</td>\n",
              "      <td>1.805832</td>\n",
              "    </tr>\n",
              "    <tr>\n",
              "      <th>14</th>\n",
              "      <td>country</td>\n",
              "      <td>1.748827</td>\n",
              "    </tr>\n",
              "    <tr>\n",
              "      <th>94</th>\n",
              "      <td>prod_nights_people</td>\n",
              "      <td>1.638821</td>\n",
              "    </tr>\n",
              "    <tr>\n",
              "      <th>51</th>\n",
              "      <td>gb_feature_main_activity_prod_nights_people</td>\n",
              "      <td>1.552676</td>\n",
              "    </tr>\n",
              "    <tr>\n",
              "      <th>33</th>\n",
              "      <td>gb_feature_age_group_total_people</td>\n",
              "      <td>1.548196</td>\n",
              "    </tr>\n",
              "    <tr>\n",
              "      <th>17</th>\n",
              "      <td>diff_nights_people</td>\n",
              "      <td>1.518504</td>\n",
              "    </tr>\n",
              "    <tr>\n",
              "      <th>95</th>\n",
              "      <td>purpose</td>\n",
              "      <td>1.47136</td>\n",
              "    </tr>\n",
              "    <tr>\n",
              "      <th>76</th>\n",
              "      <td>info_source</td>\n",
              "      <td>1.404548</td>\n",
              "    </tr>\n",
              "    <tr>\n",
              "      <th>70</th>\n",
              "      <td>gb_feature_travel_with_diff_nights</td>\n",
              "      <td>1.403386</td>\n",
              "    </tr>\n",
              "    <tr>\n",
              "      <th>19</th>\n",
              "      <td>f_mean</td>\n",
              "      <td>1.387919</td>\n",
              "    </tr>\n",
              "    <tr>\n",
              "      <th>12</th>\n",
              "      <td>count_total_nights</td>\n",
              "      <td>1.298983</td>\n",
              "    </tr>\n",
              "    <tr>\n",
              "      <th>54</th>\n",
              "      <td>gb_feature_main_activity_total_people</td>\n",
              "      <td>1.298309</td>\n",
              "    </tr>\n",
              "    <tr>\n",
              "      <th>8</th>\n",
              "      <td>count_night_mainland</td>\n",
              "      <td>1.282211</td>\n",
              "    </tr>\n",
              "    <tr>\n",
              "      <th>16</th>\n",
              "      <td>diff_nights</td>\n",
              "      <td>1.276944</td>\n",
              "    </tr>\n",
              "    <tr>\n",
              "      <th>96</th>\n",
              "      <td>sum_nights_people</td>\n",
              "      <td>1.172053</td>\n",
              "    </tr>\n",
              "    <tr>\n",
              "      <th>38</th>\n",
              "      <td>gb_feature_country_sum_nights_people</td>\n",
              "      <td>1.169424</td>\n",
              "    </tr>\n",
              "    <tr>\n",
              "      <th>49</th>\n",
              "      <td>gb_feature_main_activity_diff_nights</td>\n",
              "      <td>1.10597</td>\n",
              "    </tr>\n",
              "    <tr>\n",
              "      <th>39</th>\n",
              "      <td>gb_feature_country_total_nights</td>\n",
              "      <td>1.038189</td>\n",
              "    </tr>\n",
              "    <tr>\n",
              "      <th>85</th>\n",
              "      <td>night_mainland</td>\n",
              "      <td>0.971928</td>\n",
              "    </tr>\n",
              "    <tr>\n",
              "      <th>61</th>\n",
              "      <td>gb_feature_purpose_total_people</td>\n",
              "      <td>0.9519</td>\n",
              "    </tr>\n",
              "    <tr>\n",
              "      <th>18</th>\n",
              "      <td>f_max</td>\n",
              "      <td>0.904495</td>\n",
              "    </tr>\n",
              "    <tr>\n",
              "      <th>24</th>\n",
              "      <td>f_sum</td>\n",
              "      <td>0.901246</td>\n",
              "    </tr>\n",
              "    <tr>\n",
              "      <th>13</th>\n",
              "      <td>count_total_people</td>\n",
              "      <td>0.884322</td>\n",
              "    </tr>\n",
              "    <tr>\n",
              "      <th>20</th>\n",
              "      <td>f_median</td>\n",
              "      <td>0.875844</td>\n",
              "    </tr>\n",
              "    <tr>\n",
              "      <th>9</th>\n",
              "      <td>count_night_zanzibar</td>\n",
              "      <td>0.869666</td>\n",
              "    </tr>\n",
              "    <tr>\n",
              "      <th>71</th>\n",
              "      <td>gb_feature_travel_with_diff_nights_people</td>\n",
              "      <td>0.798119</td>\n",
              "    </tr>\n",
              "    <tr>\n",
              "      <th>58</th>\n",
              "      <td>gb_feature_purpose_prod_nights_people</td>\n",
              "      <td>0.780948</td>\n",
              "    </tr>\n",
              "    <tr>\n",
              "      <th>52</th>\n",
              "      <td>gb_feature_main_activity_sum_nights_people</td>\n",
              "      <td>0.746736</td>\n",
              "    </tr>\n",
              "    <tr>\n",
              "      <th>28</th>\n",
              "      <td>gb_feature_age_group_diff_nights</td>\n",
              "      <td>0.742133</td>\n",
              "    </tr>\n",
              "    <tr>\n",
              "      <th>53</th>\n",
              "      <td>gb_feature_main_activity_total_nights</td>\n",
              "      <td>0.739717</td>\n",
              "    </tr>\n",
              "    <tr>\n",
              "      <th>50</th>\n",
              "      <td>gb_feature_main_activity_diff_nights_people</td>\n",
              "      <td>0.711688</td>\n",
              "    </tr>\n",
              "    <tr>\n",
              "      <th>100</th>\n",
              "      <td>total_people</td>\n",
              "      <td>0.689273</td>\n",
              "    </tr>\n",
              "    <tr>\n",
              "      <th>55</th>\n",
              "      <td>gb_feature_purpose_diff_male_female</td>\n",
              "      <td>0.674234</td>\n",
              "    </tr>\n",
              "    <tr>\n",
              "      <th>75</th>\n",
              "      <td>gb_feature_travel_with_total_people</td>\n",
              "      <td>0.664195</td>\n",
              "    </tr>\n",
              "    <tr>\n",
              "      <th>91</th>\n",
              "      <td>package_transport_int_No</td>\n",
              "      <td>0.635063</td>\n",
              "    </tr>\n",
              "    <tr>\n",
              "      <th>62</th>\n",
              "      <td>gb_feature_tour_arrangement_diff_male_female</td>\n",
              "      <td>0.630737</td>\n",
              "    </tr>\n",
              "    <tr>\n",
              "      <th>97</th>\n",
              "      <td>total_female</td>\n",
              "      <td>0.592976</td>\n",
              "    </tr>\n",
              "    <tr>\n",
              "      <th>15</th>\n",
              "      <td>diff_male_female</td>\n",
              "      <td>0.582941</td>\n",
              "    </tr>\n",
              "    <tr>\n",
              "      <th>7</th>\n",
              "      <td>count_is_african</td>\n",
              "      <td>0.575277</td>\n",
              "    </tr>\n",
              "    <tr>\n",
              "      <th>56</th>\n",
              "      <td>gb_feature_purpose_diff_nights</td>\n",
              "      <td>0.572408</td>\n",
              "    </tr>\n",
              "    <tr>\n",
              "      <th>99</th>\n",
              "      <td>total_nights</td>\n",
              "      <td>0.569094</td>\n",
              "    </tr>\n",
              "    <tr>\n",
              "      <th>11</th>\n",
              "      <td>count_total_male</td>\n",
              "      <td>0.532221</td>\n",
              "    </tr>\n",
              "    <tr>\n",
              "      <th>30</th>\n",
              "      <td>gb_feature_age_group_prod_nights_people</td>\n",
              "      <td>0.528841</td>\n",
              "    </tr>\n",
              "    <tr>\n",
              "      <th>21</th>\n",
              "      <td>f_min</td>\n",
              "      <td>0.528558</td>\n",
              "    </tr>\n",
              "    <tr>\n",
              "      <th>72</th>\n",
              "      <td>gb_feature_travel_with_prod_nights_people</td>\n",
              "      <td>0.504294</td>\n",
              "    </tr>\n",
              "    <tr>\n",
              "      <th>31</th>\n",
              "      <td>gb_feature_age_group_sum_nights_people</td>\n",
              "      <td>0.49749</td>\n",
              "    </tr>\n",
              "    <tr>\n",
              "      <th>98</th>\n",
              "      <td>total_male</td>\n",
              "      <td>0.478453</td>\n",
              "    </tr>\n",
              "    <tr>\n",
              "      <th>27</th>\n",
              "      <td>gb_feature_age_group_diff_male_female</td>\n",
              "      <td>0.441276</td>\n",
              "    </tr>\n",
              "    <tr>\n",
              "      <th>92</th>\n",
              "      <td>package_transport_int_Yes</td>\n",
              "      <td>0.425693</td>\n",
              "    </tr>\n",
              "    <tr>\n",
              "      <th>78</th>\n",
              "      <td>main_activity_1</td>\n",
              "      <td>0.42289</td>\n",
              "    </tr>\n",
              "    <tr>\n",
              "      <th>73</th>\n",
              "      <td>gb_feature_travel_with_sum_nights_people</td>\n",
              "      <td>0.41708</td>\n",
              "    </tr>\n",
              "    <tr>\n",
              "      <th>10</th>\n",
              "      <td>count_total_female</td>\n",
              "      <td>0.394947</td>\n",
              "    </tr>\n",
              "    <tr>\n",
              "      <th>48</th>\n",
              "      <td>gb_feature_main_activity_diff_male_female</td>\n",
              "      <td>0.357385</td>\n",
              "    </tr>\n",
              "    <tr>\n",
              "      <th>60</th>\n",
              "      <td>gb_feature_purpose_total_nights</td>\n",
              "      <td>0.310251</td>\n",
              "    </tr>\n",
              "    <tr>\n",
              "      <th>25</th>\n",
              "      <td>first_trip_tz_No</td>\n",
              "      <td>0.295683</td>\n",
              "    </tr>\n",
              "    <tr>\n",
              "      <th>57</th>\n",
              "      <td>gb_feature_purpose_diff_nights_people</td>\n",
              "      <td>0.29486</td>\n",
              "    </tr>\n",
              "    <tr>\n",
              "      <th>59</th>\n",
              "      <td>gb_feature_purpose_sum_nights_people</td>\n",
              "      <td>0.292564</td>\n",
              "    </tr>\n",
              "    <tr>\n",
              "      <th>69</th>\n",
              "      <td>gb_feature_travel_with_diff_male_female</td>\n",
              "      <td>0.283255</td>\n",
              "    </tr>\n",
              "    <tr>\n",
              "      <th>66</th>\n",
              "      <td>gb_feature_tour_arrangement_sum_nights_people</td>\n",
              "      <td>0.279951</td>\n",
              "    </tr>\n",
              "    <tr>\n",
              "      <th>84</th>\n",
              "      <td>main_activity_7</td>\n",
              "      <td>0.27155</td>\n",
              "    </tr>\n",
              "    <tr>\n",
              "      <th>32</th>\n",
              "      <td>gb_feature_age_group_total_nights</td>\n",
              "      <td>0.265389</td>\n",
              "    </tr>\n",
              "    <tr>\n",
              "      <th>1</th>\n",
              "      <td>age_group_1</td>\n",
              "      <td>0.259807</td>\n",
              "    </tr>\n",
              "    <tr>\n",
              "      <th>68</th>\n",
              "      <td>gb_feature_tour_arrangement_total_people</td>\n",
              "      <td>0.255963</td>\n",
              "    </tr>\n",
              "    <tr>\n",
              "      <th>88</th>\n",
              "      <td>package_guided_tour</td>\n",
              "      <td>0.254719</td>\n",
              "    </tr>\n",
              "    <tr>\n",
              "      <th>29</th>\n",
              "      <td>gb_feature_age_group_diff_nights_people</td>\n",
              "      <td>0.243375</td>\n",
              "    </tr>\n",
              "    <tr>\n",
              "      <th>77</th>\n",
              "      <td>is_african</td>\n",
              "      <td>0.236693</td>\n",
              "    </tr>\n",
              "    <tr>\n",
              "      <th>47</th>\n",
              "      <td>gb_feature_first_trip_tz_total_people</td>\n",
              "      <td>0.233617</td>\n",
              "    </tr>\n",
              "    <tr>\n",
              "      <th>79</th>\n",
              "      <td>main_activity_2</td>\n",
              "      <td>0.223588</td>\n",
              "    </tr>\n",
              "    <tr>\n",
              "      <th>4</th>\n",
              "      <td>age_group_4</td>\n",
              "      <td>0.220421</td>\n",
              "    </tr>\n",
              "    <tr>\n",
              "      <th>89</th>\n",
              "      <td>package_insurance</td>\n",
              "      <td>0.218994</td>\n",
              "    </tr>\n",
              "    <tr>\n",
              "      <th>90</th>\n",
              "      <td>package_sightseeing</td>\n",
              "      <td>0.202694</td>\n",
              "    </tr>\n",
              "    <tr>\n",
              "      <th>46</th>\n",
              "      <td>gb_feature_first_trip_tz_total_nights</td>\n",
              "      <td>0.198443</td>\n",
              "    </tr>\n",
              "    <tr>\n",
              "      <th>74</th>\n",
              "      <td>gb_feature_travel_with_total_nights</td>\n",
              "      <td>0.19183</td>\n",
              "    </tr>\n",
              "    <tr>\n",
              "      <th>43</th>\n",
              "      <td>gb_feature_first_trip_tz_diff_nights_people</td>\n",
              "      <td>0.190089</td>\n",
              "    </tr>\n",
              "    <tr>\n",
              "      <th>80</th>\n",
              "      <td>main_activity_3</td>\n",
              "      <td>0.160648</td>\n",
              "    </tr>\n",
              "    <tr>\n",
              "      <th>41</th>\n",
              "      <td>gb_feature_first_trip_tz_diff_male_female</td>\n",
              "      <td>0.135747</td>\n",
              "    </tr>\n",
              "    <tr>\n",
              "      <th>42</th>\n",
              "      <td>gb_feature_first_trip_tz_diff_nights</td>\n",
              "      <td>0.127245</td>\n",
              "    </tr>\n",
              "    <tr>\n",
              "      <th>93</th>\n",
              "      <td>package_transport_tz</td>\n",
              "      <td>0.125225</td>\n",
              "    </tr>\n",
              "    <tr>\n",
              "      <th>44</th>\n",
              "      <td>gb_feature_first_trip_tz_prod_nights_people</td>\n",
              "      <td>0.10787</td>\n",
              "    </tr>\n",
              "    <tr>\n",
              "      <th>67</th>\n",
              "      <td>gb_feature_tour_arrangement_total_nights</td>\n",
              "      <td>0.090185</td>\n",
              "    </tr>\n",
              "    <tr>\n",
              "      <th>82</th>\n",
              "      <td>main_activity_5</td>\n",
              "      <td>0.070666</td>\n",
              "    </tr>\n",
              "    <tr>\n",
              "      <th>5</th>\n",
              "      <td>age_group_5</td>\n",
              "      <td>0.063758</td>\n",
              "    </tr>\n",
              "    <tr>\n",
              "      <th>26</th>\n",
              "      <td>first_trip_tz_Yes</td>\n",
              "      <td>0.047471</td>\n",
              "    </tr>\n",
              "    <tr>\n",
              "      <th>83</th>\n",
              "      <td>main_activity_6</td>\n",
              "      <td>0.046705</td>\n",
              "    </tr>\n",
              "    <tr>\n",
              "      <th>2</th>\n",
              "      <td>age_group_2</td>\n",
              "      <td>0.00829</td>\n",
              "    </tr>\n",
              "    <tr>\n",
              "      <th>3</th>\n",
              "      <td>age_group_3</td>\n",
              "      <td>0.0</td>\n",
              "    </tr>\n",
              "    <tr>\n",
              "      <th>65</th>\n",
              "      <td>gb_feature_tour_arrangement_prod_nights_people</td>\n",
              "      <td>0.0</td>\n",
              "    </tr>\n",
              "    <tr>\n",
              "      <th>45</th>\n",
              "      <td>gb_feature_first_trip_tz_sum_nights_people</td>\n",
              "      <td>0.0</td>\n",
              "    </tr>\n",
              "    <tr>\n",
              "      <th>81</th>\n",
              "      <td>main_activity_4</td>\n",
              "      <td>0.0</td>\n",
              "    </tr>\n",
              "  </tbody>\n",
              "</table>\n",
              "</div>\n",
              "      <button class=\"colab-df-convert\" onclick=\"convertToInteractive('df-3208e9d3-3dd9-4834-8a13-0169b35fda1d')\"\n",
              "              title=\"Convert this dataframe to an interactive table.\"\n",
              "              style=\"display:none;\">\n",
              "        \n",
              "  <svg xmlns=\"http://www.w3.org/2000/svg\" height=\"24px\"viewBox=\"0 0 24 24\"\n",
              "       width=\"24px\">\n",
              "    <path d=\"M0 0h24v24H0V0z\" fill=\"none\"/>\n",
              "    <path d=\"M18.56 5.44l.94 2.06.94-2.06 2.06-.94-2.06-.94-.94-2.06-.94 2.06-2.06.94zm-11 1L8.5 8.5l.94-2.06 2.06-.94-2.06-.94L8.5 2.5l-.94 2.06-2.06.94zm10 10l.94 2.06.94-2.06 2.06-.94-2.06-.94-.94-2.06-.94 2.06-2.06.94z\"/><path d=\"M17.41 7.96l-1.37-1.37c-.4-.4-.92-.59-1.43-.59-.52 0-1.04.2-1.43.59L10.3 9.45l-7.72 7.72c-.78.78-.78 2.05 0 2.83L4 21.41c.39.39.9.59 1.41.59.51 0 1.02-.2 1.41-.59l7.78-7.78 2.81-2.81c.8-.78.8-2.07 0-2.86zM5.41 20L4 18.59l7.72-7.72 1.47 1.35L5.41 20z\"/>\n",
              "  </svg>\n",
              "      </button>\n",
              "      \n",
              "  <style>\n",
              "    .colab-df-container {\n",
              "      display:flex;\n",
              "      flex-wrap:wrap;\n",
              "      gap: 12px;\n",
              "    }\n",
              "\n",
              "    .colab-df-convert {\n",
              "      background-color: #E8F0FE;\n",
              "      border: none;\n",
              "      border-radius: 50%;\n",
              "      cursor: pointer;\n",
              "      display: none;\n",
              "      fill: #1967D2;\n",
              "      height: 32px;\n",
              "      padding: 0 0 0 0;\n",
              "      width: 32px;\n",
              "    }\n",
              "\n",
              "    .colab-df-convert:hover {\n",
              "      background-color: #E2EBFA;\n",
              "      box-shadow: 0px 1px 2px rgba(60, 64, 67, 0.3), 0px 1px 3px 1px rgba(60, 64, 67, 0.15);\n",
              "      fill: #174EA6;\n",
              "    }\n",
              "\n",
              "    [theme=dark] .colab-df-convert {\n",
              "      background-color: #3B4455;\n",
              "      fill: #D2E3FC;\n",
              "    }\n",
              "\n",
              "    [theme=dark] .colab-df-convert:hover {\n",
              "      background-color: #434B5C;\n",
              "      box-shadow: 0px 1px 3px 1px rgba(0, 0, 0, 0.15);\n",
              "      filter: drop-shadow(0px 1px 2px rgba(0, 0, 0, 0.3));\n",
              "      fill: #FFFFFF;\n",
              "    }\n",
              "  </style>\n",
              "\n",
              "      <script>\n",
              "        const buttonEl =\n",
              "          document.querySelector('#df-3208e9d3-3dd9-4834-8a13-0169b35fda1d button.colab-df-convert');\n",
              "        buttonEl.style.display =\n",
              "          google.colab.kernel.accessAllowed ? 'block' : 'none';\n",
              "\n",
              "        async function convertToInteractive(key) {\n",
              "          const element = document.querySelector('#df-3208e9d3-3dd9-4834-8a13-0169b35fda1d');\n",
              "          const dataTable =\n",
              "            await google.colab.kernel.invokeFunction('convertToInteractive',\n",
              "                                                     [key], {});\n",
              "          if (!dataTable) return;\n",
              "\n",
              "          const docLinkHtml = 'Like what you see? Visit the ' +\n",
              "            '<a target=\"_blank\" href=https://colab.research.google.com/notebooks/data_table.ipynb>data table notebook</a>'\n",
              "            + ' to learn more about interactive tables.';\n",
              "          element.innerHTML = '';\n",
              "          dataTable['output_type'] = 'display_data';\n",
              "          await google.colab.output.renderOutput(dataTable, element);\n",
              "          const docLink = document.createElement('div');\n",
              "          docLink.innerHTML = docLinkHtml;\n",
              "          element.appendChild(docLink);\n",
              "        }\n",
              "      </script>\n",
              "    </div>\n",
              "  </div>\n",
              "  "
            ]
          },
          "metadata": {},
          "execution_count": 73
        }
      ],
      "source": [
        "pd.options.display.max_rows = 2200\n",
        "#define a function to create variable importance dataframe\n",
        "def get_catt_varimp(model, train_columns, max_vars=350):\n",
        "    \n",
        "    # Scikit-learn API LGBMClassifier or LGBMRegressor was fitted, \n",
        "    # so using feature_importances_ property\n",
        "    feature_importances_perc = (model.feature_importances_ / sum(model.feature_importances_)) * 100\n",
        "    cv_varimp_df = pd.DataFrame([train_columns, feature_importances_perc]).T\n",
        "\n",
        "    cv_varimp_df.columns = ['feature_name', 'varimp (%)']\n",
        "\n",
        "    cv_varimp_df.sort_values(by='varimp (%)', ascending=False, inplace=True)\n",
        "\n",
        "    cv_varimp_df = cv_varimp_df.iloc[0:max_vars]   \n",
        "\n",
        "    return cv_varimp_df\n",
        "#\n",
        "get_catt_varimp(model, X.columns)"
      ]
    },
    {
      "cell_type": "markdown",
      "metadata": {
        "id": "S0mVqDO1ve-m"
      },
      "source": [
        "### SELECT ONLY THOSE WITH IMPORTANCE > 0"
      ]
    },
    {
      "cell_type": "code",
      "execution_count": null,
      "metadata": {
        "id": "rjwHFcCKve-n"
      },
      "outputs": [],
      "source": [
        "feature_importance_df = pd.DataFrame(model.feature_importances_, columns=['importance'])\n",
        "feature_importance_df['feature'] = X.columns"
      ]
    },
    {
      "cell_type": "code",
      "execution_count": null,
      "metadata": {
        "id": "c1zZozbHve-n"
      },
      "outputs": [],
      "source": [
        "feature_importance_df.sort_values(by='importance', ascending=False, inplace=True)\n",
        "feat = feature_importance_df[feature_importance_df['importance']>0]"
      ]
    },
    {
      "cell_type": "code",
      "execution_count": null,
      "metadata": {
        "colab": {
          "base_uri": "https://localhost:8080/"
        },
        "id": "9dJCHRWCve-n",
        "outputId": "f2bec87c-32ec-4abb-a7ec-445b3130dab4"
      },
      "outputs": [
        {
          "output_type": "execute_result",
          "data": {
            "text/plain": [
              "(18506, 100)"
            ]
          },
          "metadata": {},
          "execution_count": 76
        }
      ],
      "source": [
        "important = feat['feature'].values\n",
        "X =X[important]\n",
        "X.shape"
      ]
    },
    {
      "cell_type": "markdown",
      "metadata": {
        "id": "N6oVtkJOve-p"
      },
      "source": [
        "### REDUCE THE FEATURES WITH MORE THAN 0.9 CORRELATION"
      ]
    },
    {
      "cell_type": "code",
      "execution_count": null,
      "metadata": {
        "id": "v4cVjF2Qve-p"
      },
      "outputs": [],
      "source": [
        "corr = X.corr()\n",
        "# sns.heatmap(corr)\n",
        "#\n",
        "columns = np.full((corr.shape[0],), True, dtype=bool)\n",
        "for i in range(corr.shape[0]):\n",
        "    for j in range(i+1, corr.shape[0]):\n",
        "        if corr.iloc[i,j] >= 0.9:\n",
        "            if columns[j]:\n",
        "                columns[j] = False\n",
        "selected_columns = X.columns[columns]\n",
        "X = X[selected_columns]"
      ]
    },
    {
      "cell_type": "markdown",
      "metadata": {
        "id": "at6-od4nve-p"
      },
      "source": [
        "### NEW TRAIN AND TEST FROM THE SELECTED_COLUMNS"
      ]
    },
    {
      "cell_type": "code",
      "execution_count": null,
      "metadata": {
        "colab": {
          "base_uri": "https://localhost:8080/"
        },
        "id": "bGrRRKeIve-q",
        "outputId": "b752a27b-d1b7-424e-c61f-67b68ab5baf2"
      },
      "outputs": [
        {
          "output_type": "execute_result",
          "data": {
            "text/plain": [
              "((18506, 63), (6169, 63))"
            ]
          },
          "metadata": {},
          "execution_count": 78
        }
      ],
      "source": [
        "train = train_df[selected_columns]\n",
        "test = test_df[selected_columns]\n",
        "train.shape,test.shape"
      ]
    },
    {
      "cell_type": "code",
      "execution_count": null,
      "metadata": {
        "id": "IfKOQLl8ve-q"
      },
      "outputs": [],
      "source": [
        "train['Tour_ID'] = train_df['Tour_ID']\n",
        "test['Tour_ID'] = test_df['Tour_ID']\n",
        "train['cost_category'] = train_df['cost_category']"
      ]
    },
    {
      "cell_type": "code",
      "execution_count": null,
      "metadata": {
        "colab": {
          "base_uri": "https://localhost:8080/"
        },
        "id": "wQo6Jzhjve-r",
        "outputId": "ebdfca43-5be9-402a-8100-406035361771"
      },
      "outputs": [
        {
          "output_type": "execute_result",
          "data": {
            "text/plain": [
              "((18506, 65), (6169, 64))"
            ]
          },
          "metadata": {},
          "execution_count": 80
        }
      ],
      "source": [
        "train.to_csv(path+ 'winning_train.csv',index=False)\n",
        "test.to_csv(path + 'winning_test.csv',index=False)\n",
        "train.shape,test.shape"
      ]
    },
    {
      "cell_type": "markdown",
      "metadata": {
        "id": "ibjGVNB2ve-r"
      },
      "source": [
        "### MODELLING"
      ]
    },
    {
      "cell_type": "code",
      "execution_count": null,
      "metadata": {
        "colab": {
          "base_uri": "https://localhost:8080/"
        },
        "id": "qLyEBxxfve-s",
        "outputId": "6baa388e-9731-4595-eca8-23cd382c84f5"
      },
      "outputs": [
        {
          "output_type": "execute_result",
          "data": {
            "text/plain": [
              "((18506, 65), (6169, 64))"
            ]
          },
          "metadata": {},
          "execution_count": 81
        }
      ],
      "source": [
        "train_df = pd.read_csv(path + \"winning_train.csv\")\n",
        "test_df = pd.read_csv(path + \"winning_test.csv\")\n",
        "sample_submission = pd.read_csv(path+ \"SampleSubmission.csv\")\n",
        "train_df.shape,test_df.shape"
      ]
    },
    {
      "cell_type": "code",
      "execution_count": null,
      "metadata": {
        "colab": {
          "base_uri": "https://localhost:8080/"
        },
        "id": "5Liapr75ve-s",
        "outputId": "827800f6-d224-4058-efb2-58495a5046d5"
      },
      "outputs": [
        {
          "output_type": "execute_result",
          "data": {
            "text/plain": [
              "((18506, 63), (6169, 63))"
            ]
          },
          "metadata": {},
          "execution_count": 82
        }
      ],
      "source": [
        "X = train.drop(columns=['Tour_ID','cost_category'])\n",
        "y = train['cost_category']\n",
        "X_test = test_df.drop(columns=['Tour_ID'])\n",
        "X.shape,X_test.shape"
      ]
    },
    {
      "cell_type": "code",
      "execution_count": null,
      "metadata": {
        "colab": {
          "base_uri": "https://localhost:8080/"
        },
        "id": "ejRfOUDnve-s",
        "outputId": "b717a908-765e-478e-d9c5-3282b6fa957b"
      },
      "outputs": [
        {
          "output_type": "stream",
          "name": "stdout",
          "text": [
            "err:  1.028286098813759\n",
            "err:  1.0498150680574345\n",
            "err:  1.0532040088178174\n",
            "err:  1.0608870128220773\n",
            "err:  1.0927631557067121\n",
            "err:  1.032852787517459\n",
            "err:  1.0397215835994715\n",
            "err:  1.0539089717867307\n",
            "err:  1.0388964267470575\n",
            "err:  1.0740166760633358\n",
            "1.0524351789931854\n"
          ]
        }
      ],
      "source": [
        "fold_pred=[]\n",
        "oof_pred = []\n",
        "\n",
        "params =     params = {\n",
        "        'iterations':10000,\n",
        "        'random_state':42,\n",
        "        'bootstrap_type':'Bernoulli',\n",
        "        'max_depth': 7,\n",
        "        'learning_rate': 0.008436034013684798,\n",
        "        'l2_leaf_reg': 0.8908564261285311,\n",
        "\n",
        "        \n",
        "   \n",
        "        \n",
        "         }\n",
        " \n",
        "\n",
        "\n",
        "\n",
        "\n",
        "fold= StratifiedKFold(n_splits=10)#15#5#10\n",
        "i=1\n",
        "for train_index, test_index in fold.split(X,y):     \n",
        "  \n",
        "    X_train, X_test = X.iloc[train_index], X.iloc[test_index]\n",
        "    y_train, y_test = y.iloc[train_index], y.iloc[test_index]\n",
        "\n",
        "\n",
        "    model = catt.CatBoostClassifier(**params)\n",
        "\n",
        "    model.fit(X_train,y_train,eval_set=[(X_train,y_train),(X_test, y_test)], early_stopping_rounds=250, verbose = False)#erly100\n",
        "\n",
        "    preds= model.predict_proba(X_test)\n",
        "    print(\"err: \",(log_loss(y_test,preds)))  \n",
        "    oof_pred.append(log_loss(y_test,preds))\n",
        "    p2 = model.predict_proba(test_df[X.columns])\n",
        "    fold_pred.append(p2)\n",
        "    \n",
        "\n",
        "print(np.mean(oof_pred))"
      ]
    },
    {
      "cell_type": "code",
      "execution_count": null,
      "metadata": {
        "colab": {
          "base_uri": "https://localhost:8080/",
          "height": 658
        },
        "id": "HW2mj_yVve-u",
        "outputId": "888e507a-ec51-4b99-8a0b-0bbcb92b97ea"
      },
      "outputs": [
        {
          "output_type": "execute_result",
          "data": {
            "text/plain": [
              "Text(0.5, 1.0, 'CatBoostClassifier features importance (top 50):')"
            ]
          },
          "metadata": {},
          "execution_count": 84
        },
        {
          "output_type": "display_data",
          "data": {
            "text/plain": [
              "<Figure size 1440x864 with 1 Axes>"
            ],
            "image/png": "[encoded data removed]"
          },
          "metadata": {
            "needs_background": "light"
          }
        }
      ],
      "source": [
        "feature_importance_df = pd.DataFrame(model.feature_importances_, columns=['importance'])\n",
        "feature_importance_df['feature'] = X.columns\n",
        "\n",
        "plt.figure(figsize=(20, 12));\n",
        "sb.barplot(x=\"importance\", y=\"feature\", data=feature_importance_df.sort_values(by = ['importance'], ascending = False).head(60))\n",
        "plt.title('CatBoostClassifier features importance (top 50):')"
      ]
    },
    {
      "cell_type": "code",
      "execution_count": null,
      "metadata": {
        "colab": {
          "base_uri": "https://localhost:8080/",
          "height": 206
        },
        "id": "-VB6z_Fpve-u",
        "outputId": "66dd5f13-e181-49be-88ef-4847dcadffdb"
      },
      "outputs": [
        {
          "output_type": "execute_result",
          "data": {
            "text/plain": [
              "           Tour_ID  High Cost  Higher Cost  Highest Cost  Low Cost  \\\n",
              "0  tour_idynufedne   0.123826     0.029802      0.000466  0.068726   \n",
              "1  tour_id9r3y5moe   0.274492     0.518013      0.020294  0.008735   \n",
              "2  tour_idf6itml6g   0.671054     0.166856      0.003703  0.008265   \n",
              "3  tour_id99u4znru   0.027442     0.014902      0.000224  0.277484   \n",
              "4  tour_idj4i9urbx   0.017081     0.008004      0.000131  0.274360   \n",
              "\n",
              "   Lower Cost  Normal Cost  \n",
              "0    0.030991     0.746190  \n",
              "1    0.019701     0.158766  \n",
              "2    0.003971     0.146151  \n",
              "3    0.142620     0.537327  \n",
              "4    0.304999     0.395425  "
            ],
            "text/html": [
              "\n",
              "  <div id=\"df-bae04914-dd92-4f38-b2a9-99e45f2a1d50\">\n",
              "    <div class=\"colab-df-container\">\n",
              "      <div>\n",
              "<style scoped>\n",
              "    .dataframe tbody tr th:only-of-type {\n",
              "        vertical-align: middle;\n",
              "    }\n",
              "\n",
              "    .dataframe tbody tr th {\n",
              "        vertical-align: top;\n",
              "    }\n",
              "\n",
              "    .dataframe thead th {\n",
              "        text-align: right;\n",
              "    }\n",
              "</style>\n",
              "<table border=\"1\" class=\"dataframe\">\n",
              "  <thead>\n",
              "    <tr style=\"text-align: right;\">\n",
              "      <th></th>\n",
              "      <th>Tour_ID</th>\n",
              "      <th>High Cost</th>\n",
              "      <th>Higher Cost</th>\n",
              "      <th>Highest Cost</th>\n",
              "      <th>Low Cost</th>\n",
              "      <th>Lower Cost</th>\n",
              "      <th>Normal Cost</th>\n",
              "    </tr>\n",
              "  </thead>\n",
              "  <tbody>\n",
              "    <tr>\n",
              "      <th>0</th>\n",
              "      <td>tour_idynufedne</td>\n",
              "      <td>0.123826</td>\n",
              "      <td>0.029802</td>\n",
              "      <td>0.000466</td>\n",
              "      <td>0.068726</td>\n",
              "      <td>0.030991</td>\n",
              "      <td>0.746190</td>\n",
              "    </tr>\n",
              "    <tr>\n",
              "      <th>1</th>\n",
              "      <td>tour_id9r3y5moe</td>\n",
              "      <td>0.274492</td>\n",
              "      <td>0.518013</td>\n",
              "      <td>0.020294</td>\n",
              "      <td>0.008735</td>\n",
              "      <td>0.019701</td>\n",
              "      <td>0.158766</td>\n",
              "    </tr>\n",
              "    <tr>\n",
              "      <th>2</th>\n",
              "      <td>tour_idf6itml6g</td>\n",
              "      <td>0.671054</td>\n",
              "      <td>0.166856</td>\n",
              "      <td>0.003703</td>\n",
              "      <td>0.008265</td>\n",
              "      <td>0.003971</td>\n",
              "      <td>0.146151</td>\n",
              "    </tr>\n",
              "    <tr>\n",
              "      <th>3</th>\n",
              "      <td>tour_id99u4znru</td>\n",
              "      <td>0.027442</td>\n",
              "      <td>0.014902</td>\n",
              "      <td>0.000224</td>\n",
              "      <td>0.277484</td>\n",
              "      <td>0.142620</td>\n",
              "      <td>0.537327</td>\n",
              "    </tr>\n",
              "    <tr>\n",
              "      <th>4</th>\n",
              "      <td>tour_idj4i9urbx</td>\n",
              "      <td>0.017081</td>\n",
              "      <td>0.008004</td>\n",
              "      <td>0.000131</td>\n",
              "      <td>0.274360</td>\n",
              "      <td>0.304999</td>\n",
              "      <td>0.395425</td>\n",
              "    </tr>\n",
              "  </tbody>\n",
              "</table>\n",
              "</div>\n",
              "      <button class=\"colab-df-convert\" onclick=\"convertToInteractive('df-bae04914-dd92-4f38-b2a9-99e45f2a1d50')\"\n",
              "              title=\"Convert this dataframe to an interactive table.\"\n",
              "              style=\"display:none;\">\n",
              "        \n",
              "  <svg xmlns=\"http://www.w3.org/2000/svg\" height=\"24px\"viewBox=\"0 0 24 24\"\n",
              "       width=\"24px\">\n",
              "    <path d=\"M0 0h24v24H0V0z\" fill=\"none\"/>\n",
              "    <path d=\"M18.56 5.44l.94 2.06.94-2.06 2.06-.94-2.06-.94-.94-2.06-.94 2.06-2.06.94zm-11 1L8.5 8.5l.94-2.06 2.06-.94-2.06-.94L8.5 2.5l-.94 2.06-2.06.94zm10 10l.94 2.06.94-2.06 2.06-.94-2.06-.94-.94-2.06-.94 2.06-2.06.94z\"/><path d=\"M17.41 7.96l-1.37-1.37c-.4-.4-.92-.59-1.43-.59-.52 0-1.04.2-1.43.59L10.3 9.45l-7.72 7.72c-.78.78-.78 2.05 0 2.83L4 21.41c.39.39.9.59 1.41.59.51 0 1.02-.2 1.41-.59l7.78-7.78 2.81-2.81c.8-.78.8-2.07 0-2.86zM5.41 20L4 18.59l7.72-7.72 1.47 1.35L5.41 20z\"/>\n",
              "  </svg>\n",
              "      </button>\n",
              "      \n",
              "  <style>\n",
              "    .colab-df-container {\n",
              "      display:flex;\n",
              "      flex-wrap:wrap;\n",
              "      gap: 12px;\n",
              "    }\n",
              "\n",
              "    .colab-df-convert {\n",
              "      background-color: #E8F0FE;\n",
              "      border: none;\n",
              "      border-radius: 50%;\n",
              "      cursor: pointer;\n",
              "      display: none;\n",
              "      fill: #1967D2;\n",
              "      height: 32px;\n",
              "      padding: 0 0 0 0;\n",
              "      width: 32px;\n",
              "    }\n",
              "\n",
              "    .colab-df-convert:hover {\n",
              "      background-color: #E2EBFA;\n",
              "      box-shadow: 0px 1px 2px rgba(60, 64, 67, 0.3), 0px 1px 3px 1px rgba(60, 64, 67, 0.15);\n",
              "      fill: #174EA6;\n",
              "    }\n",
              "\n",
              "    [theme=dark] .colab-df-convert {\n",
              "      background-color: #3B4455;\n",
              "      fill: #D2E3FC;\n",
              "    }\n",
              "\n",
              "    [theme=dark] .colab-df-convert:hover {\n",
              "      background-color: #434B5C;\n",
              "      box-shadow: 0px 1px 3px 1px rgba(0, 0, 0, 0.15);\n",
              "      filter: drop-shadow(0px 1px 2px rgba(0, 0, 0, 0.3));\n",
              "      fill: #FFFFFF;\n",
              "    }\n",
              "  </style>\n",
              "\n",
              "      <script>\n",
              "        const buttonEl =\n",
              "          document.querySelector('#df-bae04914-dd92-4f38-b2a9-99e45f2a1d50 button.colab-df-convert');\n",
              "        buttonEl.style.display =\n",
              "          google.colab.kernel.accessAllowed ? 'block' : 'none';\n",
              "\n",
              "        async function convertToInteractive(key) {\n",
              "          const element = document.querySelector('#df-bae04914-dd92-4f38-b2a9-99e45f2a1d50');\n",
              "          const dataTable =\n",
              "            await google.colab.kernel.invokeFunction('convertToInteractive',\n",
              "                                                     [key], {});\n",
              "          if (!dataTable) return;\n",
              "\n",
              "          const docLinkHtml = 'Like what you see? Visit the ' +\n",
              "            '<a target=\"_blank\" href=https://colab.research.google.com/notebooks/data_table.ipynb>data table notebook</a>'\n",
              "            + ' to learn more about interactive tables.';\n",
              "          element.innerHTML = '';\n",
              "          dataTable['output_type'] = 'display_data';\n",
              "          await google.colab.output.renderOutput(dataTable, element);\n",
              "          const docLink = document.createElement('div');\n",
              "          docLink.innerHTML = docLinkHtml;\n",
              "          element.appendChild(docLink);\n",
              "        }\n",
              "      </script>\n",
              "    </div>\n",
              "  </div>\n",
              "  "
            ]
          },
          "metadata": {},
          "execution_count": 85
        }
      ],
      "source": [
        "preds = np.mean(fold_pred,axis=0)\n",
        "preds_df = pd.DataFrame(preds, columns=['High Cost','Higher Cost','Highest Cost','Low Cost','Lower Cost','Normal Cost'])\n",
        "preds_df = pd.concat(objs=[test_df['Tour_ID'], preds_df], axis=\"columns\")\n",
        "preds_df.head()"
      ]
    },
    {
      "cell_type": "code",
      "execution_count": null,
      "metadata": {
        "id": "-Vq0kTYjve-v"
      },
      "outputs": [],
      "source": [
        "preds_df.to_csv(path + 'winning_sub.csv', index=False)"
      ]
    },
    {
      "cell_type": "markdown",
      "metadata": {
        "id": "fEiLxhP4ve-v"
      },
      "source": [
        ""
      ]
    }
  ],
  "metadata": {
    "kernelspec": {
      "display_name": "Python 3 (ipykernel)",
      "language": "python",
      "name": "python3"
    },
    "language_info": {
      "codemirror_mode": {
        "name": "ipython",
        "version": 3
      },
      "file_extension": ".py",
      "mimetype": "text/x-python",
      "name": "python",
      "nbconvert_exporter": "python",
      "pygments_lexer": "ipython3",
      "version": "3.8.10"
    },
    "colab": {
      "name": "Winning_solution_everything.ipynb",
      "provenance": [],
      "include_colab_link": true
    }
  },
  "nbformat": 4,
  "nbformat_minor": 0
}